{
 "cells": [
  {
   "cell_type": "markdown",
   "metadata": {
    "focus": false,
    "id": "cc166dbc-d723-4076-8dd8-a290d911dc9b"
   },
   "source": [
    "# Project 4: Web Scraping Indeed.com & Predicting Salaries"
   ]
  },
  {
   "cell_type": "markdown",
   "metadata": {
    "focus": false,
    "id": "59b0deac-55d6-4908-8dee-ce68611486f0"
   },
   "source": [
    "In Project 4, we practice two major skills: collecting data via  web scraping and building a binary predictor with Logistic Regression.\n",
    "\n",
    "We will collect salary information on data science jobs in a variety of markets. Using location, title, and job summary, we'll predict the salary of the job. For job posting sites, this is extraordinarily useful. While most listings DO NOT come with salary information (as you will see in this exercise), extrapolating expected salary can help guide negotiations.\n",
    "\n",
    "Normally, we can use regression for this task; however, we will convert this problem into classification and use Logistic Regression.\n",
    "\n",
    "- Q: Why would we want this to be a classification problem?\n",
    "- A: While more precision may be better, there is a fair amount of natural variance in job salaries - predicting a range be may be useful.\n",
    "\n",
    "Section one focuses on scraping Indeed.com; then we use listings with salary information to build a model and predict additional salaries."
   ]
  },
  {
   "cell_type": "markdown",
   "metadata": {
    "focus": false,
    "id": "1321e3c4-2105-428e-9b1b-6d958453ef1d"
   },
   "source": [
    "### Scraping job listings from Indeed.com"
   ]
  },
  {
   "cell_type": "markdown",
   "metadata": {
    "focus": false,
    "id": "9d959074-bf26-4000-b0da-11273e253776"
   },
   "source": [
    "Scrape job listings from Indeed.com using BeautifulSoup. Luckily, Indeed.com is a simple text page where we can easily find relevant entries. First, look at the source of an Indeed.com page: (http://www.indeed.com/jobs?q=data+scientist+%2420%2C000&l=New+York&start=10\")\n",
    "\n",
    "Notice, each job listing is underneath a `div` tag with a class name of `result`. We can use BeautifulSoup to extract."
   ]
  },
  {
   "cell_type": "markdown",
   "metadata": {
    "focus": false,
    "id": "d9f7b5d1-b227-4bda-a87b-1606b62fb60b"
   },
   "source": [
    "#### Setup a request (using `requests`) to the URL below. Use BeautifulSoup to parse the page and extract all results (HINT: Look for div tags with class name result)\n",
    "\n",
    "The URL here has many query parameters\n",
    "\n",
    "- `q` for the job search\n",
    "- This is followed by \"+20,000\" to return results with salaries (or expected salaries >$20,000)\n",
    "- `l` for a location \n",
    "- `start` for what result number to start on"
   ]
  },
  {
   "cell_type": "code",
   "execution_count": 1,
   "metadata": {
    "collapsed": false
   },
   "outputs": [],
   "source": [
    "# import sys\n",
    "# reload(sys)\n",
    "# sys.setdefaultencoding('utf-8')\n",
    "\n",
    "import requests\n",
    "import bs4\n",
    "from bs4 import BeautifulSoup\n",
    "import pandas as pd\n",
    "import statsmodels.formula.api as sm\n",
    "import re\n",
    "import numpy as np\n",
    "from sklearn.cross_validation import cross_val_score, train_test_split\n",
    "from sklearn.linear_model import LogisticRegression\n",
    "from sklearn.preprocessing import StandardScaler\n",
    "from patsy import dmatrix\n",
    "from sklearn.metrics import confusion_matrix, classification_report, recall_score, roc_auc_score, roc_curve, auc, accuracy_score, precision_score\n",
    "import matplotlib.pyplot as plt\n",
    "plt.style.use('seaborn-white')\n",
    "# import geocoder\n",
    "# from geopy.geocoders import Nominatim\n",
    "# from geopy.distance import vincenty\n",
    "%matplotlib inline\n"
   ]
  },
  {
   "cell_type": "code",
   "execution_count": 2,
   "metadata": {
    "collapsed": false,
    "focus": false,
    "id": "911505d6-159f-4146-967d-a8482fe27e3d"
   },
   "outputs": [],
   "source": [
    "URL = \"http://www.indeed.com/jobs?q=data+scientist\"\n",
    "\n",
    "r = requests.get(URL)\n",
    "soup = BeautifulSoup(r.content, \"lxml\")\n",
    "\n",
    "results = soup.findAll('div', { \"class\" : \"result\" })"
   ]
  },
  {
   "cell_type": "markdown",
   "metadata": {
    "focus": false,
    "id": "963bb376-7746-43ce-98ec-ea4162f7ead6"
   },
   "source": [
    "Let's look at one result more closely. A single `result` looks like\n",
    "\n",
    "```\n",
    "<div class=\" row result\" data-jk=\"2480d203f7e97210\" data-tn-component=\"organicJob\" id=\"p_2480d203f7e97210\" itemscope=\"\" itemtype=\"http://schema.org/JobPosting\">\n",
    "<h2 class=\"jobtitle\" id=\"jl_2480d203f7e97210\">\n",
    "<a class=\"turnstileLink\" data-tn-element=\"jobTitle\" onmousedown=\"return rclk(this,jobmap[0],1);\" rel=\"nofollow\" target=\"_blank\" title=\"AVP/Quantitative Analyst\">AVP/Quantitative Analyst</a>\n",
    "</h2>\n",
    "<span class=\"company\" itemprop=\"hiringOrganization\" itemtype=\"http://schema.org/Organization\">\n",
    "<span itemprop=\"name\">\n",
    "<a href=\"/cmp/Alliancebernstein?from=SERP&amp;campaignid=serp-linkcompanyname&amp;fromjk=2480d203f7e97210&amp;jcid=b374f2a780e04789\" target=\"_blank\">\n",
    "    AllianceBernstein</a></span>\n",
    "</span>\n",
    "<tr>\n",
    "<td class=\"snip\">\n",
    "<nobr>$117,500 - $127,500 a year</nobr>\n",
    "<div>\n",
    "<span class=\"summary\" itemprop=\"description\">\n",
    "C onduct quantitative and statistical research as well as portfolio management for various investment portfolios. Collaborate with Quantitative Analysts and</span>\n",
    "</div>\n",
    "</div>\n",
    "</td>\n",
    "</tr>\n",
    "</table>\n",
    "</div>\n",
    "```\n",
    "\n",
    "While this has some of the more verbose elements removed, we can see that there is some structure to the above:\n",
    "- The salary is available in a `nobr` element inside of a `td` element with `class='snip`.\n",
    "- The title of a job is in a link with class set to `jobtitle` and a `data-tn-element=\"jobTitle`.  \n",
    "- The location is set in a `span` with `class='location'`. \n",
    "- The company is set in a `span` with `class='company'`. "
   ]
  },
  {
   "cell_type": "markdown",
   "metadata": {
    "focus": false,
    "id": "27b6ffb9-b42f-4298-b07a-10e3bab030cd"
   },
   "source": [
    "### Write 4 functions to extract each item: location, company, job, and salary.\n",
    "\n",
    "example: \n",
    "```python\n",
    "def extract_location_from_result(result):\n",
    "    return result.find ...\n",
    "```\n",
    "\n",
    "- Make sure these functions are robust and can handle cases where the data/field may not be available\n",
    "- Test the functions on the results above"
   ]
  },
  {
   "cell_type": "code",
   "execution_count": 3,
   "metadata": {
    "collapsed": true,
    "focus": false,
    "id": "f4b0755f-42e1-438f-89fc-131a60b781cd"
   },
   "outputs": [],
   "source": [
    "# get text\n",
    "def extract_text(el):\n",
    "    if el:\n",
    "        return el.text.strip()\n",
    "    else:\n",
    "        return ''\n",
    "        \n",
    "# company\n",
    "def get_company_from_result(result):\n",
    "    return extract_text(result.find('span', {'class' : 'company'}))\n",
    "    \n",
    "# location\n",
    "def get_location_from_result(result):\n",
    "    return extract_text(result.find('span', {'class' : 'location'}))\n",
    "\n",
    "# summary\n",
    "def get_summary_from_result(result):\n",
    "    return extract_text(result.find('span', {'class' : 'summary'}))\n",
    "\n",
    "# title\n",
    "def get_title_from_result(result):\n",
    "    return extract_text(result.find('a', {'data-tn-element' : 'jobTitle'}))\n",
    "\n",
    "# get salary if exists\n",
    "def get_salary_from_result(result):\n",
    "    salary_table = result.find('td', {'class' : 'snip'})\n",
    "    if salary_table:\n",
    "        snip = salary_table.find('nobr')\n",
    "        if snip:\n",
    "            return snip.text.strip()   \n",
    "    return None\n",
    "\n",
    "\n",
    "# def get_sponsored_from_result(result):\n",
    "#     return extract_text(result.find('span', {'class' : 'sdn'}))"
   ]
  },
  {
   "cell_type": "markdown",
   "metadata": {
    "focus": false,
    "id": "dc1d32a3-b13c-4919-8723-ce50dbc7660f"
   },
   "source": [
    "Now, to scale up our scraping, we need to accumulate more results. We can do this by examining the URL above.\n",
    "\n",
    "- \"http://www.indeed.com/jobs?q=data+scientist+%2420%2C000&l=New+York&start=10\"\n",
    "\n",
    "There are two query parameters here we can alter to collect more results: the `l=New+York` and the `start=10`. The first controls the location of the results (so we can try different city). The second controls where in the results to start and gives 10 results (so we can keep incrementing this by 10 to move further within the list)."
   ]
  },
  {
   "cell_type": "markdown",
   "metadata": {
    "focus": false,
    "id": "27584c3f-f552-40a2-842a-0681b1fd6265"
   },
   "source": [
    "#### Complete the following code to collect results from multiple cities and start points. \n",
    "- Enter your city below to add it to the search\n",
    "- Remember to convert your salary to U.S. Dollars to match the other cities if the currency is different"
   ]
  },
  {
   "cell_type": "code",
   "execution_count": 4,
   "metadata": {
    "collapsed": true,
    "focus": false,
    "id": "20a34e35-a4db-44eb-8490-9903f8bcf406"
   },
   "outputs": [],
   "source": [
    "# specify city\n",
    "cities = ['Georgia', 'New+York', 'San+Francisco', 'Boston', 'San+Diego', 'Chicago', 'Washington', 'Los+Angeles', 'California', 'Maryland', 'Texas', 'Minnesota', 'Florida', 'North+Carolina', 'South+Carolina']"
   ]
  },
  {
   "cell_type": "code",
   "execution_count": 5,
   "metadata": {
    "collapsed": false,
    "focus": false,
    "id": "b02e2931-4d5a-4e1e-9504-c6ccaaf84bed"
   },
   "outputs": [
    {
     "name": "stderr",
     "output_type": "stream",
     "text": [
      "//anaconda/envs/py27/lib/python2.7/site-packages/bs4/__init__.py:181: UserWarning: No parser was explicitly specified, so I'm using the best available HTML parser for this system (\"lxml\"). This usually isn't a problem, but if you run this code on another system, or in a different virtual environment, it may use a different parser and behave differently.\n",
      "\n",
      "The code that caused this warning is on line 174 of the file //anaconda/envs/py27/lib/python2.7/runpy.py. To get rid of this warning, change code that looks like this:\n",
      "\n",
      " BeautifulSoup([your markup])\n",
      "\n",
      "to this:\n",
      "\n",
      " BeautifulSoup([your markup], \"lxml\")\n",
      "\n",
      "  markup_type=markup_type))\n"
     ]
    }
   ],
   "source": [
    "# create template URL and max number of results (pages) to pull\n",
    "url_template = \"http://www.indeed.com/jobs?q=data+scientist&l={}&start={}\"\n",
    "\n",
    "# for loop to pull data with bs4\n",
    "for city in set(cities):\n",
    "    for start in range(0, 200, 10):\n",
    "        r = requests.get(url_template.format(city, start))\n",
    "        # Grab the results from the request (as above)\n",
    "        soup = BeautifulSoup(r.content)\n",
    "        # Append to the full set of results\n",
    "        results += soup.findAll('div', { \"class\" : \"result\" })"
   ]
  },
  {
   "cell_type": "markdown",
   "metadata": {
    "focus": false,
    "id": "10eb5902-4727-4947-a167-2531aa12a427"
   },
   "source": [
    "#### Use the functions you wrote above to parse out the 4 fields - location, title, company and salary. Create a dataframe from the results with those 4 columns."
   ]
  },
  {
   "cell_type": "code",
   "execution_count": 6,
   "metadata": {
    "collapsed": false,
    "focus": false,
    "id": "d601ff2f-fbdf-4c4f-8bbe-10c4a3132cc8"
   },
   "outputs": [],
   "source": [
    "# combine data into dictionaries\n",
    "rows = []\n",
    "for result in results:\n",
    "    if result:\n",
    "        row = {\"location\":get_location_from_result(result), \"company\":get_company_from_result(result), \"title\":get_title_from_result(result), \"summary\":get_summary_from_result(result), \"salary\":get_salary_from_result(result)}\n",
    "    rows.append(row)\n",
    "\n",
    "# create dataframe\n",
    "data = pd.DataFrame(rows, columns=['company','location', 'title', 'summary', 'salary'])"
   ]
  },
  {
   "cell_type": "markdown",
   "metadata": {
    "focus": false,
    "id": "faac26dc-392a-4f90-a397-144a070702cb"
   },
   "source": [
    "Lastly, we need to clean up salary data. \n",
    "\n",
    "1. Only a small number of the scraped results have salary information - only these will be used for modeling.\n",
    "1. Some of the salaries are not yearly but hourly or weekly, these will not be useful to us for now\n",
    "1. Some of the entries may be duplicated\n",
    "1. The salaries are given as text and usually with ranges.\n",
    "\n",
    "#### Find the entries with annual salary entries, by filtering the entries without salaries or salaries that are not yearly (filter those that refer to hour or week). Also, remove duplicate entries"
   ]
  },
  {
   "cell_type": "code",
   "execution_count": 7,
   "metadata": {
    "collapsed": false,
    "focus": false,
    "id": "58ff72c5-eef2-4a86-93ac-22f84ed9b752"
   },
   "outputs": [],
   "source": [
    "# Remove duplicates\n",
    "df = data.drop_duplicates()\n",
    "# Filter to only the rows that have salary entries\n",
    "df = df[df.salary.notnull()]\n",
    "# Filter out salary entries referring to week, hour or month\n",
    "df = df[~(df.salary.astype('str').str.contains('hour'))] # example\n",
    "df = df[~(df.salary.astype('str').str.contains('week'))] \n",
    "df = df[~(df.salary.astype('str').str.contains('month'))] "
   ]
  },
  {
   "cell_type": "code",
   "execution_count": 8,
   "metadata": {
    "collapsed": true
   },
   "outputs": [],
   "source": [
    "# save scraped results as a CSV for Tableau/external viz\n",
    "df.to_csv('salary_data.csv', encoding='utf-8')"
   ]
  },
  {
   "cell_type": "markdown",
   "metadata": {
    "focus": false,
    "id": "e1f58de9-78a7-49c1-b1ff-145a8f983790"
   },
   "source": [
    "#### Write a function that takes a salary string and converts it to a number, averaging a salary range if necessary"
   ]
  },
  {
   "cell_type": "code",
   "execution_count": 9,
   "metadata": {
    "collapsed": true
   },
   "outputs": [],
   "source": [
    "# load in the the data of scraped salaries\n",
    "salary_data = pd.read_csv('salary_data.csv')"
   ]
  },
  {
   "cell_type": "code",
   "execution_count": 10,
   "metadata": {
    "collapsed": true
   },
   "outputs": [],
   "source": [
    "del salary_data['Unnamed: 0']"
   ]
  },
  {
   "cell_type": "code",
   "execution_count": 11,
   "metadata": {
    "collapsed": true,
    "focus": false,
    "id": "f2eaea83-8f84-48d3-af17-037538d06601"
   },
   "outputs": [],
   "source": [
    "def extract_salary_average(salary_string):\n",
    "    regex = r'\\$([0-9]+,[0-9]+)'\n",
    "    matches = re.findall(regex, salary_string)\n",
    "    return np.mean([float(salary.replace(',', '')) for salary in matches ])"
   ]
  },
  {
   "cell_type": "code",
   "execution_count": 12,
   "metadata": {
    "collapsed": true
   },
   "outputs": [],
   "source": [
    "salary_data = salary_data[salary_data.salary.notnull()]"
   ]
  },
  {
   "cell_type": "code",
   "execution_count": 13,
   "metadata": {
    "collapsed": false,
    "focus": false,
    "id": "2d46d846-8aeb-49c3-86ac-768c4fc81552"
   },
   "outputs": [
    {
     "name": "stderr",
     "output_type": "stream",
     "text": [
      "//anaconda/envs/py27/lib/python2.7/site-packages/numpy/core/_methods.py:59: RuntimeWarning: Mean of empty slice.\n",
      "  warnings.warn(\"Mean of empty slice.\", RuntimeWarning)\n"
     ]
    }
   ],
   "source": [
    "# use '.map' to transform salary to new feature\n",
    "salary_data['salary'] = salary_data['salary'].map(extract_salary_average)"
   ]
  },
  {
   "cell_type": "code",
   "execution_count": 14,
   "metadata": {
    "collapsed": true
   },
   "outputs": [],
   "source": [
    "def city_extract(word):\n",
    " return word.split(',')[0]\n",
    "\n",
    "def state_extract(word):\n",
    " return word.split(',')[1].split(' ')[1]"
   ]
  },
  {
   "cell_type": "code",
   "execution_count": 15,
   "metadata": {
    "collapsed": false
   },
   "outputs": [],
   "source": [
    "salary_data = salary_data[salary_data.location.str.contains(',')] "
   ]
  },
  {
   "cell_type": "code",
   "execution_count": 16,
   "metadata": {
    "collapsed": false
   },
   "outputs": [],
   "source": [
    "salary_data['state'] = pd.DataFrame({'state':salary_data['location'].apply(state_extract)})\n",
    "salary_data['city'] = pd.DataFrame({'city':salary_data['location'].apply(city_extract)})"
   ]
  },
  {
   "cell_type": "code",
   "execution_count": 17,
   "metadata": {
    "collapsed": false
   },
   "outputs": [],
   "source": [
    "del salary_data['location']"
   ]
  },
  {
   "cell_type": "markdown",
   "metadata": {
    "focus": false,
    "id": "6e8a5a1c-1580-4845-a9b6-482bc00c73cd"
   },
   "source": [
    "## Predicting salaries using Logistic Regression"
   ]
  },
  {
   "cell_type": "markdown",
   "metadata": {
    "focus": false,
    "id": "c3ed6de7-8fe0-4cf4-abbd-abb2a188e05b"
   },
   "source": [
    "#### We want to predict a binary variable - whether the salary was low or high. Compute the median salary and create a new binary variable that is true when the salary is high (above the median)"
   ]
  },
  {
   "cell_type": "code",
   "execution_count": 18,
   "metadata": {
    "collapsed": false,
    "focus": false,
    "id": "073e3f3e-21bc-4ab7-ae2e-272be0a409cc"
   },
   "outputs": [],
   "source": [
    "# calculate median and create feature with 1 as high salary\n",
    "medianSalary = salary_data['salary'].median()"
   ]
  },
  {
   "cell_type": "code",
   "execution_count": 19,
   "metadata": {
    "collapsed": true
   },
   "outputs": [],
   "source": [
    "salary_data['high_salary'] = salary_data['salary'].map(lambda x: 1 if x > medianSalary else 0)"
   ]
  },
  {
   "cell_type": "markdown",
   "metadata": {
    "focus": false,
    "id": "3c7ec3d2-87a0-4290-9d83-a6f4a9ae7e9c"
   },
   "source": [
    "### Q: What is the baseline accuracy for this model?"
   ]
  },
  {
   "cell_type": "markdown",
   "metadata": {
    "collapsed": true,
    "focus": false,
    "id": "987666b2-d8e6-4715-b499-c9d314fb70ce"
   },
   "source": [
    "It is 50% if we guess randomly, half the salaries will be below the median and half will be above."
   ]
  },
  {
   "cell_type": "markdown",
   "metadata": {
    "focus": false,
    "id": "ea7e00cb-9956-44ec-b585-7b95f4d6284c"
   },
   "source": [
    "#### Create a Logistic Regression model to predict High/Low salary using statsmodel. Start by ONLY using the location as a feature. Display the coefficients and write a short summary of what they mean."
   ]
  },
  {
   "cell_type": "code",
   "execution_count": 20,
   "metadata": {
    "collapsed": false,
    "focus": false,
    "id": "ce9161b3-eff3-475c-a087-a2be38d7f626",
    "scrolled": false
   },
   "outputs": [
    {
     "name": "stdout",
     "output_type": "stream",
     "text": [
      "Optimization terminated successfully.\n",
      "         Current function value: 0.295735\n",
      "         Iterations: 13\n",
      "         Function evaluations: 14\n",
      "         Gradient evaluations: 26\n",
      "         Hessian evaluations: 13\n"
     ]
    },
    {
     "data": {
      "text/html": [
       "<table class=\"simpletable\">\n",
       "<caption>Logit Regression Results</caption>\n",
       "<tr>\n",
       "  <th>Dep. Variable:</th>    <td>high_salary</td>   <th>  No. Observations:  </th>  <td>   144</td>  \n",
       "</tr>\n",
       "<tr>\n",
       "  <th>Model:</th>               <td>Logit</td>      <th>  Df Residuals:      </th>  <td>    91</td>  \n",
       "</tr>\n",
       "<tr>\n",
       "  <th>Method:</th>               <td>MLE</td>       <th>  Df Model:          </th>  <td>    52</td>  \n",
       "</tr>\n",
       "<tr>\n",
       "  <th>Date:</th>          <td>Tue, 22 Nov 2016</td> <th>  Pseudo R-squ.:     </th>  <td>0.5733</td>  \n",
       "</tr>\n",
       "<tr>\n",
       "  <th>Time:</th>              <td>09:48:13</td>     <th>  Log-Likelihood:    </th> <td> -42.586</td> \n",
       "</tr>\n",
       "<tr>\n",
       "  <th>converged:</th>           <td>True</td>       <th>  LL-Null:           </th> <td> -99.799</td> \n",
       "</tr>\n",
       "<tr>\n",
       "  <th> </th>                      <td> </td>        <th>  LLR p-value:       </th> <td>1.378e-06</td>\n",
       "</tr>\n",
       "</table>\n",
       "<table class=\"simpletable\">\n",
       "<tr>\n",
       "                 <td></td>                   <th>coef</th>     <th>std err</th>      <th>z</th>      <th>P>|z|</th> <th>[95.0% Conf. Int.]</th> \n",
       "</tr>\n",
       "<tr>\n",
       "  <th>Intercept</th>                      <td>   -8.3805</td> <td>   66.056</td> <td>   -0.127</td> <td> 0.899</td> <td> -137.848   121.087</td>\n",
       "</tr>\n",
       "<tr>\n",
       "  <th>city[T.Anne Arundel County]</th>    <td>   -4.8395</td> <td>  745.431</td> <td>   -0.006</td> <td> 0.995</td> <td>-1465.857  1456.178</td>\n",
       "</tr>\n",
       "<tr>\n",
       "  <th>city[T.Atlanta]</th>                <td>    9.0737</td> <td>   66.060</td> <td>    0.137</td> <td> 0.891</td> <td> -120.401   138.549</td>\n",
       "</tr>\n",
       "<tr>\n",
       "  <th>city[T.Baltimore]</th>              <td>   -6.9658</td> <td>  762.980</td> <td>   -0.009</td> <td> 0.993</td> <td>-1502.378  1488.447</td>\n",
       "</tr>\n",
       "<tr>\n",
       "  <th>city[T.Bethesda]</th>               <td>   19.7677</td> <td>  304.222</td> <td>    0.065</td> <td> 0.948</td> <td> -576.496   616.032</td>\n",
       "</tr>\n",
       "<tr>\n",
       "  <th>city[T.Boston]</th>                 <td>   21.8472</td> <td>  304.224</td> <td>    0.072</td> <td> 0.943</td> <td> -574.420   618.114</td>\n",
       "</tr>\n",
       "<tr>\n",
       "  <th>city[T.Cambridge]</th>              <td>    9.4792</td> <td>   66.066</td> <td>    0.143</td> <td> 0.886</td> <td> -120.008   138.966</td>\n",
       "</tr>\n",
       "<tr>\n",
       "  <th>city[T.Carteret County]</th>        <td>   -5.5380</td> <td>  747.406</td> <td>   -0.007</td> <td> 0.994</td> <td>-1470.427  1459.351</td>\n",
       "</tr>\n",
       "<tr>\n",
       "  <th>city[T.Chapel Hill]</th>            <td>   -5.5380</td> <td>  747.406</td> <td>   -0.007</td> <td> 0.994</td> <td>-1470.427  1459.351</td>\n",
       "</tr>\n",
       "<tr>\n",
       "  <th>city[T.Charlotte]</th>              <td>   19.7677</td> <td>  304.222</td> <td>    0.065</td> <td> 0.948</td> <td> -576.496   616.032</td>\n",
       "</tr>\n",
       "<tr>\n",
       "  <th>city[T.Chatsworth]</th>             <td>   -4.8395</td> <td>  745.431</td> <td>   -0.006</td> <td> 0.995</td> <td>-1465.857  1456.178</td>\n",
       "</tr>\n",
       "<tr>\n",
       "  <th>city[T.Chicago]</th>                <td>    9.2278</td> <td>   66.060</td> <td>    0.140</td> <td> 0.889</td> <td> -120.247   138.702</td>\n",
       "</tr>\n",
       "<tr>\n",
       "  <th>city[T.Clearwater]</th>             <td>    8.3805</td> <td>   66.071</td> <td>    0.127</td> <td> 0.899</td> <td> -121.117   137.878</td>\n",
       "</tr>\n",
       "<tr>\n",
       "  <th>city[T.Coral Gables]</th>           <td>    6.5888</td> <td>   66.065</td> <td>    0.100</td> <td> 0.921</td> <td> -122.896   136.074</td>\n",
       "</tr>\n",
       "<tr>\n",
       "  <th>city[T.Dallas]</th>                 <td>   19.7677</td> <td>  304.222</td> <td>    0.065</td> <td> 0.948</td> <td> -576.496   616.032</td>\n",
       "</tr>\n",
       "<tr>\n",
       "  <th>city[T.Daytona Beach]</th>          <td>   -4.8395</td> <td>  745.431</td> <td>   -0.006</td> <td> 0.995</td> <td>-1465.857  1456.178</td>\n",
       "</tr>\n",
       "<tr>\n",
       "  <th>city[T.Durham]</th>                 <td>   19.7677</td> <td>  304.222</td> <td>    0.065</td> <td> 0.948</td> <td> -576.496   616.032</td>\n",
       "</tr>\n",
       "<tr>\n",
       "  <th>city[T.Eglin AFB]</th>              <td>   -4.8395</td> <td>  745.431</td> <td>   -0.006</td> <td> 0.995</td> <td>-1465.857  1456.178</td>\n",
       "</tr>\n",
       "<tr>\n",
       "  <th>city[T.Fort George G Meade]</th>    <td>   19.7677</td> <td>  304.222</td> <td>    0.065</td> <td> 0.948</td> <td> -576.496   616.032</td>\n",
       "</tr>\n",
       "<tr>\n",
       "  <th>city[T.Fort Myers]</th>             <td>   -4.8395</td> <td>  745.431</td> <td>   -0.006</td> <td> 0.995</td> <td>-1465.857  1456.178</td>\n",
       "</tr>\n",
       "<tr>\n",
       "  <th>city[T.Fort Worth]</th>             <td>   -4.8395</td> <td>  745.431</td> <td>   -0.006</td> <td> 0.995</td> <td>-1465.857  1456.178</td>\n",
       "</tr>\n",
       "<tr>\n",
       "  <th>city[T.Gainesville]</th>            <td>   -5.5380</td> <td>  747.406</td> <td>   -0.007</td> <td> 0.994</td> <td>-1470.427  1459.351</td>\n",
       "</tr>\n",
       "<tr>\n",
       "  <th>city[T.Galveston]</th>              <td>   -4.8395</td> <td>  745.431</td> <td>   -0.006</td> <td> 0.995</td> <td>-1465.857  1456.178</td>\n",
       "</tr>\n",
       "<tr>\n",
       "  <th>city[T.Greenbelt]</th>              <td>   -4.8395</td> <td>  745.431</td> <td>   -0.006</td> <td> 0.995</td> <td>-1465.857  1456.178</td>\n",
       "</tr>\n",
       "<tr>\n",
       "  <th>city[T.Greensboro]</th>             <td>   -5.5380</td> <td>  747.406</td> <td>   -0.007</td> <td> 0.994</td> <td>-1470.427  1459.351</td>\n",
       "</tr>\n",
       "<tr>\n",
       "  <th>city[T.Houston]</th>                <td>   -4.8395</td> <td>  745.431</td> <td>   -0.006</td> <td> 0.995</td> <td>-1465.857  1456.178</td>\n",
       "</tr>\n",
       "<tr>\n",
       "  <th>city[T.Jacksonville]</th>           <td>   19.7677</td> <td>  304.222</td> <td>    0.065</td> <td> 0.948</td> <td> -576.496   616.032</td>\n",
       "</tr>\n",
       "<tr>\n",
       "  <th>city[T.Largo]</th>                  <td>   -4.8395</td> <td>  745.431</td> <td>   -0.006</td> <td> 0.995</td> <td>-1465.857  1456.178</td>\n",
       "</tr>\n",
       "<tr>\n",
       "  <th>city[T.Los Angeles]</th>            <td>    8.6037</td> <td>   66.059</td> <td>    0.130</td> <td> 0.896</td> <td> -120.871   138.078</td>\n",
       "</tr>\n",
       "<tr>\n",
       "  <th>city[T.Manhattan]</th>              <td>   -5.9460</td> <td>  748.360</td> <td>   -0.008</td> <td> 0.994</td> <td>-1472.704  1460.812</td>\n",
       "</tr>\n",
       "<tr>\n",
       "  <th>city[T.Miami]</th>                  <td>   -4.8395</td> <td>  745.431</td> <td>   -0.006</td> <td> 0.995</td> <td>-1465.857  1456.178</td>\n",
       "</tr>\n",
       "<tr>\n",
       "  <th>city[T.Miami Lakes]</th>            <td>   -4.8395</td> <td>  745.431</td> <td>   -0.006</td> <td> 0.995</td> <td>-1465.857  1456.178</td>\n",
       "</tr>\n",
       "<tr>\n",
       "  <th>city[T.Mills River]</th>            <td>   -4.8395</td> <td>  745.431</td> <td>   -0.006</td> <td> 0.995</td> <td>-1465.857  1456.178</td>\n",
       "</tr>\n",
       "<tr>\n",
       "  <th>city[T.Minneapolis]</th>            <td>    7.2819</td> <td>   66.066</td> <td>    0.110</td> <td> 0.912</td> <td> -122.205   136.769</td>\n",
       "</tr>\n",
       "<tr>\n",
       "  <th>city[T.Minneapolis-Saint Paul]</th> <td>   -4.8395</td> <td>  745.431</td> <td>   -0.006</td> <td> 0.995</td> <td>-1465.857  1456.178</td>\n",
       "</tr>\n",
       "<tr>\n",
       "  <th>city[T.New York]</th>               <td>   10.4600</td> <td>   66.065</td> <td>    0.158</td> <td> 0.874</td> <td> -119.024   139.944</td>\n",
       "</tr>\n",
       "<tr>\n",
       "  <th>city[T.Orlando]</th>                <td>   -4.8395</td> <td>  745.431</td> <td>   -0.006</td> <td> 0.995</td> <td>-1465.857  1456.178</td>\n",
       "</tr>\n",
       "<tr>\n",
       "  <th>city[T.Palo Alto]</th>              <td>   20.4609</td> <td>  304.222</td> <td>    0.067</td> <td> 0.946</td> <td> -575.804   616.726</td>\n",
       "</tr>\n",
       "<tr>\n",
       "  <th>city[T.Raleigh]</th>                <td>    8.3805</td> <td>   66.064</td> <td>    0.127</td> <td> 0.899</td> <td> -121.102   137.863</td>\n",
       "</tr>\n",
       "<tr>\n",
       "  <th>city[T.Research Triangle Park]</th> <td>   19.7677</td> <td>  304.222</td> <td>    0.065</td> <td> 0.948</td> <td> -576.496   616.032</td>\n",
       "</tr>\n",
       "<tr>\n",
       "  <th>city[T.Richland County]</th>        <td>   -5.5380</td> <td>  747.406</td> <td>   -0.007</td> <td> 0.994</td> <td>-1470.427  1459.351</td>\n",
       "</tr>\n",
       "<tr>\n",
       "  <th>city[T.Riviera Beach]</th>          <td>   -4.8395</td> <td>  745.431</td> <td>   -0.006</td> <td> 0.995</td> <td>-1465.857  1456.178</td>\n",
       "</tr>\n",
       "<tr>\n",
       "  <th>city[T.Saint Louis Park]</th>       <td>   19.7677</td> <td>  304.222</td> <td>    0.065</td> <td> 0.948</td> <td> -576.496   616.032</td>\n",
       "</tr>\n",
       "<tr>\n",
       "  <th>city[T.San Diego]</th>              <td>    7.6874</td> <td>   66.067</td> <td>    0.116</td> <td> 0.907</td> <td> -121.802   137.177</td>\n",
       "</tr>\n",
       "<tr>\n",
       "  <th>city[T.San Francisco]</th>          <td>   21.3772</td> <td>  304.223</td> <td>    0.070</td> <td> 0.944</td> <td> -574.889   617.644</td>\n",
       "</tr>\n",
       "<tr>\n",
       "  <th>city[T.San Jose]</th>               <td>   19.7677</td> <td>  304.222</td> <td>    0.065</td> <td> 0.948</td> <td> -576.496   616.032</td>\n",
       "</tr>\n",
       "<tr>\n",
       "  <th>city[T.Spartanburg]</th>            <td>    8.3805</td> <td>   66.071</td> <td>    0.127</td> <td> 0.899</td> <td> -121.117   137.878</td>\n",
       "</tr>\n",
       "<tr>\n",
       "  <th>city[T.Tallahassee]</th>            <td>   -4.8395</td> <td>  745.431</td> <td>   -0.006</td> <td> 0.995</td> <td>-1465.857  1456.178</td>\n",
       "</tr>\n",
       "<tr>\n",
       "  <th>city[T.Tampa]</th>                  <td>    8.3805</td> <td>   66.071</td> <td>    0.127</td> <td> 0.899</td> <td> -121.117   137.878</td>\n",
       "</tr>\n",
       "<tr>\n",
       "  <th>city[T.Wake County]</th>            <td>   -4.8395</td> <td>  745.431</td> <td>   -0.006</td> <td> 0.995</td> <td>-1465.857  1456.178</td>\n",
       "</tr>\n",
       "<tr>\n",
       "  <th>city[T.Waltham]</th>                <td>   19.7677</td> <td>  304.222</td> <td>    0.065</td> <td> 0.948</td> <td> -576.496   616.032</td>\n",
       "</tr>\n",
       "<tr>\n",
       "  <th>city[T.Washington]</th>             <td>    9.8846</td> <td>   66.061</td> <td>    0.150</td> <td> 0.881</td> <td> -119.592   139.361</td>\n",
       "</tr>\n",
       "<tr>\n",
       "  <th>city[T.West Palm Beach]</th>        <td>   -5.9460</td> <td>  748.360</td> <td>   -0.008</td> <td> 0.994</td> <td>-1472.704  1460.812</td>\n",
       "</tr>\n",
       "</table>"
      ],
      "text/plain": [
       "<class 'statsmodels.iolib.summary.Summary'>\n",
       "\"\"\"\n",
       "                           Logit Regression Results                           \n",
       "==============================================================================\n",
       "Dep. Variable:            high_salary   No. Observations:                  144\n",
       "Model:                          Logit   Df Residuals:                       91\n",
       "Method:                           MLE   Df Model:                           52\n",
       "Date:                Tue, 22 Nov 2016   Pseudo R-squ.:                  0.5733\n",
       "Time:                        09:48:13   Log-Likelihood:                -42.586\n",
       "converged:                       True   LL-Null:                       -99.799\n",
       "                                        LLR p-value:                 1.378e-06\n",
       "==================================================================================================\n",
       "                                     coef    std err          z      P>|z|      [95.0% Conf. Int.]\n",
       "--------------------------------------------------------------------------------------------------\n",
       "Intercept                         -8.3805     66.056     -0.127      0.899      -137.848   121.087\n",
       "city[T.Anne Arundel County]       -4.8395    745.431     -0.006      0.995     -1465.857  1456.178\n",
       "city[T.Atlanta]                    9.0737     66.060      0.137      0.891      -120.401   138.549\n",
       "city[T.Baltimore]                 -6.9658    762.980     -0.009      0.993     -1502.378  1488.447\n",
       "city[T.Bethesda]                  19.7677    304.222      0.065      0.948      -576.496   616.032\n",
       "city[T.Boston]                    21.8472    304.224      0.072      0.943      -574.420   618.114\n",
       "city[T.Cambridge]                  9.4792     66.066      0.143      0.886      -120.008   138.966\n",
       "city[T.Carteret County]           -5.5380    747.406     -0.007      0.994     -1470.427  1459.351\n",
       "city[T.Chapel Hill]               -5.5380    747.406     -0.007      0.994     -1470.427  1459.351\n",
       "city[T.Charlotte]                 19.7677    304.222      0.065      0.948      -576.496   616.032\n",
       "city[T.Chatsworth]                -4.8395    745.431     -0.006      0.995     -1465.857  1456.178\n",
       "city[T.Chicago]                    9.2278     66.060      0.140      0.889      -120.247   138.702\n",
       "city[T.Clearwater]                 8.3805     66.071      0.127      0.899      -121.117   137.878\n",
       "city[T.Coral Gables]               6.5888     66.065      0.100      0.921      -122.896   136.074\n",
       "city[T.Dallas]                    19.7677    304.222      0.065      0.948      -576.496   616.032\n",
       "city[T.Daytona Beach]             -4.8395    745.431     -0.006      0.995     -1465.857  1456.178\n",
       "city[T.Durham]                    19.7677    304.222      0.065      0.948      -576.496   616.032\n",
       "city[T.Eglin AFB]                 -4.8395    745.431     -0.006      0.995     -1465.857  1456.178\n",
       "city[T.Fort George G Meade]       19.7677    304.222      0.065      0.948      -576.496   616.032\n",
       "city[T.Fort Myers]                -4.8395    745.431     -0.006      0.995     -1465.857  1456.178\n",
       "city[T.Fort Worth]                -4.8395    745.431     -0.006      0.995     -1465.857  1456.178\n",
       "city[T.Gainesville]               -5.5380    747.406     -0.007      0.994     -1470.427  1459.351\n",
       "city[T.Galveston]                 -4.8395    745.431     -0.006      0.995     -1465.857  1456.178\n",
       "city[T.Greenbelt]                 -4.8395    745.431     -0.006      0.995     -1465.857  1456.178\n",
       "city[T.Greensboro]                -5.5380    747.406     -0.007      0.994     -1470.427  1459.351\n",
       "city[T.Houston]                   -4.8395    745.431     -0.006      0.995     -1465.857  1456.178\n",
       "city[T.Jacksonville]              19.7677    304.222      0.065      0.948      -576.496   616.032\n",
       "city[T.Largo]                     -4.8395    745.431     -0.006      0.995     -1465.857  1456.178\n",
       "city[T.Los Angeles]                8.6037     66.059      0.130      0.896      -120.871   138.078\n",
       "city[T.Manhattan]                 -5.9460    748.360     -0.008      0.994     -1472.704  1460.812\n",
       "city[T.Miami]                     -4.8395    745.431     -0.006      0.995     -1465.857  1456.178\n",
       "city[T.Miami Lakes]               -4.8395    745.431     -0.006      0.995     -1465.857  1456.178\n",
       "city[T.Mills River]               -4.8395    745.431     -0.006      0.995     -1465.857  1456.178\n",
       "city[T.Minneapolis]                7.2819     66.066      0.110      0.912      -122.205   136.769\n",
       "city[T.Minneapolis-Saint Paul]    -4.8395    745.431     -0.006      0.995     -1465.857  1456.178\n",
       "city[T.New York]                  10.4600     66.065      0.158      0.874      -119.024   139.944\n",
       "city[T.Orlando]                   -4.8395    745.431     -0.006      0.995     -1465.857  1456.178\n",
       "city[T.Palo Alto]                 20.4609    304.222      0.067      0.946      -575.804   616.726\n",
       "city[T.Raleigh]                    8.3805     66.064      0.127      0.899      -121.102   137.863\n",
       "city[T.Research Triangle Park]    19.7677    304.222      0.065      0.948      -576.496   616.032\n",
       "city[T.Richland County]           -5.5380    747.406     -0.007      0.994     -1470.427  1459.351\n",
       "city[T.Riviera Beach]             -4.8395    745.431     -0.006      0.995     -1465.857  1456.178\n",
       "city[T.Saint Louis Park]          19.7677    304.222      0.065      0.948      -576.496   616.032\n",
       "city[T.San Diego]                  7.6874     66.067      0.116      0.907      -121.802   137.177\n",
       "city[T.San Francisco]             21.3772    304.223      0.070      0.944      -574.889   617.644\n",
       "city[T.San Jose]                  19.7677    304.222      0.065      0.948      -576.496   616.032\n",
       "city[T.Spartanburg]                8.3805     66.071      0.127      0.899      -121.117   137.878\n",
       "city[T.Tallahassee]               -4.8395    745.431     -0.006      0.995     -1465.857  1456.178\n",
       "city[T.Tampa]                      8.3805     66.071      0.127      0.899      -121.117   137.878\n",
       "city[T.Wake County]               -4.8395    745.431     -0.006      0.995     -1465.857  1456.178\n",
       "city[T.Waltham]                   19.7677    304.222      0.065      0.948      -576.496   616.032\n",
       "city[T.Washington]                 9.8846     66.061      0.150      0.881      -119.592   139.361\n",
       "city[T.West Palm Beach]           -5.9460    748.360     -0.008      0.994     -1472.704  1460.812\n",
       "==================================================================================================\n",
       "\"\"\""
      ]
     },
     "execution_count": 20,
     "metadata": {},
     "output_type": "execute_result"
    }
   ],
   "source": [
    "# This model keeps giving me a Singular Matrix error every few times I run it with new data. If that happens, it seems\n",
    "# to work when I pass \"method='ncg'\" into the .fit()\n",
    "# create statsmodel and summary\n",
    "import statsmodels.formula.api as sm\n",
    "st_model_1 = sm.logit(\"high_salary ~ city\", data=salary_data).fit(method='ncg')\n",
    "st_model_1.summary()"
   ]
  },
  {
   "cell_type": "markdown",
   "metadata": {
    "focus": false,
    "id": "1ecd7811-d200-44bc-942f-4beb76d2689c"
   },
   "source": [
    "#### Create a few new variables in your dataframe to represent interesting features of a job title.\n",
    "- For example, create a feature that represents whether 'Senior' or 'Manager' is in the title \n",
    "- Then build a new Logistic Regression model with these features. Do they add any value? \n"
   ]
  },
  {
   "cell_type": "code",
   "execution_count": 21,
   "metadata": {
    "collapsed": false,
    "focus": false,
    "id": "b847f46e-1626-4340-86fb-08dea8c31a84"
   },
   "outputs": [],
   "source": [
    "# create senior, director, and manager dummies\n",
    "salary_data['is_senior'] = salary_data['title'].str.contains('enior','Sr').astype(int) # example\n",
    "salary_data['is_director'] = salary_data['title'].str.contains('irector').astype(int) \n",
    "salary_data['is_manager'] = salary_data['title'].str.contains('anager').astype(int) \n",
    "# df['is_lead'] = df['title'].str.contains('ead').astype(int) \n",
    "# df['is_junior'] = df['title'].str.contains('unior').astype(int) \n",
    "# df['is_analyst'] = df['title'].str.contains('alyst').astype(int) "
   ]
  },
  {
   "cell_type": "code",
   "execution_count": 22,
   "metadata": {
    "collapsed": true
   },
   "outputs": [],
   "source": [
    "cd = pd.pivot_table(salary_data, index='city', values='salary')"
   ]
  },
  {
   "cell_type": "code",
   "execution_count": 23,
   "metadata": {
    "collapsed": true
   },
   "outputs": [],
   "source": [
    "salary_data['city_avg_sal'] = salary_data['city'].map(cd)"
   ]
  },
  {
   "cell_type": "code",
   "execution_count": 24,
   "metadata": {
    "collapsed": false,
    "scrolled": false
   },
   "outputs": [
    {
     "name": "stdout",
     "output_type": "stream",
     "text": [
      "Optimization terminated successfully.\n",
      "         Current function value: 0.372254\n",
      "         Iterations 7\n"
     ]
    },
    {
     "data": {
      "text/html": [
       "<table class=\"simpletable\">\n",
       "<caption>Logit Regression Results</caption>\n",
       "<tr>\n",
       "  <th>Dep. Variable:</th>    <td>high_salary</td>   <th>  No. Observations:  </th>  <td>   144</td>  \n",
       "</tr>\n",
       "<tr>\n",
       "  <th>Model:</th>               <td>Logit</td>      <th>  Df Residuals:      </th>  <td>   140</td>  \n",
       "</tr>\n",
       "<tr>\n",
       "  <th>Method:</th>               <td>MLE</td>       <th>  Df Model:          </th>  <td>     3</td>  \n",
       "</tr>\n",
       "<tr>\n",
       "  <th>Date:</th>          <td>Tue, 22 Nov 2016</td> <th>  Pseudo R-squ.:     </th>  <td>0.4629</td>  \n",
       "</tr>\n",
       "<tr>\n",
       "  <th>Time:</th>              <td>09:48:13</td>     <th>  Log-Likelihood:    </th> <td> -53.605</td> \n",
       "</tr>\n",
       "<tr>\n",
       "  <th>converged:</th>           <td>True</td>       <th>  LL-Null:           </th> <td> -99.799</td> \n",
       "</tr>\n",
       "<tr>\n",
       "  <th> </th>                      <td> </td>        <th>  LLR p-value:       </th> <td>6.718e-20</td>\n",
       "</tr>\n",
       "</table>\n",
       "<table class=\"simpletable\">\n",
       "<tr>\n",
       "        <td></td>          <th>coef</th>     <th>std err</th>      <th>z</th>      <th>P>|z|</th> <th>[95.0% Conf. Int.]</th> \n",
       "</tr>\n",
       "<tr>\n",
       "  <th>Intercept</th>    <td>   -7.2981</td> <td>    1.224</td> <td>   -5.962</td> <td> 0.000</td> <td>   -9.697    -4.899</td>\n",
       "</tr>\n",
       "<tr>\n",
       "  <th>is_senior</th>    <td>    1.2962</td> <td>    0.897</td> <td>    1.446</td> <td> 0.148</td> <td>   -0.461     3.054</td>\n",
       "</tr>\n",
       "<tr>\n",
       "  <th>is_manager</th>   <td>   -0.6363</td> <td>    1.914</td> <td>   -0.333</td> <td> 0.739</td> <td>   -4.387     3.114</td>\n",
       "</tr>\n",
       "<tr>\n",
       "  <th>city_avg_sal</th> <td> 7.803e-05</td> <td> 1.31e-05</td> <td>    5.979</td> <td> 0.000</td> <td> 5.24e-05     0.000</td>\n",
       "</tr>\n",
       "</table>"
      ],
      "text/plain": [
       "<class 'statsmodels.iolib.summary.Summary'>\n",
       "\"\"\"\n",
       "                           Logit Regression Results                           \n",
       "==============================================================================\n",
       "Dep. Variable:            high_salary   No. Observations:                  144\n",
       "Model:                          Logit   Df Residuals:                      140\n",
       "Method:                           MLE   Df Model:                            3\n",
       "Date:                Tue, 22 Nov 2016   Pseudo R-squ.:                  0.4629\n",
       "Time:                        09:48:13   Log-Likelihood:                -53.605\n",
       "converged:                       True   LL-Null:                       -99.799\n",
       "                                        LLR p-value:                 6.718e-20\n",
       "================================================================================\n",
       "                   coef    std err          z      P>|z|      [95.0% Conf. Int.]\n",
       "--------------------------------------------------------------------------------\n",
       "Intercept       -7.2981      1.224     -5.962      0.000        -9.697    -4.899\n",
       "is_senior        1.2962      0.897      1.446      0.148        -0.461     3.054\n",
       "is_manager      -0.6363      1.914     -0.333      0.739        -4.387     3.114\n",
       "city_avg_sal  7.803e-05   1.31e-05      5.979      0.000      5.24e-05     0.000\n",
       "================================================================================\n",
       "\"\"\""
      ]
     },
     "execution_count": 24,
     "metadata": {},
     "output_type": "execute_result"
    }
   ],
   "source": [
    "st_model_2 = sm.logit(\"high_salary ~ is_senior + is_manager + city_avg_sal\", data=salary_data).fit()\n",
    "st_model_2.summary()"
   ]
  },
  {
   "cell_type": "markdown",
   "metadata": {
    "focus": false,
    "id": "7ca5cfdd-958c-4199-aafa-3d3f6c5ba3c4"
   },
   "source": [
    "#### Rebuild this model with scikit-learn.\n",
    "- You can either create the dummy features manually or use the `dmatrix` function from `patsy`\n",
    "- Remember to scale the feature variables as well!\n"
   ]
  },
  {
   "cell_type": "code",
   "execution_count": 25,
   "metadata": {
    "collapsed": false,
    "focus": false,
    "id": "c75a97f1-f30c-48b3-97cb-eaf7d525c734"
   },
   "outputs": [],
   "source": [
    "X_1 = dmatrix('~ city + state + is_senior + is_manager + is_director + city_avg_sal', salary_data)\n",
    "Y_1 = salary_data['high_salary']"
   ]
  },
  {
   "cell_type": "code",
   "execution_count": 26,
   "metadata": {
    "collapsed": false
   },
   "outputs": [
    {
     "data": {
      "text/plain": [
       "(144, 11)"
      ]
     },
     "execution_count": 26,
     "metadata": {},
     "output_type": "execute_result"
    }
   ],
   "source": [
    "salary_data.shape"
   ]
  },
  {
   "cell_type": "code",
   "execution_count": 27,
   "metadata": {
    "collapsed": false
   },
   "outputs": [],
   "source": [
    "X_train, X_test, Y_train, Y_test = train_test_split(X_1, Y_1, test_size=0.33, random_state=5)"
   ]
  },
  {
   "cell_type": "code",
   "execution_count": 28,
   "metadata": {
    "collapsed": false
   },
   "outputs": [
    {
     "name": "stdout",
     "output_type": "stream",
     "text": [
      "0    30\n",
      "1    18\n",
      "dtype: int64\n",
      "0    27\n",
      "1    21\n",
      "Name: high_salary, dtype: int64\n"
     ]
    }
   ],
   "source": [
    "# scale, (patsy optional), and fit\n",
    "scaler = StandardScaler()\n",
    "\n",
    "Xtr_s = scaler.fit_transform(X_train)\n",
    "Xte_s = scaler.transform(X_test)\n",
    "\n",
    "sk_model = LogisticRegression(penalty = 'l2', C=0.1)\n",
    "sk_model.fit(Xtr_s, Y_train)\n",
    "Y_pred = sk_model.predict(Xte_s)\n",
    "\n",
    "print pd.Series(Y_pred).value_counts()\n",
    "print Y_test.value_counts()"
   ]
  },
  {
   "cell_type": "code",
   "execution_count": 29,
   "metadata": {
    "collapsed": false
   },
   "outputs": [
    {
     "name": "stdout",
     "output_type": "stream",
     "text": [
      "             predicted_low  predicted_high\n",
      "low_salary              24               3\n",
      "high_salary              6              15\n"
     ]
    }
   ],
   "source": [
    "from sklearn.metrics import confusion_matrix\n",
    "# the input format is almost always (test, predict), but always check with documentation!\n",
    "conmat = np.array(confusion_matrix(Y_test, Y_pred))\n",
    "\n",
    "confusion = pd.DataFrame(conmat, index=['low_salary', 'high_salary'],\n",
    "                         columns=['predicted_low', 'predicted_high'])\n",
    "\n",
    "print confusion"
   ]
  },
  {
   "cell_type": "code",
   "execution_count": 30,
   "metadata": {
    "collapsed": false
   },
   "outputs": [
    {
     "data": {
      "text/plain": [
       "0.8125"
      ]
     },
     "execution_count": 30,
     "metadata": {},
     "output_type": "execute_result"
    }
   ],
   "source": [
    "from sklearn.metrics import accuracy_score\n",
    "\n",
    "acc = accuracy_score(Y_test, Y_pred)\n",
    "\n",
    "acc"
   ]
  },
  {
   "cell_type": "code",
   "execution_count": 31,
   "metadata": {
    "collapsed": false
   },
   "outputs": [
    {
     "data": {
      "image/png": "[encoded data removed]",
      "text/plain": [
       "<matplotlib.figure.Figure at 0x14fa8b990>"
      ]
     },
     "metadata": {},
     "output_type": "display_data"
    }
   ],
   "source": [
    "from sklearn.metrics import roc_curve, auc\n",
    "import matplotlib.pyplot as plt\n",
    "plt.style.use('seaborn-white')\n",
    "%matplotlib inline\n",
    "\n",
    "\n",
    "Y_score = sk_model.decision_function(X_test)\n",
    "\n",
    "FPR = dict()\n",
    "TPR = dict()\n",
    "ROC_AUC = dict()\n",
    "\n",
    "# For class 1, find the area under the curve\n",
    "FPR[1], TPR[1], _ = roc_curve(Y_test, Y_score)\n",
    "ROC_AUC[1] = auc(FPR[1], TPR[1])\n",
    "\n",
    "# Plot of a ROC curve for class 1 (has_cancer)\n",
    "plt.figure(figsize=[11,9])\n",
    "plt.plot(FPR[1], TPR[1], label='ROC curve (area = %0.2f)' % ROC_AUC[1], linewidth=4)\n",
    "plt.plot([0, 1], [0, 1], 'k--', linewidth=4)\n",
    "plt.xlim([0.0, 1.0])\n",
    "plt.ylim([0.0, 1.05])\n",
    "plt.xlabel('False Positive Rate', fontsize=18)\n",
    "plt.ylabel('True Positive Rate', fontsize=18)\n",
    "plt.title('Receiver operating characteristic for cancer detection', fontsize=18)\n",
    "plt.legend(loc=\"lower right\")\n",
    "plt.show()"
   ]
  },
  {
   "cell_type": "code",
   "execution_count": 32,
   "metadata": {
    "collapsed": false
   },
   "outputs": [
    {
     "name": "stdout",
     "output_type": "stream",
     "text": [
      "             precision    recall  f1-score   support\n",
      "\n",
      " low_salary       0.80      0.89      0.84        27\n",
      "high_salary       0.83      0.71      0.77        21\n",
      "\n",
      "avg / total       0.81      0.81      0.81        48\n",
      "\n"
     ]
    }
   ],
   "source": [
    "from sklearn.metrics import classification_report\n",
    "\n",
    "# # 0 means benign, 1 means malignant\n",
    "# target    = [0, 1, 1, 0, 1, 0, 1, 1, 1]\n",
    "\n",
    "# #Prediction Results from a Machine Leaning Model\n",
    "# predicted = [0, 0, 1, 1, 1, 0, 1, 1, 1]\n",
    "\n",
    "# Label the Classifiers\n",
    "target_names = ['low_salary', 'high_salary']\n",
    "\n",
    "#Print Classification Report\n",
    "print classification_report(Y_test, Y_pred, target_names=target_names)"
   ]
  },
  {
   "cell_type": "markdown",
   "metadata": {
    "focus": false,
    "id": "1e6c6902-2b4a-49f0-b4c7-935a26577d22"
   },
   "source": [
    "#### Use cross-validation in scikit-learn to evaluate the model above. \n",
    "- Evaluate the accuracy, AUC, precision and recall of the model. \n",
    "- Discuss the differences and explain when you want a high-recall or a high-precision model in this scenario."
   ]
  },
  {
   "cell_type": "code",
   "execution_count": 33,
   "metadata": {
    "collapsed": false,
    "focus": false,
    "id": "3667427c-6534-4dcd-8770-f492b0e3a39e"
   },
   "outputs": [
    {
     "name": "stdout",
     "output_type": "stream",
     "text": [
      "accuracy score:  0.8125\n",
      "precision score:  0.833333333333\n",
      "recall score:  0.714285714286\n",
      "roc_auc score:  0.801587301587\n"
     ]
    }
   ],
   "source": [
    "from sklearn.cross_validation import cross_val_score\n",
    "\n",
    "print \"accuracy score: \", accuracy_score(Y_test, Y_pred)\n",
    "print \"precision score: \", precision_score(Y_test, Y_pred)\n",
    "print \"recall score: \", recall_score(Y_test, Y_pred)\n",
    "print \"roc_auc score: \", roc_auc_score(Y_test, Y_pred)"
   ]
  },
  {
   "cell_type": "markdown",
   "metadata": {
    "focus": false,
    "id": "4263b1c0-bfde-42bf-ab45-71c7cd798835"
   },
   "source": [
    "### Compare L1 and L2 regularization for this logistic regression model. What effect does this have on the coefficients learned?"
   ]
  },
  {
   "cell_type": "code",
   "execution_count": 34,
   "metadata": {
    "collapsed": false,
    "focus": false,
    "id": "2e7d6a29-a515-468a-9953-9d73a0f81de0"
   },
   "outputs": [
    {
     "name": "stdout",
     "output_type": "stream",
     "text": [
      "Model score:  0.84375\n",
      "accuracy score:  0.8125\n",
      "precision score:  0.833333333333\n",
      "recall score:  0.714285714286\n",
      "roc_auc score:  0.801587301587\n"
     ]
    }
   ],
   "source": [
    "lg_model = LogisticRegression(penalty = 'l1', C=1.0)\n",
    "\n",
    "for metric in ['accuracy', 'precision', 'recall', 'roc_auc']:\n",
    "    lg_model.fit(X_train, Y_train)\n",
    "    predictions = lg_model.predict(X_test)\n",
    "print \"Model score: \", lg_model.score(X_train,Y_train)\n",
    "print \"accuracy score: \", accuracy_score(Y_test, Y_pred)\n",
    "print \"precision score: \", precision_score(Y_test, Y_pred)\n",
    "print \"recall score: \", recall_score(Y_test, Y_pred)\n",
    "print \"roc_auc score: \", roc_auc_score(Y_test, Y_pred)"
   ]
  },
  {
   "cell_type": "code",
   "execution_count": 37,
   "metadata": {
    "collapsed": false
   },
   "outputs": [
    {
     "name": "stdout",
     "output_type": "stream",
     "text": [
      "0    33\n",
      "1    15\n",
      "dtype: int64\n",
      "0    27\n",
      "1    21\n",
      "Name: high_salary, dtype: int64\n"
     ]
    }
   ],
   "source": [
    "#l1 model\n",
    "scaler = StandardScaler()\n",
    "\n",
    "Xtr_s = scaler.fit_transform(X_train)\n",
    "Xte_s = scaler.transform(X_test)\n",
    "\n",
    "sk_model = LogisticRegression(penalty = 'l1', C=0.1)\n",
    "sk_model.fit(Xtr_s, Y_train)\n",
    "Y_pred = sk_model.predict(Xte_s)\n",
    "\n",
    "print pd.Series(Y_pred).value_counts()\n",
    "print Y_test.value_counts()"
   ]
  },
  {
   "cell_type": "code",
   "execution_count": 42,
   "metadata": {
    "collapsed": false
   },
   "outputs": [
    {
     "name": "stdout",
     "output_type": "stream",
     "text": [
      "             predicted_low  predicted_high\n",
      "low_salary              25               2\n",
      "high_salary              8              13\n",
      "0.791666666667\n"
     ]
    }
   ],
   "source": [
    "from sklearn.metrics import confusion_matrix\n",
    "# the input format is almost always (test, predict), but always check with documentation!\n",
    "conmat = np.array(confusion_matrix(Y_test, Y_pred))\n",
    "\n",
    "confusion = pd.DataFrame(conmat, index=['low_salary', 'high_salary'],\n",
    "                         columns=['predicted_low', 'predicted_high'])\n",
    "\n",
    "print confusion\n",
    "from sklearn.metrics import accuracy_score\n",
    "\n",
    "acc = accuracy_score(Y_test, Y_pred)\n",
    "\n",
    "print acc"
   ]
  },
  {
   "cell_type": "code",
   "execution_count": 35,
   "metadata": {
    "collapsed": false,
    "focus": false,
    "id": "32d908a3-89d2-474c-a7f0-199bfae6da7e"
   },
   "outputs": [],
   "source": [
    "# model.fit(X_scaled, y)\n",
    "\n",
    "# df = pd.DataFrame({'features' : X.design_info.column_names, 'coef': model.coef_[0,:]})\n",
    "# df.sort_values('coef', ascending=False, inplace=True)\n",
    "# df"
   ]
  },
  {
   "cell_type": "markdown",
   "metadata": {
    "focus": true,
    "id": "82f16f60-6c8b-4376-b3ec-b8ec61a0cde7"
   },
   "source": [
    "#### Optional: Continue to incorporate other text features from the title or summary that you believe will predict the salary and examine their coefficients. Take ~100 scraped entries with salaries. Convert them to use with your model and predict the salary. Which entries have the highest predicted salaries?"
   ]
  },
  {
   "cell_type": "markdown",
   "metadata": {
    "focus": false,
    "id": "3f242a55-4518-4c95-ae90-6888c68077d3"
   },
   "source": [
    "# Bonus Section: Use Count Vectorizer from scikit-learn to create features from the text summaries. \n",
    "- Examine using count or binary features in the model\n",
    "- Re-evaluate the logistic regression model using these. Does this improve the model performance? \n",
    "- What text features are most valuable? "
   ]
  },
  {
   "cell_type": "code",
   "execution_count": 36,
   "metadata": {
    "collapsed": false,
    "focus": false,
    "id": "757205dc-443d-4754-9d23-e591e0921c02"
   },
   "outputs": [
    {
     "ename": "TypeError",
     "evalue": "fit_transform() takes at least 2 arguments (1 given)",
     "output_type": "error",
     "traceback": [
      "\u001b[0;31m---------------------------------------------------------------------------\u001b[0m",
      "\u001b[0;31mTypeError\u001b[0m                                 Traceback (most recent call last)",
      "\u001b[0;32m<ipython-input-36-a73a09d0c824>\u001b[0m in \u001b[0;36m<module>\u001b[0;34m()\u001b[0m\n\u001b[1;32m      2\u001b[0m \u001b[0;34m\u001b[0m\u001b[0m\n\u001b[1;32m      3\u001b[0m \u001b[0mvectorizer\u001b[0m \u001b[0;34m=\u001b[0m \u001b[0mCountVectorizer\u001b[0m\u001b[0;34m(\u001b[0m\u001b[0;34m)\u001b[0m\u001b[0;34m\u001b[0m\u001b[0m\n\u001b[0;32m----> 4\u001b[0;31m \u001b[0mX\u001b[0m \u001b[0;34m=\u001b[0m \u001b[0mvectorizer\u001b[0m\u001b[0;34m.\u001b[0m\u001b[0mfit_transform\u001b[0m\u001b[0;34m(\u001b[0m\u001b[0;34m)\u001b[0m\u001b[0;34m\u001b[0m\u001b[0m\n\u001b[0m\u001b[1;32m      5\u001b[0m \u001b[0;34m\u001b[0m\u001b[0m\n\u001b[1;32m      6\u001b[0m \u001b[0;32mfor\u001b[0m \u001b[0mmetric\u001b[0m \u001b[0;32min\u001b[0m \u001b[0;34m[\u001b[0m\u001b[0;34m'accuracy'\u001b[0m\u001b[0;34m,\u001b[0m \u001b[0;34m'precision'\u001b[0m\u001b[0;34m,\u001b[0m \u001b[0;34m'recall'\u001b[0m\u001b[0;34m,\u001b[0m \u001b[0;34m'roc_auc'\u001b[0m\u001b[0;34m]\u001b[0m\u001b[0;34m:\u001b[0m\u001b[0;34m\u001b[0m\u001b[0m\n",
      "\u001b[0;31mTypeError\u001b[0m: fit_transform() takes at least 2 arguments (1 given)"
     ]
    }
   ],
   "source": [
    "from sklearn.feature_extraction.text import CountVectorizer\n",
    "\n",
    "vectorizer = CountVectorizer()\n",
    "X = vectorizer.fit_transform()\n",
    "\n",
    "for metric in ['accuracy', 'precision', 'recall', 'roc_auc']:\n",
    "    scores = cross_val_score(model, X_scaled, y, cv=3, scoring=metric)\n",
    "    print(metric, scores.mean(), scores.std())"
   ]
  },
  {
   "cell_type": "code",
   "execution_count": null,
   "metadata": {
    "collapsed": false,
    "focus": false,
    "id": "f44df3c1-cf82-4271-8660-fdd0052097b6"
   },
   "outputs": [],
   "source": [
    "model.fit(X_scaled, y)\n",
    "\n",
    "df = pd.DataFrame({'features' : vectorizer.get_feature_names(), 'coef': model.coef_[0,:]})\n",
    "df.sort_values('coef', ascending=False, inplace=True)"
   ]
  },
  {
   "cell_type": "code",
   "execution_count": null,
   "metadata": {
    "collapsed": false,
    "focus": false,
    "id": "e182bbe4-2a72-4e75-a3e8-c117688cb8a6"
   },
   "outputs": [],
   "source": [
    "df.head()"
   ]
  },
  {
   "cell_type": "code",
   "execution_count": null,
   "metadata": {
    "collapsed": false,
    "focus": false,
    "id": "a15ef8ea-3130-4c08-a165-ac34d2a8d829"
   },
   "outputs": [],
   "source": [
    "df.tail()"
   ]
  },
  {
   "cell_type": "code",
   "execution_count": null,
   "metadata": {
    "collapsed": false,
    "focus": false,
    "id": "b8a13337-0cde-4117-a928-ffae14661453"
   },
   "outputs": [],
   "source": [
    "# retest L1 and L2 regularization\n",
    "from sklearn.linear_model import LogisticRegressionCV\n",
    "\n",
    "model = LogisticRegressionCV()\n"
   ]
  },
  {
   "cell_type": "markdown",
   "metadata": {
    "collapsed": true,
    "focus": false,
    "id": "936cd752-6b3f-450f-bfb6-1659c6e71539"
   },
   "source": [
    "Score: | /24\n",
    "------|-------\n",
    "Identify: Problem Statement and Hypothesis | \n",
    "Acquire: Import Data using BeautifulSoup| \n",
    "Parse: Clean and Organize Data| \n",
    "Model: Perform Logistic Regression| \n",
    "Evaluate: Logistic Regression Results\t|\n",
    "Present: Blog Report with Findings and Recommendations\t\t| \n",
    "Interactive Tableau visualizations | \n",
    "Regularization |\n",
    "Bonus: Countvectorizer  | "
   ]
  }
 ],
 "metadata": {
  "anaconda-cloud": {},
  "kernelspec": {
   "display_name": "Python [conda env:py27]",
   "language": "python",
   "name": "conda-env-py27-py"
  },
  "language_info": {
   "codemirror_mode": {
    "name": "ipython",
    "version": 2
   },
   "file_extension": ".py",
   "mimetype": "text/x-python",
   "name": "python",
   "nbconvert_exporter": "python",
   "pygments_lexer": "ipython2",
   "version": "2.7.12"
  }
 },
 "nbformat": 4,
 "nbformat_minor": 0
}

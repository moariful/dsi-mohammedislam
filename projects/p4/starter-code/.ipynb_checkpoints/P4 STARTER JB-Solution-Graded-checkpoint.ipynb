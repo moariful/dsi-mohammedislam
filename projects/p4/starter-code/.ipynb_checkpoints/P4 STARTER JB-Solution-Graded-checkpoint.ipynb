{
 "cells": [
  {
   "cell_type": "markdown",
   "metadata": {
    "focus": false,
    "id": "cc166dbc-d723-4076-8dd8-a290d911dc9b"
   },
   "source": [
    "# Project 4: Web Scraping Indeed.com & Predicting Salaries"
   ]
  },
  {
   "cell_type": "markdown",
   "metadata": {
    "focus": false,
    "id": "59b0deac-55d6-4908-8dee-ce68611486f0"
   },
   "source": [
    "In Project 4, we practice two major skills: collecting data via  web scraping and building a binary predictor with Logistic Regression.\n",
    "\n",
    "We will collect salary information on data science jobs in a variety of markets. Using location, title, and job summary, we'll predict the salary of the job. For job posting sites, this is extraordinarily useful. While most listings DO NOT come with salary information (as you will see in this exercise), extrapolating expected salary can help guide negotiations.\n",
    "\n",
    "Normally, we can use regression for this task; however, we will convert this problem into classification and use Logistic Regression.\n",
    "\n",
    "- Q: Why would we want this to be a classification problem?\n",
    "- A: While more precision may be better, there is a fair amount of natural variance in job salaries - predicting a range be may be useful.\n",
    "\n",
    "Section one focuses on scraping Indeed.com; then we use listings with salary information to build a model and predict additional salaries."
   ]
  },
  {
   "cell_type": "markdown",
   "metadata": {
    "focus": false,
    "id": "1321e3c4-2105-428e-9b1b-6d958453ef1d"
   },
   "source": [
    "### Scraping job listings from Indeed.com"
   ]
  },
  {
   "cell_type": "markdown",
   "metadata": {
    "focus": false,
    "id": "9d959074-bf26-4000-b0da-11273e253776"
   },
   "source": [
    "Scrape job listings from Indeed.com using BeautifulSoup. Luckily, Indeed.com is a simple text page where we can easily find relevant entries. First, look at the source of an Indeed.com page: (http://www.indeed.com/jobs?q=data+scientist+%2420%2C000&l=New+York&start=10\")\n",
    "\n",
    "Notice, each job listing is underneath a `div` tag with a class name of `result`. We can use BeautifulSoup to extract."
   ]
  },
  {
   "cell_type": "markdown",
   "metadata": {
    "focus": false,
    "id": "d9f7b5d1-b227-4bda-a87b-1606b62fb60b"
   },
   "source": [
    "#### Setup a request (using `requests`) to the URL below. Use BeautifulSoup to parse the page and extract all results (HINT: Look for div tags with class name result)\n",
    "\n",
    "The URL here has many query parameters\n",
    "\n",
    "- `q` for the job search\n",
    "- This is followed by \"+20,000\" to return results with salaries (or expected salaries >$20,000)\n",
    "- `l` for a location \n",
    "- `start` for what result number to start on"
   ]
  },
  {
   "cell_type": "code",
   "execution_count": 1,
   "metadata": {
    "collapsed": false
   },
   "outputs": [],
   "source": [
    "# import sys\n",
    "# reload(sys)\n",
    "# sys.setdefaultencoding('utf-8')\n",
    "\n",
    "import requests\n",
    "import bs4\n",
    "from bs4 import BeautifulSoup\n",
    "import pandas as pd\n",
    "import statsmodels.formula.api as sm\n",
    "import re\n",
    "import numpy as np\n",
    "from sklearn.cross_validation import cross_val_score, train_test_split\n",
    "from sklearn.linear_model import LogisticRegression\n",
    "from sklearn.preprocessing import StandardScaler\n",
    "from patsy import dmatrix\n",
    "from sklearn.metrics import confusion_matrix, classification_report, recall_score, roc_auc_score, roc_curve, auc, accuracy_score, precision_score\n",
    "import matplotlib.pyplot as plt\n",
    "plt.style.use('seaborn-white')\n",
    "# import geocoder\n",
    "# from geopy.geocoders import Nominatim\n",
    "# from geopy.distance import vincenty\n",
    "%matplotlib inline\n"
   ]
  },
  {
   "cell_type": "code",
   "execution_count": 2,
   "metadata": {
    "collapsed": false,
    "focus": false,
    "id": "911505d6-159f-4146-967d-a8482fe27e3d"
   },
   "outputs": [],
   "source": [
    "URL = \"http://www.indeed.com/jobs?q=data+scientist\"\n",
    "\n",
    "r = requests.get(URL)\n",
    "soup = BeautifulSoup(r.content, \"lxml\")\n",
    "\n",
    "results = soup.findAll('div', { \"class\" : \"result\" })"
   ]
  },
  {
   "cell_type": "markdown",
   "metadata": {
    "focus": false,
    "id": "963bb376-7746-43ce-98ec-ea4162f7ead6"
   },
   "source": [
    "Let's look at one result more closely. A single `result` looks like\n",
    "\n",
    "```\n",
    "<div class=\" row result\" data-jk=\"2480d203f7e97210\" data-tn-component=\"organicJob\" id=\"p_2480d203f7e97210\" itemscope=\"\" itemtype=\"http://schema.org/JobPosting\">\n",
    "<h2 class=\"jobtitle\" id=\"jl_2480d203f7e97210\">\n",
    "<a class=\"turnstileLink\" data-tn-element=\"jobTitle\" onmousedown=\"return rclk(this,jobmap[0],1);\" rel=\"nofollow\" target=\"_blank\" title=\"AVP/Quantitative Analyst\">AVP/Quantitative Analyst</a>\n",
    "</h2>\n",
    "<span class=\"company\" itemprop=\"hiringOrganization\" itemtype=\"http://schema.org/Organization\">\n",
    "<span itemprop=\"name\">\n",
    "<a href=\"/cmp/Alliancebernstein?from=SERP&amp;campaignid=serp-linkcompanyname&amp;fromjk=2480d203f7e97210&amp;jcid=b374f2a780e04789\" target=\"_blank\">\n",
    "    AllianceBernstein</a></span>\n",
    "</span>\n",
    "<tr>\n",
    "<td class=\"snip\">\n",
    "<nobr>$117,500 - $127,500 a year</nobr>\n",
    "<div>\n",
    "<span class=\"summary\" itemprop=\"description\">\n",
    "C onduct quantitative and statistical research as well as portfolio management for various investment portfolios. Collaborate with Quantitative Analysts and</span>\n",
    "</div>\n",
    "</div>\n",
    "</td>\n",
    "</tr>\n",
    "</table>\n",
    "</div>\n",
    "```\n",
    "\n",
    "While this has some of the more verbose elements removed, we can see that there is some structure to the above:\n",
    "- The salary is available in a `nobr` element inside of a `td` element with `class='snip`.\n",
    "- The title of a job is in a link with class set to `jobtitle` and a `data-tn-element=\"jobTitle`.  \n",
    "- The location is set in a `span` with `class='location'`. \n",
    "- The company is set in a `span` with `class='company'`. "
   ]
  },
  {
   "cell_type": "markdown",
   "metadata": {
    "focus": false,
    "id": "27b6ffb9-b42f-4298-b07a-10e3bab030cd"
   },
   "source": [
    "### Write 4 functions to extract each item: location, company, job, and salary.\n",
    "\n",
    "example: \n",
    "```python\n",
    "def extract_location_from_result(result):\n",
    "    return result.find ...\n",
    "```\n",
    "\n",
    "- Make sure these functions are robust and can handle cases where the data/field may not be available\n",
    "- Test the functions on the results above"
   ]
  },
  {
   "cell_type": "code",
   "execution_count": 3,
   "metadata": {
    "collapsed": true,
    "focus": false,
    "id": "f4b0755f-42e1-438f-89fc-131a60b781cd"
   },
   "outputs": [],
   "source": [
    "# get text\n",
    "def extract_text(el):\n",
    "    if el:\n",
    "        return el.text.strip()\n",
    "    else:\n",
    "        return ''\n",
    "        \n",
    "# company\n",
    "def get_company_from_result(result):\n",
    "    return extract_text(result.find('span', {'class' : 'company'}))\n",
    "    \n",
    "# location\n",
    "def get_location_from_result(result):\n",
    "    return extract_text(result.find('span', {'class' : 'location'}))\n",
    "\n",
    "# summary\n",
    "def get_summary_from_result(result):\n",
    "    return extract_text(result.find('span', {'class' : 'summary'}))\n",
    "\n",
    "# title\n",
    "def get_title_from_result(result):\n",
    "    return extract_text(result.find('a', {'data-tn-element' : 'jobTitle'}))\n",
    "\n",
    "# get salary if exists\n",
    "def get_salary_from_result(result):\n",
    "    salary_table = result.find('td', {'class' : 'snip'})\n",
    "    if salary_table:\n",
    "        snip = salary_table.find('nobr')\n",
    "        if snip:\n",
    "            return snip.text.strip()   \n",
    "    return None\n",
    "\n",
    "\n",
    "# def get_sponsored_from_result(result):\n",
    "#     return extract_text(result.find('span', {'class' : 'sdn'}))"
   ]
  },
  {
   "cell_type": "markdown",
   "metadata": {
    "focus": false,
    "id": "dc1d32a3-b13c-4919-8723-ce50dbc7660f"
   },
   "source": [
    "Now, to scale up our scraping, we need to accumulate more results. We can do this by examining the URL above.\n",
    "\n",
    "- \"http://www.indeed.com/jobs?q=data+scientist+%2420%2C000&l=New+York&start=10\"\n",
    "\n",
    "There are two query parameters here we can alter to collect more results: the `l=New+York` and the `start=10`. The first controls the location of the results (so we can try different city). The second controls where in the results to start and gives 10 results (so we can keep incrementing this by 10 to move further within the list)."
   ]
  },
  {
   "cell_type": "markdown",
   "metadata": {
    "focus": false,
    "id": "27584c3f-f552-40a2-842a-0681b1fd6265"
   },
   "source": [
    "#### Complete the following code to collect results from multiple cities and start points. \n",
    "- Enter your city below to add it to the search\n",
    "- Remember to convert your salary to U.S. Dollars to match the other cities if the currency is different"
   ]
  },
  {
   "cell_type": "code",
   "execution_count": 4,
   "metadata": {
    "collapsed": true,
    "focus": false,
    "id": "20a34e35-a4db-44eb-8490-9903f8bcf406"
   },
   "outputs": [],
   "source": [
    "# specify city\n",
    "cities = ['Georgia', 'New+York', 'San+Francisco', 'Boston', 'San+Diego', 'Chicago', 'Washington', 'Los+Angeles', 'California', 'Maryland', 'Texas', 'Minnesota', 'Florida', 'North+Carolina', 'South+Carolina']"
   ]
  },
  {
   "cell_type": "code",
   "execution_count": 5,
   "metadata": {
    "collapsed": false,
    "focus": false,
    "id": "b02e2931-4d5a-4e1e-9504-c6ccaaf84bed"
   },
   "outputs": [
    {
     "name": "stderr",
     "output_type": "stream",
     "text": [
      "/Users/alexandertam/anaconda/lib/python2.7/site-packages/bs4/__init__.py:166: UserWarning: No parser was explicitly specified, so I'm using the best available HTML parser for this system (\"lxml\"). This usually isn't a problem, but if you run this code on another system, or in a different virtual environment, it may use a different parser and behave differently.\n",
      "\n",
      "To get rid of this warning, change this:\n",
      "\n",
      " BeautifulSoup([your markup])\n",
      "\n",
      "to this:\n",
      "\n",
      " BeautifulSoup([your markup], \"lxml\")\n",
      "\n",
      "  markup_type=markup_type))\n"
     ]
    }
   ],
   "source": [
    "# create template URL and max number of results (pages) to pull\n",
    "url_template = \"http://www.indeed.com/jobs?q=data+scientist&l={}&start={}\"\n",
    "\n",
    "# for loop to pull data with bs4\n",
    "for city in set(cities):\n",
    "    for start in range(0, 200, 10):\n",
    "        r = requests.get(url_template.format(city, start))\n",
    "        # Grab the results from the request (as above)\n",
    "        soup = BeautifulSoup(r.content)\n",
    "        # Append to the full set of results\n",
    "        results += soup.findAll('div', { \"class\" : \"result\" })"
   ]
  },
  {
   "cell_type": "markdown",
   "metadata": {
    "focus": false,
    "id": "10eb5902-4727-4947-a167-2531aa12a427"
   },
   "source": [
    "#### Use the functions you wrote above to parse out the 4 fields - location, title, company and salary. Create a dataframe from the results with those 4 columns."
   ]
  },
  {
   "cell_type": "code",
   "execution_count": 6,
   "metadata": {
    "collapsed": false,
    "focus": false,
    "id": "d601ff2f-fbdf-4c4f-8bbe-10c4a3132cc8"
   },
   "outputs": [],
   "source": [
    "# combine data into dictionaries\n",
    "rows = []\n",
    "for result in results:\n",
    "    if result:\n",
    "        row = {\"location\":get_location_from_result(result), \"company\":get_company_from_result(result), \"title\":get_title_from_result(result), \"summary\":get_summary_from_result(result), \"salary\":get_salary_from_result(result)}\n",
    "    rows.append(row)\n",
    "\n",
    "# create dataframe\n",
    "data = pd.DataFrame(rows, columns=['company','location', 'title', 'summary', 'salary'])"
   ]
  },
  {
   "cell_type": "markdown",
   "metadata": {
    "focus": false,
    "id": "faac26dc-392a-4f90-a397-144a070702cb"
   },
   "source": [
    "Lastly, we need to clean up salary data. \n",
    "\n",
    "1. Only a small number of the scraped results have salary information - only these will be used for modeling.\n",
    "1. Some of the salaries are not yearly but hourly or weekly, these will not be useful to us for now\n",
    "1. Some of the entries may be duplicated\n",
    "1. The salaries are given as text and usually with ranges.\n",
    "\n",
    "#### Find the entries with annual salary entries, by filtering the entries without salaries or salaries that are not yearly (filter those that refer to hour or week). Also, remove duplicate entries"
   ]
  },
  {
   "cell_type": "code",
   "execution_count": 7,
   "metadata": {
    "collapsed": false,
    "focus": false,
    "id": "58ff72c5-eef2-4a86-93ac-22f84ed9b752"
   },
   "outputs": [],
   "source": [
    "# Remove duplicates\n",
    "df = data.drop_duplicates()\n",
    "# Filter to only the rows that have salary entries\n",
    "df = df[df.salary.notnull()]\n",
    "# Filter out salary entries referring to week, hour or month\n",
    "df = df[~(df.salary.astype('str').str.contains('hour'))] # example\n",
    "df = df[~(df.salary.astype('str').str.contains('week'))] \n",
    "df = df[~(df.salary.astype('str').str.contains('month'))] "
   ]
  },
  {
   "cell_type": "code",
   "execution_count": 8,
   "metadata": {
    "collapsed": true
   },
   "outputs": [],
   "source": [
    "# save scraped results as a CSV for Tableau/external viz\n",
    "df.to_csv('salary_data.csv', encoding='utf-8')"
   ]
  },
  {
   "cell_type": "markdown",
   "metadata": {
    "focus": false,
    "id": "e1f58de9-78a7-49c1-b1ff-145a8f983790"
   },
   "source": [
    "#### Write a function that takes a salary string and converts it to a number, averaging a salary range if necessary"
   ]
  },
  {
   "cell_type": "code",
   "execution_count": 23,
   "metadata": {
    "collapsed": true
   },
   "outputs": [],
   "source": [
    "# load in the the data of scraped salaries\n",
    "salary_data = pd.read_csv('salary_data.csv')"
   ]
  },
  {
   "cell_type": "code",
   "execution_count": 24,
   "metadata": {
    "collapsed": true
   },
   "outputs": [],
   "source": [
    "del salary_data['Unnamed: 0']"
   ]
  },
  {
   "cell_type": "code",
   "execution_count": 25,
   "metadata": {
    "collapsed": true,
    "focus": false,
    "id": "f2eaea83-8f84-48d3-af17-037538d06601"
   },
   "outputs": [],
   "source": [
    "def extract_salary_average(salary_string):\n",
    "    regex = r'\\$([0-9]+,[0-9]+)'\n",
    "    matches = re.findall(regex, salary_string)\n",
    "    return np.mean([float(salary.replace(',', '')) for salary in matches ])"
   ]
  },
  {
   "cell_type": "code",
   "execution_count": 26,
   "metadata": {
    "collapsed": true
   },
   "outputs": [],
   "source": [
    "salary_data = salary_data[salary_data.salary.notnull()]"
   ]
  },
  {
   "cell_type": "code",
   "execution_count": 27,
   "metadata": {
    "collapsed": false
   },
   "outputs": [
    {
     "data": {
      "text/html": [
       "<div>\n",
       "<table border=\"1\" class=\"dataframe\">\n",
       "  <thead>\n",
       "    <tr style=\"text-align: right;\">\n",
       "      <th></th>\n",
       "      <th>company</th>\n",
       "      <th>location</th>\n",
       "      <th>title</th>\n",
       "      <th>summary</th>\n",
       "      <th>salary</th>\n",
       "    </tr>\n",
       "  </thead>\n",
       "  <tbody>\n",
       "    <tr>\n",
       "      <th>0</th>\n",
       "      <td>Wake County Government</td>\n",
       "      <td>Raleigh, NC</td>\n",
       "      <td>DATA SCIENTIST</td>\n",
       "      <td>Ability to apply data mining and analytical te...</td>\n",
       "      <td>$93,990 a year</td>\n",
       "    </tr>\n",
       "    <tr>\n",
       "      <th>1</th>\n",
       "      <td>Centers for Disease Control and Prevention</td>\n",
       "      <td>Atlanta, GA</td>\n",
       "      <td>Health Scientist</td>\n",
       "      <td>Identify and analyze public health issues and ...</td>\n",
       "      <td>$104,349 - $135,656 a year</td>\n",
       "    </tr>\n",
       "    <tr>\n",
       "      <th>2</th>\n",
       "      <td>Centers for Disease Control and Prevention</td>\n",
       "      <td>Atlanta, GA</td>\n",
       "      <td>Statistician (Health)</td>\n",
       "      <td>Whether we are protecting the American people ...</td>\n",
       "      <td>$88,305 - $114,802 a year</td>\n",
       "    </tr>\n",
       "    <tr>\n",
       "      <th>3</th>\n",
       "      <td>Centers for Disease Control and Prevention</td>\n",
       "      <td>Atlanta, GA</td>\n",
       "      <td>Behavioral Scientist</td>\n",
       "      <td>Whether we are protecting the American people ...</td>\n",
       "      <td>$74,260 - $96,538 a year</td>\n",
       "    </tr>\n",
       "    <tr>\n",
       "      <th>4</th>\n",
       "      <td>Analytic Recruiting</td>\n",
       "      <td>Alpharetta, GA</td>\n",
       "      <td>Junior Data Scientist</td>\n",
       "      <td>Experience with Teradata SQL, MS SQL server Da...</td>\n",
       "      <td>$75,000 - $90,000 a year</td>\n",
       "    </tr>\n",
       "  </tbody>\n",
       "</table>\n",
       "</div>"
      ],
      "text/plain": [
       "                                      company        location  \\\n",
       "0                      Wake County Government     Raleigh, NC   \n",
       "1  Centers for Disease Control and Prevention     Atlanta, GA   \n",
       "2  Centers for Disease Control and Prevention     Atlanta, GA   \n",
       "3  Centers for Disease Control and Prevention     Atlanta, GA   \n",
       "4                         Analytic Recruiting  Alpharetta, GA   \n",
       "\n",
       "                   title                                            summary  \\\n",
       "0         DATA SCIENTIST  Ability to apply data mining and analytical te...   \n",
       "1       Health Scientist  Identify and analyze public health issues and ...   \n",
       "2  Statistician (Health)  Whether we are protecting the American people ...   \n",
       "3   Behavioral Scientist  Whether we are protecting the American people ...   \n",
       "4  Junior Data Scientist  Experience with Teradata SQL, MS SQL server Da...   \n",
       "\n",
       "                       salary  \n",
       "0              $93,990 a year  \n",
       "1  $104,349 - $135,656 a year  \n",
       "2   $88,305 - $114,802 a year  \n",
       "3    $74,260 - $96,538 a year  \n",
       "4    $75,000 - $90,000 a year  "
      ]
     },
     "execution_count": 27,
     "metadata": {},
     "output_type": "execute_result"
    }
   ],
   "source": [
    "#AT\n",
    "salary_data.head()"
   ]
  },
  {
   "cell_type": "code",
   "execution_count": 28,
   "metadata": {
    "collapsed": false,
    "focus": false,
    "id": "2d46d846-8aeb-49c3-86ac-768c4fc81552"
   },
   "outputs": [],
   "source": [
    "# use '.map' to transform salary to new feature\n",
    "salary_data['salary'] = salary_data['salary'].map(extract_salary_average)"
   ]
  },
  {
   "cell_type": "code",
   "execution_count": 29,
   "metadata": {
    "collapsed": true
   },
   "outputs": [],
   "source": [
    "def city_extract(word):\n",
    " return word.split(',')[0]\n",
    "\n",
    "def state_extract(word):\n",
    " return word.split(',')[1].split(' ')[1]"
   ]
  },
  {
   "cell_type": "code",
   "execution_count": 30,
   "metadata": {
    "collapsed": false
   },
   "outputs": [],
   "source": [
    "salary_data = salary_data[salary_data.location.str.contains(',')] "
   ]
  },
  {
   "cell_type": "code",
   "execution_count": 31,
   "metadata": {
    "collapsed": false
   },
   "outputs": [],
   "source": [
    "salary_data['state'] = pd.DataFrame({'state':salary_data['location'].apply(state_extract)})\n",
    "salary_data['city'] = pd.DataFrame({'city':salary_data['location'].apply(city_extract)})"
   ]
  },
  {
   "cell_type": "code",
   "execution_count": 32,
   "metadata": {
    "collapsed": false
   },
   "outputs": [],
   "source": [
    "del salary_data['location']"
   ]
  },
  {
   "cell_type": "markdown",
   "metadata": {
    "focus": false,
    "id": "6e8a5a1c-1580-4845-a9b6-482bc00c73cd"
   },
   "source": [
    "## Predicting salaries using Logistic Regression"
   ]
  },
  {
   "cell_type": "markdown",
   "metadata": {
    "focus": false,
    "id": "c3ed6de7-8fe0-4cf4-abbd-abb2a188e05b"
   },
   "source": [
    "#### We want to predict a binary variable - whether the salary was low or high. Compute the median salary and create a new binary variable that is true when the salary is high (above the median)"
   ]
  },
  {
   "cell_type": "code",
   "execution_count": 33,
   "metadata": {
    "collapsed": false,
    "focus": false,
    "id": "073e3f3e-21bc-4ab7-ae2e-272be0a409cc"
   },
   "outputs": [],
   "source": [
    "# calculate median and create feature with 1 as high salary\n",
    "medianSalary = salary_data['salary'].median()"
   ]
  },
  {
   "cell_type": "code",
   "execution_count": 34,
   "metadata": {
    "collapsed": true
   },
   "outputs": [],
   "source": [
    "salary_data['high_salary'] = salary_data['salary'].map(lambda x: 1 if x > medianSalary else 0)"
   ]
  },
  {
   "cell_type": "markdown",
   "metadata": {
    "focus": false,
    "id": "3c7ec3d2-87a0-4290-9d83-a6f4a9ae7e9c"
   },
   "source": [
    "### Q: What is the baseline accuracy for this model?"
   ]
  },
  {
   "cell_type": "markdown",
   "metadata": {
    "collapsed": true,
    "focus": false,
    "id": "987666b2-d8e6-4715-b499-c9d314fb70ce"
   },
   "source": [
    "It is 50% if we guess randomly, half the salaries will be below the median and half will be above."
   ]
  },
  {
   "cell_type": "markdown",
   "metadata": {
    "focus": false,
    "id": "ea7e00cb-9956-44ec-b585-7b95f4d6284c"
   },
   "source": [
    "#### Create a Logistic Regression model to predict High/Low salary using statsmodel. Start by ONLY using the location as a feature. Display the coefficients and write a short summary of what they mean."
   ]
  },
  {
   "cell_type": "code",
   "execution_count": 35,
   "metadata": {
    "collapsed": false,
    "focus": false,
    "id": "ce9161b3-eff3-475c-a087-a2be38d7f626",
    "scrolled": false
   },
   "outputs": [
    {
     "name": "stdout",
     "output_type": "stream",
     "text": [
      "Optimization terminated successfully.\n",
      "         Current function value: 0.310298\n",
      "         Iterations: 15\n",
      "         Function evaluations: 16\n",
      "         Gradient evaluations: 30\n",
      "         Hessian evaluations: 15\n"
     ]
    },
    {
     "data": {
      "text/html": [
       "<table class=\"simpletable\">\n",
       "<caption>Logit Regression Results</caption>\n",
       "<tr>\n",
       "  <th>Dep. Variable:</th>    <td>high_salary</td>   <th>  No. Observations:  </th>  <td>   138</td>  \n",
       "</tr>\n",
       "<tr>\n",
       "  <th>Model:</th>               <td>Logit</td>      <th>  Df Residuals:      </th>  <td>    89</td>  \n",
       "</tr>\n",
       "<tr>\n",
       "  <th>Method:</th>               <td>MLE</td>       <th>  Df Model:          </th>  <td>    48</td>  \n",
       "</tr>\n",
       "<tr>\n",
       "  <th>Date:</th>          <td>Tue, 22 Nov 2016</td> <th>  Pseudo R-squ.:     </th>  <td>0.5523</td>  \n",
       "</tr>\n",
       "<tr>\n",
       "  <th>Time:</th>              <td>15:32:59</td>     <th>  Log-Likelihood:    </th> <td> -42.821</td> \n",
       "</tr>\n",
       "<tr>\n",
       "  <th>converged:</th>           <td>True</td>       <th>  LL-Null:           </th> <td> -95.640</td> \n",
       "</tr>\n",
       "<tr>\n",
       "  <th> </th>                      <td> </td>        <th>  LLR p-value:       </th> <td>3.244e-06</td>\n",
       "</tr>\n",
       "</table>\n",
       "<table class=\"simpletable\">\n",
       "<tr>\n",
       "                 <td></td>                   <th>coef</th>     <th>std err</th>      <th>z</th>      <th>P>|z|</th> <th>[95.0% Conf. Int.]</th> \n",
       "</tr>\n",
       "<tr>\n",
       "  <th>Intercept</th>                      <td>   -8.6783</td> <td>   76.654</td> <td>   -0.113</td> <td> 0.910</td> <td> -158.917   141.561</td>\n",
       "</tr>\n",
       "<tr>\n",
       "  <th>city[T.Anne Arundel County]</th>    <td>   -4.8250</td> <td>  858.898</td> <td>   -0.006</td> <td> 0.996</td> <td>-1688.233  1678.583</td>\n",
       "</tr>\n",
       "<tr>\n",
       "  <th>city[T.Atlanta]</th>                <td>    9.0837</td> <td>   76.657</td> <td>    0.118</td> <td> 0.906</td> <td> -141.161   159.328</td>\n",
       "</tr>\n",
       "<tr>\n",
       "  <th>city[T.Baltimore]</th>              <td>   -6.9707</td> <td>  887.600</td> <td>   -0.008</td> <td> 0.994</td> <td>-1746.636  1732.694</td>\n",
       "</tr>\n",
       "<tr>\n",
       "  <th>city[T.Bethesda]</th>               <td>   20.4505</td> <td>  368.079</td> <td>    0.056</td> <td> 0.956</td> <td> -700.971   741.872</td>\n",
       "</tr>\n",
       "<tr>\n",
       "  <th>city[T.Boston]</th>                 <td>   22.6478</td> <td>  368.086</td> <td>    0.062</td> <td> 0.951</td> <td> -698.788   744.083</td>\n",
       "</tr>\n",
       "<tr>\n",
       "  <th>city[T.Cambridge]</th>              <td>    8.6782</td> <td>   76.667</td> <td>    0.113</td> <td> 0.910</td> <td> -141.586   158.943</td>\n",
       "</tr>\n",
       "<tr>\n",
       "  <th>city[T.Carteret County]</th>        <td>   -5.5392</td> <td>  867.883</td> <td>   -0.006</td> <td> 0.995</td> <td>-1706.559  1695.480</td>\n",
       "</tr>\n",
       "<tr>\n",
       "  <th>city[T.Chapel Hill]</th>            <td>   -4.8250</td> <td>  858.898</td> <td>   -0.006</td> <td> 0.996</td> <td>-1688.233  1678.583</td>\n",
       "</tr>\n",
       "<tr>\n",
       "  <th>city[T.Chatsworth]</th>             <td>   -4.8250</td> <td>  858.898</td> <td>   -0.006</td> <td> 0.996</td> <td>-1688.233  1678.583</td>\n",
       "</tr>\n",
       "<tr>\n",
       "  <th>city[T.Chicago]</th>                <td>    9.5256</td> <td>   76.657</td> <td>    0.124</td> <td> 0.901</td> <td> -140.720   159.771</td>\n",
       "</tr>\n",
       "<tr>\n",
       "  <th>city[T.Clearwater]</th>             <td>    8.6782</td> <td>   76.667</td> <td>    0.113</td> <td> 0.910</td> <td> -141.586   158.943</td>\n",
       "</tr>\n",
       "<tr>\n",
       "  <th>city[T.Coral Gables]</th>           <td>    6.8865</td> <td>   76.662</td> <td>    0.090</td> <td> 0.928</td> <td> -143.367   157.140</td>\n",
       "</tr>\n",
       "<tr>\n",
       "  <th>city[T.Dallas]</th>                 <td>   20.4505</td> <td>  368.079</td> <td>    0.056</td> <td> 0.956</td> <td> -700.971   741.872</td>\n",
       "</tr>\n",
       "<tr>\n",
       "  <th>city[T.Daytona Beach]</th>          <td>   -4.8250</td> <td>  858.898</td> <td>   -0.006</td> <td> 0.996</td> <td>-1688.233  1678.583</td>\n",
       "</tr>\n",
       "<tr>\n",
       "  <th>city[T.Durham]</th>                 <td>   20.4505</td> <td>  368.079</td> <td>    0.056</td> <td> 0.956</td> <td> -700.971   741.872</td>\n",
       "</tr>\n",
       "<tr>\n",
       "  <th>city[T.Fort George G Meade]</th>    <td>   20.4505</td> <td>  368.079</td> <td>    0.056</td> <td> 0.956</td> <td> -700.971   741.872</td>\n",
       "</tr>\n",
       "<tr>\n",
       "  <th>city[T.Fort Worth]</th>             <td>   -4.8250</td> <td>  858.898</td> <td>   -0.006</td> <td> 0.996</td> <td>-1688.233  1678.583</td>\n",
       "</tr>\n",
       "<tr>\n",
       "  <th>city[T.Gainesville]</th>            <td>   -4.8250</td> <td>  858.898</td> <td>   -0.006</td> <td> 0.996</td> <td>-1688.233  1678.583</td>\n",
       "</tr>\n",
       "<tr>\n",
       "  <th>city[T.Galveston]</th>              <td>   20.4505</td> <td>  368.079</td> <td>    0.056</td> <td> 0.956</td> <td> -700.971   741.872</td>\n",
       "</tr>\n",
       "<tr>\n",
       "  <th>city[T.Greenbelt]</th>              <td>   -4.8250</td> <td>  858.898</td> <td>   -0.006</td> <td> 0.996</td> <td>-1688.233  1678.583</td>\n",
       "</tr>\n",
       "<tr>\n",
       "  <th>city[T.Greensboro]</th>             <td>   -4.8250</td> <td>  858.898</td> <td>   -0.006</td> <td> 0.996</td> <td>-1688.233  1678.583</td>\n",
       "</tr>\n",
       "<tr>\n",
       "  <th>city[T.Houston]</th>                <td>   -4.8250</td> <td>  858.898</td> <td>   -0.006</td> <td> 0.996</td> <td>-1688.233  1678.583</td>\n",
       "</tr>\n",
       "<tr>\n",
       "  <th>city[T.Jacksonville]</th>           <td>   20.4505</td> <td>  368.079</td> <td>    0.056</td> <td> 0.956</td> <td> -700.971   741.872</td>\n",
       "</tr>\n",
       "<tr>\n",
       "  <th>city[T.Largo]</th>                  <td>   -4.8250</td> <td>  858.898</td> <td>   -0.006</td> <td> 0.996</td> <td>-1688.233  1678.583</td>\n",
       "</tr>\n",
       "<tr>\n",
       "  <th>city[T.Los Angeles]</th>            <td>    8.9014</td> <td>   76.657</td> <td>    0.116</td> <td> 0.908</td> <td> -141.343   159.146</td>\n",
       "</tr>\n",
       "<tr>\n",
       "  <th>city[T.Manhattan]</th>              <td>   -5.9603</td> <td>  874.674</td> <td>   -0.007</td> <td> 0.995</td> <td>-1720.291  1708.370</td>\n",
       "</tr>\n",
       "<tr>\n",
       "  <th>city[T.Miami]</th>                  <td>   -4.8250</td> <td>  858.898</td> <td>   -0.006</td> <td> 0.996</td> <td>-1688.233  1678.583</td>\n",
       "</tr>\n",
       "<tr>\n",
       "  <th>city[T.Miami Lakes]</th>            <td>   -4.8250</td> <td>  858.898</td> <td>   -0.006</td> <td> 0.996</td> <td>-1688.233  1678.583</td>\n",
       "</tr>\n",
       "<tr>\n",
       "  <th>city[T.Mills River]</th>            <td>   -4.8250</td> <td>  858.898</td> <td>   -0.006</td> <td> 0.996</td> <td>-1688.233  1678.583</td>\n",
       "</tr>\n",
       "<tr>\n",
       "  <th>city[T.Minneapolis]</th>            <td>    7.5796</td> <td>   76.663</td> <td>    0.099</td> <td> 0.921</td> <td> -142.676   157.836</td>\n",
       "</tr>\n",
       "<tr>\n",
       "  <th>city[T.Minneapolis-Saint Paul]</th> <td>   -4.8250</td> <td>  858.898</td> <td>   -0.006</td> <td> 0.996</td> <td>-1688.233  1678.583</td>\n",
       "</tr>\n",
       "<tr>\n",
       "  <th>city[T.Myrtle Beach]</th>           <td>   -4.8250</td> <td>  858.898</td> <td>   -0.006</td> <td> 0.996</td> <td>-1688.233  1678.583</td>\n",
       "</tr>\n",
       "<tr>\n",
       "  <th>city[T.New York]</th>               <td>   10.4700</td> <td>   76.662</td> <td>    0.137</td> <td> 0.891</td> <td> -139.784   160.724</td>\n",
       "</tr>\n",
       "<tr>\n",
       "  <th>city[T.Orlando]</th>                <td>   -4.8250</td> <td>  858.898</td> <td>   -0.006</td> <td> 0.996</td> <td>-1688.233  1678.583</td>\n",
       "</tr>\n",
       "<tr>\n",
       "  <th>city[T.Palo Alto]</th>              <td>   21.1437</td> <td>  368.082</td> <td>    0.057</td> <td> 0.954</td> <td> -700.283   742.570</td>\n",
       "</tr>\n",
       "<tr>\n",
       "  <th>city[T.Pensacola]</th>              <td>   -4.8250</td> <td>  858.898</td> <td>   -0.006</td> <td> 0.996</td> <td>-1688.233  1678.583</td>\n",
       "</tr>\n",
       "<tr>\n",
       "  <th>city[T.Raleigh]</th>                <td>    8.6783</td> <td>   76.660</td> <td>    0.113</td> <td> 0.910</td> <td> -141.574   158.930</td>\n",
       "</tr>\n",
       "<tr>\n",
       "  <th>city[T.Research Triangle Park]</th> <td>   20.4505</td> <td>  368.079</td> <td>    0.056</td> <td> 0.956</td> <td> -700.971   741.872</td>\n",
       "</tr>\n",
       "<tr>\n",
       "  <th>city[T.Richland County]</th>        <td>   -5.5392</td> <td>  867.883</td> <td>   -0.006</td> <td> 0.995</td> <td>-1706.559  1695.480</td>\n",
       "</tr>\n",
       "<tr>\n",
       "  <th>city[T.Riviera Beach]</th>          <td>   -4.8250</td> <td>  858.898</td> <td>   -0.006</td> <td> 0.996</td> <td>-1688.233  1678.583</td>\n",
       "</tr>\n",
       "<tr>\n",
       "  <th>city[T.San Diego]</th>              <td>    7.9851</td> <td>   76.664</td> <td>    0.104</td> <td> 0.917</td> <td> -142.273   158.243</td>\n",
       "</tr>\n",
       "<tr>\n",
       "  <th>city[T.San Francisco]</th>          <td>   22.0600</td> <td>  368.085</td> <td>    0.060</td> <td> 0.952</td> <td> -699.374   743.494</td>\n",
       "</tr>\n",
       "<tr>\n",
       "  <th>city[T.Spartanburg]</th>            <td>    8.6782</td> <td>   76.667</td> <td>    0.113</td> <td> 0.910</td> <td> -141.586   158.943</td>\n",
       "</tr>\n",
       "<tr>\n",
       "  <th>city[T.Tampa]</th>                  <td>    8.6782</td> <td>   76.667</td> <td>    0.113</td> <td> 0.910</td> <td> -141.586   158.943</td>\n",
       "</tr>\n",
       "<tr>\n",
       "  <th>city[T.Wake County]</th>            <td>   -4.8250</td> <td>  858.898</td> <td>   -0.006</td> <td> 0.996</td> <td>-1688.233  1678.583</td>\n",
       "</tr>\n",
       "<tr>\n",
       "  <th>city[T.Waltham]</th>                <td>   20.4505</td> <td>  368.079</td> <td>    0.056</td> <td> 0.956</td> <td> -700.971   741.872</td>\n",
       "</tr>\n",
       "<tr>\n",
       "  <th>city[T.Washington]</th>             <td>   10.3830</td> <td>   76.658</td> <td>    0.135</td> <td> 0.892</td> <td> -139.864   160.630</td>\n",
       "</tr>\n",
       "<tr>\n",
       "  <th>city[T.West Palm Beach]</th>        <td>   -6.2563</td> <td>  878.272</td> <td>   -0.007</td> <td> 0.994</td> <td>-1727.638  1715.125</td>\n",
       "</tr>\n",
       "</table>"
      ],
      "text/plain": [
       "<class 'statsmodels.iolib.summary.Summary'>\n",
       "\"\"\"\n",
       "                           Logit Regression Results                           \n",
       "==============================================================================\n",
       "Dep. Variable:            high_salary   No. Observations:                  138\n",
       "Model:                          Logit   Df Residuals:                       89\n",
       "Method:                           MLE   Df Model:                           48\n",
       "Date:                Tue, 22 Nov 2016   Pseudo R-squ.:                  0.5523\n",
       "Time:                        15:32:59   Log-Likelihood:                -42.821\n",
       "converged:                       True   LL-Null:                       -95.640\n",
       "                                        LLR p-value:                 3.244e-06\n",
       "==================================================================================================\n",
       "                                     coef    std err          z      P>|z|      [95.0% Conf. Int.]\n",
       "--------------------------------------------------------------------------------------------------\n",
       "Intercept                         -8.6783     76.654     -0.113      0.910      -158.917   141.561\n",
       "city[T.Anne Arundel County]       -4.8250    858.898     -0.006      0.996     -1688.233  1678.583\n",
       "city[T.Atlanta]                    9.0837     76.657      0.118      0.906      -141.161   159.328\n",
       "city[T.Baltimore]                 -6.9707    887.600     -0.008      0.994     -1746.636  1732.694\n",
       "city[T.Bethesda]                  20.4505    368.079      0.056      0.956      -700.971   741.872\n",
       "city[T.Boston]                    22.6478    368.086      0.062      0.951      -698.788   744.083\n",
       "city[T.Cambridge]                  8.6782     76.667      0.113      0.910      -141.586   158.943\n",
       "city[T.Carteret County]           -5.5392    867.883     -0.006      0.995     -1706.559  1695.480\n",
       "city[T.Chapel Hill]               -4.8250    858.898     -0.006      0.996     -1688.233  1678.583\n",
       "city[T.Chatsworth]                -4.8250    858.898     -0.006      0.996     -1688.233  1678.583\n",
       "city[T.Chicago]                    9.5256     76.657      0.124      0.901      -140.720   159.771\n",
       "city[T.Clearwater]                 8.6782     76.667      0.113      0.910      -141.586   158.943\n",
       "city[T.Coral Gables]               6.8865     76.662      0.090      0.928      -143.367   157.140\n",
       "city[T.Dallas]                    20.4505    368.079      0.056      0.956      -700.971   741.872\n",
       "city[T.Daytona Beach]             -4.8250    858.898     -0.006      0.996     -1688.233  1678.583\n",
       "city[T.Durham]                    20.4505    368.079      0.056      0.956      -700.971   741.872\n",
       "city[T.Fort George G Meade]       20.4505    368.079      0.056      0.956      -700.971   741.872\n",
       "city[T.Fort Worth]                -4.8250    858.898     -0.006      0.996     -1688.233  1678.583\n",
       "city[T.Gainesville]               -4.8250    858.898     -0.006      0.996     -1688.233  1678.583\n",
       "city[T.Galveston]                 20.4505    368.079      0.056      0.956      -700.971   741.872\n",
       "city[T.Greenbelt]                 -4.8250    858.898     -0.006      0.996     -1688.233  1678.583\n",
       "city[T.Greensboro]                -4.8250    858.898     -0.006      0.996     -1688.233  1678.583\n",
       "city[T.Houston]                   -4.8250    858.898     -0.006      0.996     -1688.233  1678.583\n",
       "city[T.Jacksonville]              20.4505    368.079      0.056      0.956      -700.971   741.872\n",
       "city[T.Largo]                     -4.8250    858.898     -0.006      0.996     -1688.233  1678.583\n",
       "city[T.Los Angeles]                8.9014     76.657      0.116      0.908      -141.343   159.146\n",
       "city[T.Manhattan]                 -5.9603    874.674     -0.007      0.995     -1720.291  1708.370\n",
       "city[T.Miami]                     -4.8250    858.898     -0.006      0.996     -1688.233  1678.583\n",
       "city[T.Miami Lakes]               -4.8250    858.898     -0.006      0.996     -1688.233  1678.583\n",
       "city[T.Mills River]               -4.8250    858.898     -0.006      0.996     -1688.233  1678.583\n",
       "city[T.Minneapolis]                7.5796     76.663      0.099      0.921      -142.676   157.836\n",
       "city[T.Minneapolis-Saint Paul]    -4.8250    858.898     -0.006      0.996     -1688.233  1678.583\n",
       "city[T.Myrtle Beach]              -4.8250    858.898     -0.006      0.996     -1688.233  1678.583\n",
       "city[T.New York]                  10.4700     76.662      0.137      0.891      -139.784   160.724\n",
       "city[T.Orlando]                   -4.8250    858.898     -0.006      0.996     -1688.233  1678.583\n",
       "city[T.Palo Alto]                 21.1437    368.082      0.057      0.954      -700.283   742.570\n",
       "city[T.Pensacola]                 -4.8250    858.898     -0.006      0.996     -1688.233  1678.583\n",
       "city[T.Raleigh]                    8.6783     76.660      0.113      0.910      -141.574   158.930\n",
       "city[T.Research Triangle Park]    20.4505    368.079      0.056      0.956      -700.971   741.872\n",
       "city[T.Richland County]           -5.5392    867.883     -0.006      0.995     -1706.559  1695.480\n",
       "city[T.Riviera Beach]             -4.8250    858.898     -0.006      0.996     -1688.233  1678.583\n",
       "city[T.San Diego]                  7.9851     76.664      0.104      0.917      -142.273   158.243\n",
       "city[T.San Francisco]             22.0600    368.085      0.060      0.952      -699.374   743.494\n",
       "city[T.Spartanburg]                8.6782     76.667      0.113      0.910      -141.586   158.943\n",
       "city[T.Tampa]                      8.6782     76.667      0.113      0.910      -141.586   158.943\n",
       "city[T.Wake County]               -4.8250    858.898     -0.006      0.996     -1688.233  1678.583\n",
       "city[T.Waltham]                   20.4505    368.079      0.056      0.956      -700.971   741.872\n",
       "city[T.Washington]                10.3830     76.658      0.135      0.892      -139.864   160.630\n",
       "city[T.West Palm Beach]           -6.2563    878.272     -0.007      0.994     -1727.638  1715.125\n",
       "==================================================================================================\n",
       "\"\"\""
      ]
     },
     "execution_count": 35,
     "metadata": {},
     "output_type": "execute_result"
    }
   ],
   "source": [
    "# This model keeps giving me a Singular Matrix error every few times I run it with new data. If that happens, it seems\n",
    "# to work when I pass \"method='ncg'\" into the .fit()\n",
    "# create statsmodel and summary\n",
    "import statsmodels.formula.api as sm\n",
    "st_model_1 = sm.logit(\"high_salary ~ city\", data=salary_data).fit(method='ncg')\n",
    "st_model_1.summary()"
   ]
  },
  {
   "cell_type": "markdown",
   "metadata": {
    "focus": false,
    "id": "1ecd7811-d200-44bc-942f-4beb76d2689c"
   },
   "source": [
    "#### Create a few new variables in your dataframe to represent interesting features of a job title.\n",
    "- For example, create a feature that represents whether 'Senior' or 'Manager' is in the title \n",
    "- Then build a new Logistic Regression model with these features. Do they add any value? \n"
   ]
  },
  {
   "cell_type": "code",
   "execution_count": 36,
   "metadata": {
    "collapsed": false,
    "focus": false,
    "id": "b847f46e-1626-4340-86fb-08dea8c31a84"
   },
   "outputs": [],
   "source": [
    "# create senior, director, and manager dummies\n",
    "salary_data['is_senior'] = salary_data['title'].str.contains('enior','Sr').astype(int) # example\n",
    "salary_data['is_director'] = salary_data['title'].str.contains('irector').astype(int) \n",
    "salary_data['is_manager'] = salary_data['title'].str.contains('anager').astype(int) \n",
    "# df['is_lead'] = df['title'].str.contains('ead').astype(int) \n",
    "# df['is_junior'] = df['title'].str.contains('unior').astype(int) \n",
    "# df['is_analyst'] = df['title'].str.contains('alyst').astype(int) "
   ]
  },
  {
   "cell_type": "code",
   "execution_count": 37,
   "metadata": {
    "collapsed": true
   },
   "outputs": [],
   "source": [
    "cd = pd.pivot_table(salary_data, index='city', values='salary')"
   ]
  },
  {
   "cell_type": "code",
   "execution_count": 38,
   "metadata": {
    "collapsed": true
   },
   "outputs": [],
   "source": [
    "salary_data['city_avg_sal'] = salary_data['city'].map(cd)"
   ]
  },
  {
   "cell_type": "code",
   "execution_count": 39,
   "metadata": {
    "collapsed": false,
    "scrolled": false
   },
   "outputs": [
    {
     "name": "stdout",
     "output_type": "stream",
     "text": [
      "Optimization terminated successfully.\n",
      "         Current function value: 0.399073\n",
      "         Iterations 7\n"
     ]
    },
    {
     "data": {
      "text/html": [
       "<table class=\"simpletable\">\n",
       "<caption>Logit Regression Results</caption>\n",
       "<tr>\n",
       "  <th>Dep. Variable:</th>    <td>high_salary</td>   <th>  No. Observations:  </th>  <td>   138</td>  \n",
       "</tr>\n",
       "<tr>\n",
       "  <th>Model:</th>               <td>Logit</td>      <th>  Df Residuals:      </th>  <td>   134</td>  \n",
       "</tr>\n",
       "<tr>\n",
       "  <th>Method:</th>               <td>MLE</td>       <th>  Df Model:          </th>  <td>     3</td>  \n",
       "</tr>\n",
       "<tr>\n",
       "  <th>Date:</th>          <td>Tue, 22 Nov 2016</td> <th>  Pseudo R-squ.:     </th>  <td>0.4242</td>  \n",
       "</tr>\n",
       "<tr>\n",
       "  <th>Time:</th>              <td>15:33:08</td>     <th>  Log-Likelihood:    </th> <td> -55.072</td> \n",
       "</tr>\n",
       "<tr>\n",
       "  <th>converged:</th>           <td>True</td>       <th>  LL-Null:           </th> <td> -95.640</td> \n",
       "</tr>\n",
       "<tr>\n",
       "  <th> </th>                      <td> </td>        <th>  LLR p-value:       </th> <td>1.752e-17</td>\n",
       "</tr>\n",
       "</table>\n",
       "<table class=\"simpletable\">\n",
       "<tr>\n",
       "        <td></td>          <th>coef</th>     <th>std err</th>      <th>z</th>      <th>P>|z|</th> <th>[95.0% Conf. Int.]</th> \n",
       "</tr>\n",
       "<tr>\n",
       "  <th>Intercept</th>    <td>   -6.7787</td> <td>    1.101</td> <td>   -6.154</td> <td> 0.000</td> <td>   -8.938    -4.620</td>\n",
       "</tr>\n",
       "<tr>\n",
       "  <th>is_senior</th>    <td>    0.9887</td> <td>    0.857</td> <td>    1.154</td> <td> 0.248</td> <td>   -0.690     2.668</td>\n",
       "</tr>\n",
       "<tr>\n",
       "  <th>is_manager</th>   <td>   -0.9930</td> <td>    2.124</td> <td>   -0.467</td> <td> 0.640</td> <td>   -5.156     3.170</td>\n",
       "</tr>\n",
       "<tr>\n",
       "  <th>city_avg_sal</th> <td> 7.267e-05</td> <td> 1.16e-05</td> <td>    6.284</td> <td> 0.000</td> <td>    5e-05  9.53e-05</td>\n",
       "</tr>\n",
       "</table>"
      ],
      "text/plain": [
       "<class 'statsmodels.iolib.summary.Summary'>\n",
       "\"\"\"\n",
       "                           Logit Regression Results                           \n",
       "==============================================================================\n",
       "Dep. Variable:            high_salary   No. Observations:                  138\n",
       "Model:                          Logit   Df Residuals:                      134\n",
       "Method:                           MLE   Df Model:                            3\n",
       "Date:                Tue, 22 Nov 2016   Pseudo R-squ.:                  0.4242\n",
       "Time:                        15:33:08   Log-Likelihood:                -55.072\n",
       "converged:                       True   LL-Null:                       -95.640\n",
       "                                        LLR p-value:                 1.752e-17\n",
       "================================================================================\n",
       "                   coef    std err          z      P>|z|      [95.0% Conf. Int.]\n",
       "--------------------------------------------------------------------------------\n",
       "Intercept       -6.7787      1.101     -6.154      0.000        -8.938    -4.620\n",
       "is_senior        0.9887      0.857      1.154      0.248        -0.690     2.668\n",
       "is_manager      -0.9930      2.124     -0.467      0.640        -5.156     3.170\n",
       "city_avg_sal  7.267e-05   1.16e-05      6.284      0.000         5e-05  9.53e-05\n",
       "================================================================================\n",
       "\"\"\""
      ]
     },
     "execution_count": 39,
     "metadata": {},
     "output_type": "execute_result"
    }
   ],
   "source": [
    "st_model_2 = sm.logit(\"high_salary ~ is_senior + is_manager + city_avg_sal\", data=salary_data).fit()\n",
    "st_model_2.summary()"
   ]
  },
  {
   "cell_type": "markdown",
   "metadata": {
    "focus": false,
    "id": "7ca5cfdd-958c-4199-aafa-3d3f6c5ba3c4"
   },
   "source": [
    "#### Rebuild this model with scikit-learn.\n",
    "- You can either create the dummy features manually or use the `dmatrix` function from `patsy`\n",
    "- Remember to scale the feature variables as well!\n"
   ]
  },
  {
   "cell_type": "code",
   "execution_count": 40,
   "metadata": {
    "collapsed": false,
    "focus": false,
    "id": "c75a97f1-f30c-48b3-97cb-eaf7d525c734"
   },
   "outputs": [],
   "source": [
    "X_1 = dmatrix('~ city + state + is_senior + is_manager + is_director + city_avg_sal', salary_data)\n",
    "Y_1 = salary_data['high_salary']"
   ]
  },
  {
   "cell_type": "code",
   "execution_count": 41,
   "metadata": {
    "collapsed": false
   },
   "outputs": [
    {
     "data": {
      "text/plain": [
       "(138, 11)"
      ]
     },
     "execution_count": 41,
     "metadata": {},
     "output_type": "execute_result"
    }
   ],
   "source": [
    "salary_data.shape"
   ]
  },
  {
   "cell_type": "code",
   "execution_count": 42,
   "metadata": {
    "collapsed": false
   },
   "outputs": [],
   "source": [
    "X_train, X_test, Y_train, Y_test = train_test_split(X_1, Y_1, test_size=0.33, random_state=5)"
   ]
  },
  {
   "cell_type": "code",
   "execution_count": 43,
   "metadata": {
    "collapsed": false
   },
   "outputs": [
    {
     "name": "stdout",
     "output_type": "stream",
     "text": [
      "1    25\n",
      "0    21\n",
      "dtype: int64\n",
      "0    26\n",
      "1    20\n",
      "Name: high_salary, dtype: int64\n"
     ]
    }
   ],
   "source": [
    "# scale, (patsy optional), and fit\n",
    "scaler = StandardScaler()\n",
    "\n",
    "Xtr_s = scaler.fit_transform(X_train)\n",
    "Xte_s = scaler.transform(X_test)\n",
    "\n",
    "sk_model = LogisticRegression(penalty = 'l2', C=0.1)\n",
    "sk_model.fit(Xtr_s, Y_train)\n",
    "Y_pred = sk_model.predict(Xte_s)\n",
    "\n",
    "print pd.Series(Y_pred).value_counts()\n",
    "print Y_test.value_counts()"
   ]
  },
  {
   "cell_type": "code",
   "execution_count": 44,
   "metadata": {
    "collapsed": false
   },
   "outputs": [
    {
     "name": "stdout",
     "output_type": "stream",
     "text": [
      "             predicted_low  predicted_high\n",
      "low_salary              18               8\n",
      "high_salary              3              17\n"
     ]
    }
   ],
   "source": [
    "from sklearn.metrics import confusion_matrix\n",
    "# the input format is almost always (test, predict), but always check with documentation!\n",
    "conmat = np.array(confusion_matrix(Y_test, Y_pred))\n",
    "\n",
    "confusion = pd.DataFrame(conmat, index=['low_salary', 'high_salary'],\n",
    "                         columns=['predicted_low', 'predicted_high'])\n",
    "\n",
    "print confusion"
   ]
  },
  {
   "cell_type": "code",
   "execution_count": 45,
   "metadata": {
    "collapsed": false
   },
   "outputs": [
    {
     "data": {
      "text/plain": [
       "0.76086956521739135"
      ]
     },
     "execution_count": 45,
     "metadata": {},
     "output_type": "execute_result"
    }
   ],
   "source": [
    "from sklearn.metrics import accuracy_score\n",
    "\n",
    "acc = accuracy_score(Y_test, Y_pred)\n",
    "\n",
    "acc"
   ]
  },
  {
   "cell_type": "code",
   "execution_count": 46,
   "metadata": {
    "collapsed": false
   },
   "outputs": [
    {
     "data": {
      "image/png": "[encoded data removed]",
      "text/plain": [
       "<matplotlib.figure.Figure at 0x14f14f5d0>"
      ]
     },
     "metadata": {},
     "output_type": "display_data"
    }
   ],
   "source": [
    "from sklearn.metrics import roc_curve, auc\n",
    "import matplotlib.pyplot as plt\n",
    "plt.style.use('seaborn-white')\n",
    "%matplotlib inline\n",
    "\n",
    "\n",
    "Y_score = sk_model.decision_function(X_test)\n",
    "\n",
    "FPR = dict()\n",
    "TPR = dict()\n",
    "ROC_AUC = dict()\n",
    "\n",
    "# For class 1, find the area under the curve\n",
    "FPR[1], TPR[1], _ = roc_curve(Y_test, Y_score)\n",
    "ROC_AUC[1] = auc(FPR[1], TPR[1])\n",
    "\n",
    "# Plot of a ROC curve for class 1 (has_cancer)\n",
    "plt.figure(figsize=[11,9])\n",
    "plt.plot(FPR[1], TPR[1], label='ROC curve (area = %0.2f)' % ROC_AUC[1], linewidth=4)\n",
    "plt.plot([0, 1], [0, 1], 'k--', linewidth=4)\n",
    "plt.xlim([0.0, 1.0])\n",
    "plt.ylim([0.0, 1.05])\n",
    "plt.xlabel('False Positive Rate', fontsize=18)\n",
    "plt.ylabel('True Positive Rate', fontsize=18)\n",
    "plt.title('Receiver operating characteristic for cancer detection', fontsize=18)\n",
    "plt.legend(loc=\"lower right\")\n",
    "plt.show()"
   ]
  },
  {
   "cell_type": "code",
   "execution_count": 47,
   "metadata": {
    "collapsed": false
   },
   "outputs": [
    {
     "name": "stdout",
     "output_type": "stream",
     "text": [
      "             precision    recall  f1-score   support\n",
      "\n",
      " low_salary       0.86      0.69      0.77        26\n",
      "high_salary       0.68      0.85      0.76        20\n",
      "\n",
      "avg / total       0.78      0.76      0.76        46\n",
      "\n"
     ]
    }
   ],
   "source": [
    "from sklearn.metrics import classification_report\n",
    "\n",
    "# # 0 means benign, 1 means malignant\n",
    "# target    = [0, 1, 1, 0, 1, 0, 1, 1, 1]\n",
    "\n",
    "# #Prediction Results from a Machine Leaning Model\n",
    "# predicted = [0, 0, 1, 1, 1, 0, 1, 1, 1]\n",
    "\n",
    "# Label the Classifiers\n",
    "target_names = ['low_salary', 'high_salary']\n",
    "\n",
    "#Print Classification Report\n",
    "print classification_report(Y_test, Y_pred, target_names=target_names)"
   ]
  },
  {
   "cell_type": "markdown",
   "metadata": {
    "focus": false,
    "id": "1e6c6902-2b4a-49f0-b4c7-935a26577d22"
   },
   "source": [
    "#### Use cross-validation in scikit-learn to evaluate the model above. \n",
    "- Evaluate the accuracy, AUC, precision and recall of the model. \n",
    "- Discuss the differences and explain when you want a high-recall or a high-precision model in this scenario."
   ]
  },
  {
   "cell_type": "code",
   "execution_count": 48,
   "metadata": {
    "collapsed": false,
    "focus": false,
    "id": "3667427c-6534-4dcd-8770-f492b0e3a39e"
   },
   "outputs": [
    {
     "name": "stdout",
     "output_type": "stream",
     "text": [
      "accuracy score:  0.760869565217\n",
      "precision score:  0.68\n",
      "recall score:  0.85\n",
      "roc_auc score:  0.771153846154\n"
     ]
    }
   ],
   "source": [
    "from sklearn.cross_validation import cross_val_score\n",
    "\n",
    "print \"accuracy score: \", accuracy_score(Y_test, Y_pred)\n",
    "print \"precision score: \", precision_score(Y_test, Y_pred)\n",
    "print \"recall score: \", recall_score(Y_test, Y_pred)\n",
    "print \"roc_auc score: \", roc_auc_score(Y_test, Y_pred)"
   ]
  },
  {
   "cell_type": "markdown",
   "metadata": {
    "focus": false,
    "id": "4263b1c0-bfde-42bf-ab45-71c7cd798835"
   },
   "source": [
    "### Compare L1 and L2 regularization for this logistic regression model. What effect does this have on the coefficients learned?"
   ]
  },
  {
   "cell_type": "code",
   "execution_count": 49,
   "metadata": {
    "collapsed": false,
    "focus": false,
    "id": "2e7d6a29-a515-468a-9953-9d73a0f81de0"
   },
   "outputs": [
    {
     "name": "stdout",
     "output_type": "stream",
     "text": [
      "Model score:  0.836956521739\n",
      "accuracy score:  0.760869565217\n",
      "precision score:  0.68\n",
      "recall score:  0.85\n",
      "roc_auc score:  0.771153846154\n"
     ]
    }
   ],
   "source": [
    "lg_model = LogisticRegression(penalty = 'l1', C=1.0)\n",
    "\n",
    "for metric in ['accuracy', 'precision', 'recall', 'roc_auc']:\n",
    "    lg_model.fit(X_train, Y_train)\n",
    "    predictions = lg_model.predict(X_test)\n",
    "print \"Model score: \", lg_model.score(X_train,Y_train)\n",
    "print \"accuracy score: \", accuracy_score(Y_test, Y_pred)\n",
    "print \"precision score: \", precision_score(Y_test, Y_pred)\n",
    "print \"recall score: \", recall_score(Y_test, Y_pred)\n",
    "print \"roc_auc score: \", roc_auc_score(Y_test, Y_pred)"
   ]
  },
  {
   "cell_type": "code",
   "execution_count": 50,
   "metadata": {
    "collapsed": false
   },
   "outputs": [
    {
     "name": "stdout",
     "output_type": "stream",
     "text": [
      "0    24\n",
      "1    22\n",
      "dtype: int64\n",
      "0    26\n",
      "1    20\n",
      "Name: high_salary, dtype: int64\n"
     ]
    }
   ],
   "source": [
    "#l1 model\n",
    "scaler = StandardScaler()\n",
    "\n",
    "Xtr_s = scaler.fit_transform(X_train)\n",
    "Xte_s = scaler.transform(X_test)\n",
    "\n",
    "sk_model = LogisticRegression(penalty = 'l1', C=0.1)\n",
    "sk_model.fit(Xtr_s, Y_train)\n",
    "Y_pred = sk_model.predict(Xte_s)\n",
    "\n",
    "print pd.Series(Y_pred).value_counts()\n",
    "print Y_test.value_counts()"
   ]
  },
  {
   "cell_type": "code",
   "execution_count": 51,
   "metadata": {
    "collapsed": false
   },
   "outputs": [
    {
     "name": "stdout",
     "output_type": "stream",
     "text": [
      "             predicted_low  predicted_high\n",
      "low_salary              22               4\n",
      "high_salary              2              18\n",
      "0.869565217391\n"
     ]
    }
   ],
   "source": [
    "from sklearn.metrics import confusion_matrix\n",
    "# the input format is almost always (test, predict), but always check with documentation!\n",
    "conmat = np.array(confusion_matrix(Y_test, Y_pred))\n",
    "\n",
    "confusion = pd.DataFrame(conmat, index=['low_salary', 'high_salary'],\n",
    "                         columns=['predicted_low', 'predicted_high'])\n",
    "\n",
    "print confusion\n",
    "from sklearn.metrics import accuracy_score\n",
    "\n",
    "acc = accuracy_score(Y_test, Y_pred)\n",
    "\n",
    "print acc"
   ]
  },
  {
   "cell_type": "code",
   "execution_count": 52,
   "metadata": {
    "collapsed": false,
    "focus": false,
    "id": "32d908a3-89d2-474c-a7f0-199bfae6da7e"
   },
   "outputs": [],
   "source": [
    "# model.fit(X_scaled, y)\n",
    "\n",
    "# df = pd.DataFrame({'features' : X.design_info.column_names, 'coef': model.coef_[0,:]})\n",
    "# df.sort_values('coef', ascending=False, inplace=True)\n",
    "# df"
   ]
  },
  {
   "cell_type": "markdown",
   "metadata": {
    "focus": true,
    "id": "82f16f60-6c8b-4376-b3ec-b8ec61a0cde7"
   },
   "source": [
    "#### Optional: Continue to incorporate other text features from the title or summary that you believe will predict the salary and examine their coefficients. Take ~100 scraped entries with salaries. Convert them to use with your model and predict the salary. Which entries have the highest predicted salaries?"
   ]
  },
  {
   "cell_type": "markdown",
   "metadata": {
    "focus": false,
    "id": "3f242a55-4518-4c95-ae90-6888c68077d3"
   },
   "source": [
    "# Bonus Section: Use Count Vectorizer from scikit-learn to create features from the text summaries. \n",
    "- Examine using count or binary features in the model\n",
    "- Re-evaluate the logistic regression model using these. Does this improve the model performance? \n",
    "- What text features are most valuable? "
   ]
  },
  {
   "cell_type": "code",
   "execution_count": 53,
   "metadata": {
    "collapsed": false,
    "focus": false,
    "id": "757205dc-443d-4754-9d23-e591e0921c02"
   },
   "outputs": [
    {
     "ename": "TypeError",
     "evalue": "fit_transform() takes at least 2 arguments (1 given)",
     "output_type": "error",
     "traceback": [
      "\u001b[0;31m---------------------------------------------------------------------------\u001b[0m",
      "\u001b[0;31mTypeError\u001b[0m                                 Traceback (most recent call last)",
      "\u001b[0;32m<ipython-input-53-a73a09d0c824>\u001b[0m in \u001b[0;36m<module>\u001b[0;34m()\u001b[0m\n\u001b[1;32m      2\u001b[0m \u001b[0;34m\u001b[0m\u001b[0m\n\u001b[1;32m      3\u001b[0m \u001b[0mvectorizer\u001b[0m \u001b[0;34m=\u001b[0m \u001b[0mCountVectorizer\u001b[0m\u001b[0;34m(\u001b[0m\u001b[0;34m)\u001b[0m\u001b[0;34m\u001b[0m\u001b[0m\n\u001b[0;32m----> 4\u001b[0;31m \u001b[0mX\u001b[0m \u001b[0;34m=\u001b[0m \u001b[0mvectorizer\u001b[0m\u001b[0;34m.\u001b[0m\u001b[0mfit_transform\u001b[0m\u001b[0;34m(\u001b[0m\u001b[0;34m)\u001b[0m\u001b[0;34m\u001b[0m\u001b[0m\n\u001b[0m\u001b[1;32m      5\u001b[0m \u001b[0;34m\u001b[0m\u001b[0m\n\u001b[1;32m      6\u001b[0m \u001b[0;32mfor\u001b[0m \u001b[0mmetric\u001b[0m \u001b[0;32min\u001b[0m \u001b[0;34m[\u001b[0m\u001b[0;34m'accuracy'\u001b[0m\u001b[0;34m,\u001b[0m \u001b[0;34m'precision'\u001b[0m\u001b[0;34m,\u001b[0m \u001b[0;34m'recall'\u001b[0m\u001b[0;34m,\u001b[0m \u001b[0;34m'roc_auc'\u001b[0m\u001b[0;34m]\u001b[0m\u001b[0;34m:\u001b[0m\u001b[0;34m\u001b[0m\u001b[0m\n",
      "\u001b[0;31mTypeError\u001b[0m: fit_transform() takes at least 2 arguments (1 given)"
     ]
    }
   ],
   "source": [
    "from sklearn.feature_extraction.text import CountVectorizer\n",
    "\n",
    "vectorizer = CountVectorizer()\n",
    "X = vectorizer.fit_transform()\n",
    "\n",
    "for metric in ['accuracy', 'precision', 'recall', 'roc_auc']:\n",
    "    scores = cross_val_score(model, X_scaled, y, cv=3, scoring=metric)\n",
    "    print(metric, scores.mean(), scores.std())"
   ]
  },
  {
   "cell_type": "code",
   "execution_count": 54,
   "metadata": {
    "collapsed": false,
    "focus": false,
    "id": "f44df3c1-cf82-4271-8660-fdd0052097b6"
   },
   "outputs": [
    {
     "ename": "NameError",
     "evalue": "name 'model' is not defined",
     "output_type": "error",
     "traceback": [
      "\u001b[0;31m---------------------------------------------------------------------------\u001b[0m",
      "\u001b[0;31mNameError\u001b[0m                                 Traceback (most recent call last)",
      "\u001b[0;32m<ipython-input-54-7194bec9bfb6>\u001b[0m in \u001b[0;36m<module>\u001b[0;34m()\u001b[0m\n\u001b[0;32m----> 1\u001b[0;31m \u001b[0mmodel\u001b[0m\u001b[0;34m.\u001b[0m\u001b[0mfit\u001b[0m\u001b[0;34m(\u001b[0m\u001b[0mX_scaled\u001b[0m\u001b[0;34m,\u001b[0m \u001b[0my\u001b[0m\u001b[0;34m)\u001b[0m\u001b[0;34m\u001b[0m\u001b[0m\n\u001b[0m\u001b[1;32m      2\u001b[0m \u001b[0;34m\u001b[0m\u001b[0m\n\u001b[1;32m      3\u001b[0m \u001b[0mdf\u001b[0m \u001b[0;34m=\u001b[0m \u001b[0mpd\u001b[0m\u001b[0;34m.\u001b[0m\u001b[0mDataFrame\u001b[0m\u001b[0;34m(\u001b[0m\u001b[0;34m{\u001b[0m\u001b[0;34m'features'\u001b[0m \u001b[0;34m:\u001b[0m \u001b[0mvectorizer\u001b[0m\u001b[0;34m.\u001b[0m\u001b[0mget_feature_names\u001b[0m\u001b[0;34m(\u001b[0m\u001b[0;34m)\u001b[0m\u001b[0;34m,\u001b[0m \u001b[0;34m'coef'\u001b[0m\u001b[0;34m:\u001b[0m \u001b[0mmodel\u001b[0m\u001b[0;34m.\u001b[0m\u001b[0mcoef_\u001b[0m\u001b[0;34m[\u001b[0m\u001b[0;36m0\u001b[0m\u001b[0;34m,\u001b[0m\u001b[0;34m:\u001b[0m\u001b[0;34m]\u001b[0m\u001b[0;34m}\u001b[0m\u001b[0;34m)\u001b[0m\u001b[0;34m\u001b[0m\u001b[0m\n\u001b[1;32m      4\u001b[0m \u001b[0mdf\u001b[0m\u001b[0;34m.\u001b[0m\u001b[0msort_values\u001b[0m\u001b[0;34m(\u001b[0m\u001b[0;34m'coef'\u001b[0m\u001b[0;34m,\u001b[0m \u001b[0mascending\u001b[0m\u001b[0;34m=\u001b[0m\u001b[0mFalse\u001b[0m\u001b[0;34m,\u001b[0m \u001b[0minplace\u001b[0m\u001b[0;34m=\u001b[0m\u001b[0mTrue\u001b[0m\u001b[0;34m)\u001b[0m\u001b[0;34m\u001b[0m\u001b[0m\n",
      "\u001b[0;31mNameError\u001b[0m: name 'model' is not defined"
     ]
    }
   ],
   "source": [
    "model.fit(X_scaled, y)\n",
    "\n",
    "df = pd.DataFrame({'features' : vectorizer.get_feature_names(), 'coef': model.coef_[0,:]})\n",
    "df.sort_values('coef', ascending=False, inplace=True)"
   ]
  },
  {
   "cell_type": "code",
   "execution_count": 55,
   "metadata": {
    "collapsed": false,
    "focus": false,
    "id": "e182bbe4-2a72-4e75-a3e8-c117688cb8a6"
   },
   "outputs": [
    {
     "data": {
      "text/html": [
       "<div>\n",
       "<table border=\"1\" class=\"dataframe\">\n",
       "  <thead>\n",
       "    <tr style=\"text-align: right;\">\n",
       "      <th></th>\n",
       "      <th>company</th>\n",
       "      <th>location</th>\n",
       "      <th>title</th>\n",
       "      <th>summary</th>\n",
       "      <th>salary</th>\n",
       "    </tr>\n",
       "  </thead>\n",
       "  <tbody>\n",
       "    <tr>\n",
       "      <th>5</th>\n",
       "      <td>Wake County Government</td>\n",
       "      <td>Raleigh, NC</td>\n",
       "      <td>DATA SCIENTIST</td>\n",
       "      <td>Ability to apply data mining and analytical te...</td>\n",
       "      <td>$93,990 a year</td>\n",
       "    </tr>\n",
       "    <tr>\n",
       "      <th>8</th>\n",
       "      <td>Centers for Disease Control and Prevention</td>\n",
       "      <td>Atlanta, GA</td>\n",
       "      <td>Health Scientist</td>\n",
       "      <td>Identify and analyze public health issues and ...</td>\n",
       "      <td>$104,349 - $135,656 a year</td>\n",
       "    </tr>\n",
       "    <tr>\n",
       "      <th>24</th>\n",
       "      <td>Centers for Disease Control and Prevention</td>\n",
       "      <td>Atlanta, GA</td>\n",
       "      <td>Statistician (Health)</td>\n",
       "      <td>Whether we are protecting the American people ...</td>\n",
       "      <td>$88,305 - $114,802 a year</td>\n",
       "    </tr>\n",
       "    <tr>\n",
       "      <th>48</th>\n",
       "      <td>Centers for Disease Control and Prevention</td>\n",
       "      <td>Atlanta, GA</td>\n",
       "      <td>Behavioral Scientist</td>\n",
       "      <td>Whether we are protecting the American people ...</td>\n",
       "      <td>$74,260 - $96,538 a year</td>\n",
       "    </tr>\n",
       "    <tr>\n",
       "      <th>93</th>\n",
       "      <td>Analytic Recruiting</td>\n",
       "      <td>Alpharetta, GA</td>\n",
       "      <td>Junior Data Scientist</td>\n",
       "      <td>Experience with Teradata SQL, MS SQL server Da...</td>\n",
       "      <td>$75,000 - $90,000 a year</td>\n",
       "    </tr>\n",
       "  </tbody>\n",
       "</table>\n",
       "</div>"
      ],
      "text/plain": [
       "                                       company        location  \\\n",
       "5                       Wake County Government     Raleigh, NC   \n",
       "8   Centers for Disease Control and Prevention     Atlanta, GA   \n",
       "24  Centers for Disease Control and Prevention     Atlanta, GA   \n",
       "48  Centers for Disease Control and Prevention     Atlanta, GA   \n",
       "93                         Analytic Recruiting  Alpharetta, GA   \n",
       "\n",
       "                    title                                            summary  \\\n",
       "5          DATA SCIENTIST  Ability to apply data mining and analytical te...   \n",
       "8        Health Scientist  Identify and analyze public health issues and ...   \n",
       "24  Statistician (Health)  Whether we are protecting the American people ...   \n",
       "48   Behavioral Scientist  Whether we are protecting the American people ...   \n",
       "93  Junior Data Scientist  Experience with Teradata SQL, MS SQL server Da...   \n",
       "\n",
       "                        salary  \n",
       "5               $93,990 a year  \n",
       "8   $104,349 - $135,656 a year  \n",
       "24   $88,305 - $114,802 a year  \n",
       "48    $74,260 - $96,538 a year  \n",
       "93    $75,000 - $90,000 a year  "
      ]
     },
     "execution_count": 55,
     "metadata": {},
     "output_type": "execute_result"
    }
   ],
   "source": [
    "df.head()"
   ]
  },
  {
   "cell_type": "code",
   "execution_count": 56,
   "metadata": {
    "collapsed": false,
    "focus": false,
    "id": "a15ef8ea-3130-4c08-a165-ac34d2a8d829"
   },
   "outputs": [
    {
     "data": {
      "text/html": [
       "<div>\n",
       "<table border=\"1\" class=\"dataframe\">\n",
       "  <thead>\n",
       "    <tr style=\"text-align: right;\">\n",
       "      <th></th>\n",
       "      <th>company</th>\n",
       "      <th>location</th>\n",
       "      <th>title</th>\n",
       "      <th>summary</th>\n",
       "      <th>salary</th>\n",
       "    </tr>\n",
       "  </thead>\n",
       "  <tbody>\n",
       "    <tr>\n",
       "      <th>4219</th>\n",
       "      <td>State of South Carolina</td>\n",
       "      <td>Richland County, SC</td>\n",
       "      <td>Statistical and Research Analyst II - 61010782...</td>\n",
       "      <td>An Associate Degree in Health Information Mana...</td>\n",
       "      <td>$26,988 - $49,932 a year</td>\n",
       "    </tr>\n",
       "    <tr>\n",
       "      <th>4225</th>\n",
       "      <td>State of South Carolina</td>\n",
       "      <td>Richland County, SC</td>\n",
       "      <td>Statistician III - 61007667</td>\n",
       "      <td>Performs data analysis on the various data set...</td>\n",
       "      <td>$39,960 - $73,935 a year</td>\n",
       "    </tr>\n",
       "    <tr>\n",
       "      <th>4236</th>\n",
       "      <td>All-In Analytics</td>\n",
       "      <td>Spartanburg, SC</td>\n",
       "      <td>Sr. Machine Learning Risk Statistician</td>\n",
       "      <td>Analyze data, build non-parametric machine lea...</td>\n",
       "      <td>$100,000 - $125,000 a year</td>\n",
       "    </tr>\n",
       "    <tr>\n",
       "      <th>4268</th>\n",
       "      <td>All-In Analytics</td>\n",
       "      <td>Spartanburg, SC</td>\n",
       "      <td>Machine Learning Risk Statistician (entry level)</td>\n",
       "      <td>Analyze data, build non-parametric machine lea...</td>\n",
       "      <td>$60,000 - $75,000 a year</td>\n",
       "    </tr>\n",
       "    <tr>\n",
       "      <th>4282</th>\n",
       "      <td>Lighthouse Recruiting</td>\n",
       "      <td>Myrtle Beach, SC</td>\n",
       "      <td>LCMS Technical Supervisor</td>\n",
       "      <td>Join our Medical Laboratory Scientists Groups:...</td>\n",
       "      <td>$75,000 - $90,000 a year</td>\n",
       "    </tr>\n",
       "  </tbody>\n",
       "</table>\n",
       "</div>"
      ],
      "text/plain": [
       "                      company             location  \\\n",
       "4219  State of South Carolina  Richland County, SC   \n",
       "4225  State of South Carolina  Richland County, SC   \n",
       "4236         All-In Analytics      Spartanburg, SC   \n",
       "4268         All-In Analytics      Spartanburg, SC   \n",
       "4282    Lighthouse Recruiting     Myrtle Beach, SC   \n",
       "\n",
       "                                                  title  \\\n",
       "4219  Statistical and Research Analyst II - 61010782...   \n",
       "4225                        Statistician III - 61007667   \n",
       "4236             Sr. Machine Learning Risk Statistician   \n",
       "4268   Machine Learning Risk Statistician (entry level)   \n",
       "4282                          LCMS Technical Supervisor   \n",
       "\n",
       "                                                summary  \\\n",
       "4219  An Associate Degree in Health Information Mana...   \n",
       "4225  Performs data analysis on the various data set...   \n",
       "4236  Analyze data, build non-parametric machine lea...   \n",
       "4268  Analyze data, build non-parametric machine lea...   \n",
       "4282  Join our Medical Laboratory Scientists Groups:...   \n",
       "\n",
       "                          salary  \n",
       "4219    $26,988 - $49,932 a year  \n",
       "4225    $39,960 - $73,935 a year  \n",
       "4236  $100,000 - $125,000 a year  \n",
       "4268    $60,000 - $75,000 a year  \n",
       "4282    $75,000 - $90,000 a year  "
      ]
     },
     "execution_count": 56,
     "metadata": {},
     "output_type": "execute_result"
    }
   ],
   "source": [
    "df.tail()"
   ]
  },
  {
   "cell_type": "code",
   "execution_count": 57,
   "metadata": {
    "collapsed": false,
    "focus": false,
    "id": "b8a13337-0cde-4117-a928-ffae14661453"
   },
   "outputs": [],
   "source": [
    "# retest L1 and L2 regularization\n",
    "from sklearn.linear_model import LogisticRegressionCV\n",
    "\n",
    "model = LogisticRegressionCV()\n"
   ]
  },
  {
   "cell_type": "markdown",
   "metadata": {
    "collapsed": true,
    "focus": false,
    "id": "936cd752-6b3f-450f-bfb6-1659c6e71539"
   },
   "source": [
    "Score: | 18/24\n",
    "------|-------\n",
    "Identify: Problem Statement and Hypothesis | 3\n",
    "Acquire: Import Data using BeautifulSoup| 3\n",
    "Parse: Clean and Organize Data| 3\n",
    "Model: Perform Logistic Regression| 3\n",
    "Evaluate: Logistic Regression Results\t| 3\n",
    "Present: Blog Report with Findings and Recommendations\t\t| 0\n",
    "Interactive Tableau visualizations | 0\n",
    "Regularization | 3\n",
    "Bonus: Countvectorizer  | 0"
   ]
  },
  {
   "cell_type": "code",
   "execution_count": 58,
   "metadata": {
    "collapsed": true
   },
   "outputs": [],
   "source": [
    "#AT - you did everything you wanted to well. Would like to see some write up for some interpretation of the sm summary results and/or confusion matrixes"
   ]
  },
  {
   "cell_type": "code",
   "execution_count": null,
   "metadata": {
    "collapsed": true
   },
   "outputs": [],
   "source": []
  }
 ],
 "metadata": {
  "anaconda-cloud": {},
  "kernelspec": {
   "display_name": "Python [Root]",
   "language": "python",
   "name": "Python [Root]"
  },
  "language_info": {
   "codemirror_mode": {
    "name": "ipython",
    "version": 2
   },
   "file_extension": ".py",
   "mimetype": "text/x-python",
   "name": "python",
   "nbconvert_exporter": "python",
   "pygments_lexer": "ipython2",
   "version": "2.7.12"
  }
 },
 "nbformat": 4,
 "nbformat_minor": 0
}

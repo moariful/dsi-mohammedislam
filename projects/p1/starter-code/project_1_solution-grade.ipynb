{
 "cells": [
  {
   "cell_type": "markdown",
   "metadata": {},
   "source": [
    "# Project 1\n",
    "\n",
    "## Step 1: Open the `sat_scores.csv` file. Investigate the data, and answer the questions below.\n"
   ]
  },
  {
   "cell_type": "markdown",
   "metadata": {},
   "source": [
    "##### 1. What does the data describe?"
   ]
  },
  {
   "cell_type": "markdown",
   "metadata": {},
   "source": [
    "The given data describes the math and verbal sat test scores for each state, and the participation rate out of a 100 for each state. Looking at the data, we can see that there is a strong correlation between math and verbal scores. However, as the rate or participation increased, we see a drop in the scores for both math and verbal. This data set is too small, I believe, to do an honest analysis on and to be used to create a strong model. "
   ]
  },
  {
   "cell_type": "markdown",
   "metadata": {},
   "source": [
    "##### 2. Does the data look complete? Are there any obvious issues with the observations?"
   ]
  },
  {
   "cell_type": "markdown",
   "metadata": {},
   "source": [
    "This data set looks too small to be the complete set of data we would need to work with. There may be a lot of other variables which may be effecting the test scores or the rate of participation in each state, such as demographic, school funding, income for families, etc. However, the given data set does not contain enough information to be able to build a valuable model. "
   ]
  },
  {
   "cell_type": "markdown",
   "metadata": {},
   "source": [
    "##### 3. Create a data dictionary for the dataset."
   ]
  },
  {
   "cell_type": "markdown",
   "metadata": {
    "collapsed": true
   },
   "source": [
    "<pre>\n",
    "```\n",
    "|-------------|-----------|--------------------|\n",
    "|          Dictionary for sat_data             |\n",
    "| Column Name | Data Type |     Description    |\n",
    "|-------------|-----------|--------------------|\n",
    "|    State    |    str    | State Abbreviation |\n",
    "|-------------|-----------|--------------------|\n",
    "|    Rate     |    int    | Participation rate |\n",
    "|             |           |   out of hundred   |\n",
    "|-------------|-----------|--------------------|\n",
    "|    Verbal   |    int    | Score for Verbal   |\n",
    "|             |           |    sat score       |\n",
    "|-------------|-----------|--------------------|\n",
    "|    Math     |    int    | Score for Math     |\n",
    "|             |           |    sat score       |\n",
    "|-------------|-----------|--------------------|\n",
    "\n",
    "```\n",
    "</pre>"
   ]
  },
  {
   "cell_type": "markdown",
   "metadata": {},
   "source": [
    "## Step 2: Load the data."
   ]
  },
  {
   "cell_type": "markdown",
   "metadata": {},
   "source": [
    "##### 4. Load the data into a list of lists"
   ]
  },
  {
   "cell_type": "code",
   "execution_count": 1,
   "metadata": {
    "collapsed": false
   },
   "outputs": [],
   "source": [
    "#Reading the data from the csv file and storing it in the data[] list  \n",
    "import csv\n",
    "import numpy as np\n",
    "with open(\"../assets/sat_scores.csv\", 'r') as f:\n",
    "    reader = csv.reader(f)\n",
    "    sat_data = []\n",
    "    for row in reader:\n",
    "        sat_data.append(row)"
   ]
  },
  {
   "cell_type": "markdown",
   "metadata": {},
   "source": [
    "##### 5. Print the data"
   ]
  },
  {
   "cell_type": "code",
   "execution_count": 2,
   "metadata": {
    "collapsed": false
   },
   "outputs": [
    {
     "name": "stdout",
     "output_type": "stream",
     "text": [
      "[['State', 'Rate', 'Verbal', 'Math'], ['CT', '82', '509', '510'], ['NJ', '81', '499', '513'], ['MA', '79', '511', '515'], ['NY', '77', '495', '505'], ['NH', '72', '520', '516'], ['RI', '71', '501', '499'], ['PA', '71', '500', '499'], ['VT', '69', '511', '506'], ['ME', '69', '506', '500'], ['VA', '68', '510', '501'], ['DE', '67', '501', '499'], ['MD', '65', '508', '510'], ['NC', '65', '493', '499'], ['GA', '63', '491', '489'], ['IN', '60', '499', '501'], ['SC', '57', '486', '488'], ['DC', '56', '482', '474'], ['OR', '55', '526', '526'], ['FL', '54', '498', '499'], ['WA', '53', '527', '527'], ['TX', '53', '493', '499'], ['HI', '52', '485', '515'], ['AK', '51', '514', '510'], ['CA', '51', '498', '517'], ['AZ', '34', '523', '525'], ['NV', '33', '509', '515'], ['CO', '31', '539', '542'], ['OH', '26', '534', '439'], ['MT', '23', '539', '539'], ['WV', '18', '527', '512'], ['ID', '17', '543', '542'], ['TN', '13', '562', '553'], ['NM', '13', '551', '542'], ['IL', '12', '576', '589'], ['KY', '12', '550', '550'], ['WY', '11', '547', '545'], ['MI', '11', '561', '572'], ['MN', '9', '580', '589'], ['KS', '9', '577', '580'], ['AL', '9', '559', '554'], ['NE', '8', '562', '568'], ['OK', '8', '567', '561'], ['MO', '8', '577', '577'], ['LA', '7', '564', '562'], ['WI', '6', '584', '596'], ['AR', '6', '562', '550'], ['UT', '5', '575', '570'], ['IA', '5', '593', '603'], ['SD', '4', '577', '582'], ['ND', '4', '592', '599'], ['MS', '4', '566', '551'], ['All', '45', '506', '514']]\n"
     ]
    }
   ],
   "source": [
    "print(sat_data)"
   ]
  },
  {
   "cell_type": "markdown",
   "metadata": {
    "collapsed": true
   },
   "source": [
    "##### 6. Extract a list of the labels from the data, and remove them from the data."
   ]
  },
  {
   "cell_type": "code",
   "execution_count": 3,
   "metadata": {
    "collapsed": false
   },
   "outputs": [],
   "source": [
    "#Assigning first row of sat_data to labels to store the label names\n",
    "labels = sat_data[0]\n",
    "\n",
    "#Assigning all rows except for the first row(labels) of sat_data to data_no_labels to store the data without labels\n",
    "data_no_labels = sat_data[1:]"
   ]
  },
  {
   "cell_type": "markdown",
   "metadata": {},
   "source": [
    "##### 7. Create a list of State names extracted from the data. (Hint: use the list of labels to index on the State column)"
   ]
  },
  {
   "cell_type": "code",
   "execution_count": 4,
   "metadata": {
    "collapsed": false
   },
   "outputs": [],
   "source": [
    "#Using an if condition to remove the row of data for \"All\" since that is not a state. Using the if condition becuase \n",
    "#without it, if i run this cell repeatedly with just 'data_no_labels.remove(data_no_labels[-1])', then it keeps \n",
    "#removing the last item from the list every time. \n",
    "if 'All' in data_no_labels[-1]:\n",
    "    data_no_labels.remove(data_no_labels[-1])\n",
    "\n",
    "#Assigning all values from row 0 to a list named states which should not have the label nor the data for \"All\"\n",
    "states = [row[0] for row in data_no_labels]\n"
   ]
  },
  {
   "cell_type": "markdown",
   "metadata": {},
   "source": [
    "##### 8. Print the types of each column"
   ]
  },
  {
   "cell_type": "code",
   "execution_count": 36,
   "metadata": {
    "collapsed": false
   },
   "outputs": [
    {
     "name": "stdout",
     "output_type": "stream",
     "text": [
      "('State', <type 'str'>)\n",
      "('State', <type 'str'>)\n",
      "('State', <type 'str'>)\n",
      "('State', <type 'str'>)\n",
      "('State', <type 'str'>)\n",
      "('State', <type 'str'>)\n",
      "('State', <type 'str'>)\n",
      "('State', <type 'str'>)\n",
      "('State', <type 'str'>)\n",
      "('State', <type 'str'>)\n",
      "('State', <type 'str'>)\n",
      "('State', <type 'str'>)\n",
      "('State', <type 'str'>)\n",
      "('State', <type 'str'>)\n",
      "('State', <type 'str'>)\n",
      "('State', <type 'str'>)\n",
      "('State', <type 'str'>)\n",
      "('State', <type 'str'>)\n",
      "('State', <type 'str'>)\n",
      "('State', <type 'str'>)\n",
      "('State', <type 'str'>)\n",
      "('State', <type 'str'>)\n",
      "('State', <type 'str'>)\n",
      "('State', <type 'str'>)\n",
      "('State', <type 'str'>)\n",
      "('State', <type 'str'>)\n",
      "('State', <type 'str'>)\n",
      "('State', <type 'str'>)\n",
      "('State', <type 'str'>)\n",
      "('State', <type 'str'>)\n",
      "('State', <type 'str'>)\n",
      "('State', <type 'str'>)\n",
      "('State', <type 'str'>)\n",
      "('State', <type 'str'>)\n",
      "('State', <type 'str'>)\n",
      "('State', <type 'str'>)\n",
      "('State', <type 'str'>)\n",
      "('State', <type 'str'>)\n",
      "('State', <type 'str'>)\n",
      "('State', <type 'str'>)\n",
      "('State', <type 'str'>)\n",
      "('State', <type 'str'>)\n",
      "('State', <type 'str'>)\n",
      "('State', <type 'str'>)\n",
      "('State', <type 'str'>)\n",
      "('State', <type 'str'>)\n",
      "('State', <type 'str'>)\n",
      "('State', <type 'str'>)\n",
      "('State', <type 'str'>)\n",
      "('State', <type 'str'>)\n",
      "('State', <type 'str'>)\n",
      "('Rate', <type 'int'>)\n",
      "('Rate', <type 'int'>)\n",
      "('Rate', <type 'int'>)\n",
      "('Rate', <type 'int'>)\n",
      "('Rate', <type 'int'>)\n",
      "('Rate', <type 'int'>)\n",
      "('Rate', <type 'int'>)\n",
      "('Rate', <type 'int'>)\n",
      "('Rate', <type 'int'>)\n",
      "('Rate', <type 'int'>)\n",
      "('Rate', <type 'int'>)\n",
      "('Rate', <type 'int'>)\n",
      "('Rate', <type 'int'>)\n",
      "('Rate', <type 'int'>)\n",
      "('Rate', <type 'int'>)\n",
      "('Rate', <type 'int'>)\n",
      "('Rate', <type 'int'>)\n",
      "('Rate', <type 'int'>)\n",
      "('Rate', <type 'int'>)\n",
      "('Rate', <type 'int'>)\n",
      "('Rate', <type 'int'>)\n",
      "('Rate', <type 'int'>)\n",
      "('Rate', <type 'int'>)\n",
      "('Rate', <type 'int'>)\n",
      "('Rate', <type 'int'>)\n",
      "('Rate', <type 'int'>)\n",
      "('Rate', <type 'int'>)\n",
      "('Rate', <type 'int'>)\n",
      "('Rate', <type 'int'>)\n",
      "('Rate', <type 'int'>)\n",
      "('Rate', <type 'int'>)\n",
      "('Rate', <type 'int'>)\n",
      "('Rate', <type 'int'>)\n",
      "('Rate', <type 'int'>)\n",
      "('Rate', <type 'int'>)\n",
      "('Rate', <type 'int'>)\n",
      "('Rate', <type 'int'>)\n",
      "('Rate', <type 'int'>)\n",
      "('Rate', <type 'int'>)\n",
      "('Rate', <type 'int'>)\n",
      "('Rate', <type 'int'>)\n",
      "('Rate', <type 'int'>)\n",
      "('Rate', <type 'int'>)\n",
      "('Rate', <type 'int'>)\n",
      "('Rate', <type 'int'>)\n",
      "('Rate', <type 'int'>)\n",
      "('Rate', <type 'int'>)\n",
      "('Rate', <type 'int'>)\n",
      "('Rate', <type 'int'>)\n",
      "('Rate', <type 'int'>)\n",
      "('Rate', <type 'int'>)\n",
      "('Verbal', <type 'int'>)\n",
      "('Verbal', <type 'int'>)\n",
      "('Verbal', <type 'int'>)\n",
      "('Verbal', <type 'int'>)\n",
      "('Verbal', <type 'int'>)\n",
      "('Verbal', <type 'int'>)\n",
      "('Verbal', <type 'int'>)\n",
      "('Verbal', <type 'int'>)\n",
      "('Verbal', <type 'int'>)\n",
      "('Verbal', <type 'int'>)\n",
      "('Verbal', <type 'int'>)\n",
      "('Verbal', <type 'int'>)\n",
      "('Verbal', <type 'int'>)\n",
      "('Verbal', <type 'int'>)\n",
      "('Verbal', <type 'int'>)\n",
      "('Verbal', <type 'int'>)\n",
      "('Verbal', <type 'int'>)\n",
      "('Verbal', <type 'int'>)\n",
      "('Verbal', <type 'int'>)\n",
      "('Verbal', <type 'int'>)\n",
      "('Verbal', <type 'int'>)\n",
      "('Verbal', <type 'int'>)\n",
      "('Verbal', <type 'int'>)\n",
      "('Verbal', <type 'int'>)\n",
      "('Verbal', <type 'int'>)\n",
      "('Verbal', <type 'int'>)\n",
      "('Verbal', <type 'int'>)\n",
      "('Verbal', <type 'int'>)\n",
      "('Verbal', <type 'int'>)\n",
      "('Verbal', <type 'int'>)\n",
      "('Verbal', <type 'int'>)\n",
      "('Verbal', <type 'int'>)\n",
      "('Verbal', <type 'int'>)\n",
      "('Verbal', <type 'int'>)\n",
      "('Verbal', <type 'int'>)\n",
      "('Verbal', <type 'int'>)\n",
      "('Verbal', <type 'int'>)\n",
      "('Verbal', <type 'int'>)\n",
      "('Verbal', <type 'int'>)\n",
      "('Verbal', <type 'int'>)\n",
      "('Verbal', <type 'int'>)\n",
      "('Verbal', <type 'int'>)\n",
      "('Verbal', <type 'int'>)\n",
      "('Verbal', <type 'int'>)\n",
      "('Verbal', <type 'int'>)\n",
      "('Verbal', <type 'int'>)\n",
      "('Verbal', <type 'int'>)\n",
      "('Verbal', <type 'int'>)\n",
      "('Verbal', <type 'int'>)\n",
      "('Verbal', <type 'int'>)\n",
      "('Verbal', <type 'int'>)\n",
      "('Math', <type 'int'>)\n",
      "('Math', <type 'int'>)\n",
      "('Math', <type 'int'>)\n",
      "('Math', <type 'int'>)\n",
      "('Math', <type 'int'>)\n",
      "('Math', <type 'int'>)\n",
      "('Math', <type 'int'>)\n",
      "('Math', <type 'int'>)\n",
      "('Math', <type 'int'>)\n",
      "('Math', <type 'int'>)\n",
      "('Math', <type 'int'>)\n",
      "('Math', <type 'int'>)\n",
      "('Math', <type 'int'>)\n",
      "('Math', <type 'int'>)\n",
      "('Math', <type 'int'>)\n",
      "('Math', <type 'int'>)\n",
      "('Math', <type 'int'>)\n",
      "('Math', <type 'int'>)\n",
      "('Math', <type 'int'>)\n",
      "('Math', <type 'int'>)\n",
      "('Math', <type 'int'>)\n",
      "('Math', <type 'int'>)\n",
      "('Math', <type 'int'>)\n",
      "('Math', <type 'int'>)\n",
      "('Math', <type 'int'>)\n",
      "('Math', <type 'int'>)\n",
      "('Math', <type 'int'>)\n",
      "('Math', <type 'int'>)\n",
      "('Math', <type 'int'>)\n",
      "('Math', <type 'int'>)\n",
      "('Math', <type 'int'>)\n",
      "('Math', <type 'int'>)\n",
      "('Math', <type 'int'>)\n",
      "('Math', <type 'int'>)\n",
      "('Math', <type 'int'>)\n",
      "('Math', <type 'int'>)\n",
      "('Math', <type 'int'>)\n",
      "('Math', <type 'int'>)\n",
      "('Math', <type 'int'>)\n",
      "('Math', <type 'int'>)\n",
      "('Math', <type 'int'>)\n",
      "('Math', <type 'int'>)\n",
      "('Math', <type 'int'>)\n",
      "('Math', <type 'int'>)\n",
      "('Math', <type 'int'>)\n",
      "('Math', <type 'int'>)\n",
      "('Math', <type 'int'>)\n",
      "('Math', <type 'int'>)\n",
      "('Math', <type 'int'>)\n",
      "('Math', <type 'int'>)\n",
      "('Math', <type 'int'>)\n"
     ]
    }
   ],
   "source": [
    "for index, column in enumerate(labels):\n",
    "    for d in data_no_labels:\n",
    "        print(column, type(d[index]))    "
   ]
  },
  {
   "cell_type": "code",
   "execution_count": null,
   "metadata": {
    "collapsed": false
   },
   "outputs": [],
   "source": []
  },
  {
   "cell_type": "markdown",
   "metadata": {},
   "source": [
    "##### 9. Do any types need to be reassigned? If so, go ahead and do it."
   ]
  },
  {
   "cell_type": "code",
   "execution_count": 6,
   "metadata": {
    "collapsed": false
   },
   "outputs": [],
   "source": [
    "#Yes. The Rate, Verbal, and Math columns should be reassigned to int or floats.\n",
    "\n",
    "for index, column in enumerate(labels):\n",
    "    for d in data_no_labels:\n",
    "        if column != 'State':\n",
    "            d[index] = int(d[index])    "
   ]
  },
  {
   "cell_type": "code",
   "execution_count": 7,
   "metadata": {
    "collapsed": false
   },
   "outputs": [
    {
     "name": "stdout",
     "output_type": "stream",
     "text": [
      "('State', <type 'str'>)\n",
      "('State', <type 'str'>)\n",
      "('State', <type 'str'>)\n",
      "('State', <type 'str'>)\n",
      "('State', <type 'str'>)\n",
      "('State', <type 'str'>)\n",
      "('State', <type 'str'>)\n",
      "('State', <type 'str'>)\n",
      "('State', <type 'str'>)\n",
      "('State', <type 'str'>)\n",
      "('State', <type 'str'>)\n",
      "('State', <type 'str'>)\n",
      "('State', <type 'str'>)\n",
      "('State', <type 'str'>)\n",
      "('State', <type 'str'>)\n",
      "('State', <type 'str'>)\n",
      "('State', <type 'str'>)\n",
      "('State', <type 'str'>)\n",
      "('State', <type 'str'>)\n",
      "('State', <type 'str'>)\n",
      "('State', <type 'str'>)\n",
      "('State', <type 'str'>)\n",
      "('State', <type 'str'>)\n",
      "('State', <type 'str'>)\n",
      "('State', <type 'str'>)\n",
      "('State', <type 'str'>)\n",
      "('State', <type 'str'>)\n",
      "('State', <type 'str'>)\n",
      "('State', <type 'str'>)\n",
      "('State', <type 'str'>)\n",
      "('State', <type 'str'>)\n",
      "('State', <type 'str'>)\n",
      "('State', <type 'str'>)\n",
      "('State', <type 'str'>)\n",
      "('State', <type 'str'>)\n",
      "('State', <type 'str'>)\n",
      "('State', <type 'str'>)\n",
      "('State', <type 'str'>)\n",
      "('State', <type 'str'>)\n",
      "('State', <type 'str'>)\n",
      "('State', <type 'str'>)\n",
      "('State', <type 'str'>)\n",
      "('State', <type 'str'>)\n",
      "('State', <type 'str'>)\n",
      "('State', <type 'str'>)\n",
      "('State', <type 'str'>)\n",
      "('State', <type 'str'>)\n",
      "('State', <type 'str'>)\n",
      "('State', <type 'str'>)\n",
      "('State', <type 'str'>)\n",
      "('State', <type 'str'>)\n",
      "('Rate', <type 'int'>)\n",
      "('Rate', <type 'int'>)\n",
      "('Rate', <type 'int'>)\n",
      "('Rate', <type 'int'>)\n",
      "('Rate', <type 'int'>)\n",
      "('Rate', <type 'int'>)\n",
      "('Rate', <type 'int'>)\n",
      "('Rate', <type 'int'>)\n",
      "('Rate', <type 'int'>)\n",
      "('Rate', <type 'int'>)\n",
      "('Rate', <type 'int'>)\n",
      "('Rate', <type 'int'>)\n",
      "('Rate', <type 'int'>)\n",
      "('Rate', <type 'int'>)\n",
      "('Rate', <type 'int'>)\n",
      "('Rate', <type 'int'>)\n",
      "('Rate', <type 'int'>)\n",
      "('Rate', <type 'int'>)\n",
      "('Rate', <type 'int'>)\n",
      "('Rate', <type 'int'>)\n",
      "('Rate', <type 'int'>)\n",
      "('Rate', <type 'int'>)\n",
      "('Rate', <type 'int'>)\n",
      "('Rate', <type 'int'>)\n",
      "('Rate', <type 'int'>)\n",
      "('Rate', <type 'int'>)\n",
      "('Rate', <type 'int'>)\n",
      "('Rate', <type 'int'>)\n",
      "('Rate', <type 'int'>)\n",
      "('Rate', <type 'int'>)\n",
      "('Rate', <type 'int'>)\n",
      "('Rate', <type 'int'>)\n",
      "('Rate', <type 'int'>)\n",
      "('Rate', <type 'int'>)\n",
      "('Rate', <type 'int'>)\n",
      "('Rate', <type 'int'>)\n",
      "('Rate', <type 'int'>)\n",
      "('Rate', <type 'int'>)\n",
      "('Rate', <type 'int'>)\n",
      "('Rate', <type 'int'>)\n",
      "('Rate', <type 'int'>)\n",
      "('Rate', <type 'int'>)\n",
      "('Rate', <type 'int'>)\n",
      "('Rate', <type 'int'>)\n",
      "('Rate', <type 'int'>)\n",
      "('Rate', <type 'int'>)\n",
      "('Rate', <type 'int'>)\n",
      "('Rate', <type 'int'>)\n",
      "('Rate', <type 'int'>)\n",
      "('Rate', <type 'int'>)\n",
      "('Rate', <type 'int'>)\n",
      "('Verbal', <type 'int'>)\n",
      "('Verbal', <type 'int'>)\n",
      "('Verbal', <type 'int'>)\n",
      "('Verbal', <type 'int'>)\n",
      "('Verbal', <type 'int'>)\n",
      "('Verbal', <type 'int'>)\n",
      "('Verbal', <type 'int'>)\n",
      "('Verbal', <type 'int'>)\n",
      "('Verbal', <type 'int'>)\n",
      "('Verbal', <type 'int'>)\n",
      "('Verbal', <type 'int'>)\n",
      "('Verbal', <type 'int'>)\n",
      "('Verbal', <type 'int'>)\n",
      "('Verbal', <type 'int'>)\n",
      "('Verbal', <type 'int'>)\n",
      "('Verbal', <type 'int'>)\n",
      "('Verbal', <type 'int'>)\n",
      "('Verbal', <type 'int'>)\n",
      "('Verbal', <type 'int'>)\n",
      "('Verbal', <type 'int'>)\n",
      "('Verbal', <type 'int'>)\n",
      "('Verbal', <type 'int'>)\n",
      "('Verbal', <type 'int'>)\n",
      "('Verbal', <type 'int'>)\n",
      "('Verbal', <type 'int'>)\n",
      "('Verbal', <type 'int'>)\n",
      "('Verbal', <type 'int'>)\n",
      "('Verbal', <type 'int'>)\n",
      "('Verbal', <type 'int'>)\n",
      "('Verbal', <type 'int'>)\n",
      "('Verbal', <type 'int'>)\n",
      "('Verbal', <type 'int'>)\n",
      "('Verbal', <type 'int'>)\n",
      "('Verbal', <type 'int'>)\n",
      "('Verbal', <type 'int'>)\n",
      "('Verbal', <type 'int'>)\n",
      "('Verbal', <type 'int'>)\n",
      "('Verbal', <type 'int'>)\n",
      "('Verbal', <type 'int'>)\n",
      "('Verbal', <type 'int'>)\n",
      "('Verbal', <type 'int'>)\n",
      "('Verbal', <type 'int'>)\n",
      "('Verbal', <type 'int'>)\n",
      "('Verbal', <type 'int'>)\n",
      "('Verbal', <type 'int'>)\n",
      "('Verbal', <type 'int'>)\n",
      "('Verbal', <type 'int'>)\n",
      "('Verbal', <type 'int'>)\n",
      "('Verbal', <type 'int'>)\n",
      "('Verbal', <type 'int'>)\n",
      "('Verbal', <type 'int'>)\n",
      "('Math', <type 'int'>)\n",
      "('Math', <type 'int'>)\n",
      "('Math', <type 'int'>)\n",
      "('Math', <type 'int'>)\n",
      "('Math', <type 'int'>)\n",
      "('Math', <type 'int'>)\n",
      "('Math', <type 'int'>)\n",
      "('Math', <type 'int'>)\n",
      "('Math', <type 'int'>)\n",
      "('Math', <type 'int'>)\n",
      "('Math', <type 'int'>)\n",
      "('Math', <type 'int'>)\n",
      "('Math', <type 'int'>)\n",
      "('Math', <type 'int'>)\n",
      "('Math', <type 'int'>)\n",
      "('Math', <type 'int'>)\n",
      "('Math', <type 'int'>)\n",
      "('Math', <type 'int'>)\n",
      "('Math', <type 'int'>)\n",
      "('Math', <type 'int'>)\n",
      "('Math', <type 'int'>)\n",
      "('Math', <type 'int'>)\n",
      "('Math', <type 'int'>)\n",
      "('Math', <type 'int'>)\n",
      "('Math', <type 'int'>)\n",
      "('Math', <type 'int'>)\n",
      "('Math', <type 'int'>)\n",
      "('Math', <type 'int'>)\n",
      "('Math', <type 'int'>)\n",
      "('Math', <type 'int'>)\n",
      "('Math', <type 'int'>)\n",
      "('Math', <type 'int'>)\n",
      "('Math', <type 'int'>)\n",
      "('Math', <type 'int'>)\n",
      "('Math', <type 'int'>)\n",
      "('Math', <type 'int'>)\n",
      "('Math', <type 'int'>)\n",
      "('Math', <type 'int'>)\n",
      "('Math', <type 'int'>)\n",
      "('Math', <type 'int'>)\n",
      "('Math', <type 'int'>)\n",
      "('Math', <type 'int'>)\n",
      "('Math', <type 'int'>)\n",
      "('Math', <type 'int'>)\n",
      "('Math', <type 'int'>)\n",
      "('Math', <type 'int'>)\n",
      "('Math', <type 'int'>)\n",
      "('Math', <type 'int'>)\n",
      "('Math', <type 'int'>)\n",
      "('Math', <type 'int'>)\n",
      "('Math', <type 'int'>)\n"
     ]
    }
   ],
   "source": [
    "#Printing the data types again after changing them above to make sure the data types for Rate, Verbal, and \n",
    "#Math columns are changed. State column should still be of type string.\n",
    "for index, column in enumerate(labels):\n",
    "    for d in data_no_labels:\n",
    "        print(column, type(d[index]))    "
   ]
  },
  {
   "cell_type": "markdown",
   "metadata": {},
   "source": [
    "##### 10. Create a dictionary for each column mapping the State to its respective value for that column. "
   ]
  },
  {
   "cell_type": "code",
   "execution_count": 41,
   "metadata": {
    "collapsed": false
   },
   "outputs": [],
   "source": [
    "#Creating an empty dictionary for each column first.\n",
    "rate_dict = {}\n",
    "verbal_dict = {}\n",
    "math_dict = {}\n",
    "\n",
    "for index, data in enumerate(data_no_labels):\n",
    "    rate_dict[data[0]] = data[1]\n",
    "    verbal_dict[data[0]] = data[2]\n",
    "    math_dict[data[0]] = data[3]"
   ]
  },
  {
   "cell_type": "markdown",
   "metadata": {},
   "source": [
    "##### 11. Create a dictionary with the values for each of the numeric columns"
   ]
  },
  {
   "cell_type": "code",
   "execution_count": 42,
   "metadata": {
    "collapsed": false
   },
   "outputs": [
    {
     "data": {
      "text/plain": [
       "{'AK': [51, 514, 510],\n",
       " 'AL': [9, 559, 554],\n",
       " 'AR': [6, 562, 550],\n",
       " 'AZ': [34, 523, 525],\n",
       " 'CA': [51, 498, 517],\n",
       " 'CO': [31, 539, 542],\n",
       " 'CT': [82, 509, 510],\n",
       " 'DC': [56, 482, 474],\n",
       " 'DE': [67, 501, 499],\n",
       " 'FL': [54, 498, 499],\n",
       " 'GA': [63, 491, 489],\n",
       " 'HI': [52, 485, 515],\n",
       " 'IA': [5, 593, 603],\n",
       " 'ID': [17, 543, 542],\n",
       " 'IL': [12, 576, 589],\n",
       " 'IN': [60, 499, 501],\n",
       " 'KS': [9, 577, 580],\n",
       " 'KY': [12, 550, 550],\n",
       " 'LA': [7, 564, 562],\n",
       " 'MA': [79, 511, 515],\n",
       " 'MD': [65, 508, 510],\n",
       " 'ME': [69, 506, 500],\n",
       " 'MI': [11, 561, 572],\n",
       " 'MN': [9, 580, 589],\n",
       " 'MO': [8, 577, 577],\n",
       " 'MS': [4, 566, 551],\n",
       " 'MT': [23, 539, 539],\n",
       " 'NC': [65, 493, 499],\n",
       " 'ND': [4, 592, 599],\n",
       " 'NE': [8, 562, 568],\n",
       " 'NH': [72, 520, 516],\n",
       " 'NJ': [81, 499, 513],\n",
       " 'NM': [13, 551, 542],\n",
       " 'NV': [33, 509, 515],\n",
       " 'NY': [77, 495, 505],\n",
       " 'OH': [26, 534, 439],\n",
       " 'OK': [8, 567, 561],\n",
       " 'OR': [55, 526, 526],\n",
       " 'PA': [71, 500, 499],\n",
       " 'RI': [71, 501, 499],\n",
       " 'SC': [57, 486, 488],\n",
       " 'SD': [4, 577, 582],\n",
       " 'TN': [13, 562, 553],\n",
       " 'TX': [53, 493, 499],\n",
       " 'UT': [5, 575, 570],\n",
       " 'VA': [68, 510, 501],\n",
       " 'VT': [69, 511, 506],\n",
       " 'WA': [53, 527, 527],\n",
       " 'WI': [6, 584, 596],\n",
       " 'WV': [18, 527, 512],\n",
       " 'WY': [11, 547, 545]}"
      ]
     },
     "execution_count": 42,
     "metadata": {},
     "output_type": "execute_result"
    }
   ],
   "source": [
    "numeric_vals_dict = {}\n",
    "\n",
    "for index, data in enumerate(data_no_labels):\n",
    "    numeric_vals_dict[data[0]] = [data[1], data[2], data[3]]\n",
    "\n",
    "#JB call it so we can see it!    \n",
    "numeric_vals_dict  "
   ]
  },
  {
   "cell_type": "markdown",
   "metadata": {},
   "source": [
    "## Step 3: Describe the data"
   ]
  },
  {
   "cell_type": "markdown",
   "metadata": {},
   "source": [
    "##### 12. Print the min and max of each column"
   ]
  },
  {
   "cell_type": "code",
   "execution_count": 43,
   "metadata": {
    "collapsed": false
   },
   "outputs": [],
   "source": [
    "#Assigning the list of data for each column to it's respective variables just for ease of use later. \n",
    "rate_list = [row[1] for row in data_no_labels]\n",
    "verbal_list = [row[2] for row in data_no_labels]\n",
    "math_list = [row[3] for row in data_no_labels]"
   ]
  },
  {
   "cell_type": "code",
   "execution_count": 44,
   "metadata": {
    "collapsed": true
   },
   "outputs": [],
   "source": [
    "#Assigning the min and max for Rate column\n",
    "min_rate = min(rate_list)\n",
    "max_rate = max(rate_list)"
   ]
  },
  {
   "cell_type": "code",
   "execution_count": 45,
   "metadata": {
    "collapsed": false
   },
   "outputs": [],
   "source": [
    "#Assigning the min and max for Verbal column\n",
    "min_verbal = min(verbal_list)\n",
    "max_verbal = max(verbal_list)"
   ]
  },
  {
   "cell_type": "code",
   "execution_count": 46,
   "metadata": {
    "collapsed": false
   },
   "outputs": [],
   "source": [
    "#Assigning the min and max for Math column\n",
    "min_math = min(math_list)\n",
    "max_math = max(math_list)"
   ]
  },
  {
   "cell_type": "code",
   "execution_count": 47,
   "metadata": {
    "collapsed": false
   },
   "outputs": [
    {
     "name": "stdout",
     "output_type": "stream",
     "text": [
      "Min Rate is: 4\n",
      "Max Rate is: 82\n",
      "Min Verbal is: 482\n",
      "Max Verbal is: 593\n",
      "Min Math is: 439\n",
      "Max Math is: 603\n"
     ]
    }
   ],
   "source": [
    "#Printing min and max for all the columns here in one cell for clarity\n",
    "print \"Min Rate is: {}\".format(min_rate)\n",
    "print \"Max Rate is: {}\".format(max_rate)\n",
    "print \"Min Verbal is: {}\".format(min_verbal)\n",
    "print \"Max Verbal is: {}\".format(max_verbal)\n",
    "print \"Min Math is: {}\".format(min_math)\n",
    "print \"Max Math is: {}\".format(max_math)"
   ]
  },
  {
   "cell_type": "markdown",
   "metadata": {},
   "source": [
    "##### 13. Write a function using only list comprehensions, no loops, to compute Standard Deviation. Print the Standard Deviation of each numeric column."
   ]
  },
  {
   "cell_type": "code",
   "execution_count": 15,
   "metadata": {
    "collapsed": false
   },
   "outputs": [],
   "source": [
    "#Function that takes a set of data as argument for calculating the standard deviation for the given data set.\n",
    "def std_calc(list_in):\n",
    "    std_dev = ((sum([((x - (float(sum(list_in)) / len(list_in))) ** 2) for x in list_in])) / len(list_in)) ** .5\n",
    "    return std_dev\n"
   ]
  },
  {
   "cell_type": "code",
   "execution_count": 16,
   "metadata": {
    "collapsed": false
   },
   "outputs": [],
   "source": [
    "#Calling the std_calc function from previous cell for each numeric column using the list variables created during \n",
    "#question 12 above, and assigning the result to another variable for clarity. \n",
    "std_rate = std_calc(rate_list)\n",
    "std_verbal = std_calc(verbal_list)\n",
    "std_math = std_calc(math_list)"
   ]
  },
  {
   "cell_type": "code",
   "execution_count": 17,
   "metadata": {
    "collapsed": false
   },
   "outputs": [
    {
     "name": "stdout",
     "output_type": "stream",
     "text": [
      "Std for Rate using std_calc: 27.2792386761\n",
      "Std for Verbal using std_calc: 33.0319826842\n",
      "Std for Math using std_calc: 35.9298731731\n"
     ]
    }
   ],
   "source": [
    "#Printing the standard deviation values calculated using the std_calc function from above.\n",
    "print \"Std for Rate using std_calc: {}\".format(std_rate)\n",
    "print \"Std for Verbal using std_calc: {}\".format(std_verbal)\n",
    "print \"Std for Math using std_calc: {}\".format(std_math)"
   ]
  },
  {
   "cell_type": "code",
   "execution_count": 18,
   "metadata": {
    "collapsed": false
   },
   "outputs": [
    {
     "name": "stdout",
     "output_type": "stream",
     "text": [
      "Std for Rate using np: 27.2792386761\n",
      "Std for Verbal using np: 33.0319826842\n",
      "Std for Math using np: 35.9298731731\n"
     ]
    }
   ],
   "source": [
    "##Printing the standard deviation values calculated using numpy to make sure it matches the values from my function.\n",
    "np_rl = np.array(rate_list)\n",
    "print \"Std for Rate using np: {}\".format(np_rl.std())\n",
    "\n",
    "np_vl = np.array(verbal_list)\n",
    "print \"Std for Verbal using np: {}\".format(np_vl.std())\n",
    "\n",
    "np_ml = np.array(math_list)\n",
    "print \"Std for Math using np: {}\".format(np_ml.std())"
   ]
  },
  {
   "cell_type": "code",
   "execution_count": 19,
   "metadata": {
    "collapsed": false
   },
   "outputs": [
    {
     "name": "stdout",
     "output_type": "stream",
     "text": [
      "COLUMN: Rate\n",
      "min: 4\n",
      "max: 82\n",
      "standard deviation using std_calc: 27.2792386761\n",
      "standard deviation using numpy: 27.2792386761\n",
      "\n",
      "\n",
      "COLUMN: Verbal\n",
      "min: 482\n",
      "max: 593\n",
      "standard deviation using std_calc: 33.0319826842\n",
      "standard deviation using numpy: 33.0319826842\n",
      "\n",
      "\n",
      "COLUMN: Math\n",
      "min: 439\n",
      "max: 603\n",
      "standard deviation using std_calc: 35.9298731731\n",
      "standard deviation using numpy: 35.9298731731\n",
      "\n",
      "\n"
     ]
    }
   ],
   "source": [
    "#BONUS: This is an extra function I was just messing around with to print out the min, max, and std_dev for a given \n",
    "#list in a cleaner step. \n",
    "def summary_statistics(column, list_in):\n",
    "    print 'COLUMN: ' + column\n",
    "    print 'min: ' + str(min(list_in))\n",
    "    print 'max: ' + str(max(list_in))\n",
    "    print 'standard deviation using std_calc: ' + str(std_calc(list_in))\n",
    "    print 'standard deviation using numpy: ' + str(np.array(list_in).std())\n",
    "    print '\\n'\n",
    "    \n",
    "summary_statistics('Rate', rate_list)\n",
    "summary_statistics('Verbal', verbal_list)\n",
    "summary_statistics('Math', math_list)"
   ]
  },
  {
   "cell_type": "markdown",
   "metadata": {},
   "source": [
    "## Step 4: Visualize the data"
   ]
  },
  {
   "cell_type": "markdown",
   "metadata": {
    "collapsed": true
   },
   "source": [
    "##### 14. Using MatPlotLib and PyPlot, plot the distribution of the Rate using histograms."
   ]
  },
  {
   "cell_type": "code",
   "execution_count": 20,
   "metadata": {
    "collapsed": false
   },
   "outputs": [],
   "source": [
    "import seaborn as sns\n",
    "import matplotlib.pyplot as plt\n",
    "%matplotlib inline"
   ]
  },
  {
   "cell_type": "code",
   "execution_count": 21,
   "metadata": {
    "collapsed": false
   },
   "outputs": [],
   "source": [
    "def matplotlib_plotter(column, list_in):\n",
    "    plt.style.use('fivethirtyeight')\n",
    "    fig = plt.figure(figsize=(10, 3))\n",
    "    axes = fig.gca()\n",
    "\n",
    "    axes.hist(list_in)\n",
    "    axes.set_title(column + ' Histogram', fontsize=16)\n",
    "    axes.set_xlabel('\\n'+column, fontsize=16)\n",
    "    axes.set_ylabel('Frequency\\n', fontsize=16)"
   ]
  },
  {
   "cell_type": "code",
   "execution_count": 22,
   "metadata": {
    "collapsed": true
   },
   "outputs": [],
   "source": [
    "def sns_plotter(column, list_in):\n",
    "    sns.set(rc={\"figure.figsize\": (10, 4)})\n",
    "    sns.set_style(\"darkgrid\")\n",
    "    dist = sns.distplot(list_in, hist_kws={'alpha':0.5}, kde_kws={'linewidth':5})\n",
    "    dist.set_title('Distribution of ' + column + '\\n', fontsize=16)"
   ]
  },
  {
   "cell_type": "code",
   "execution_count": 23,
   "metadata": {
    "collapsed": true
   },
   "outputs": [],
   "source": [
    "def matplotlib_scatterplot(column1, column2, list1_in, list2_in):\n",
    "    plt.style.use('fivethirtyeight')\n",
    "    fig = plt.figure(figsize=(10, 3))\n",
    "    axes = fig.gca()\n",
    "\n",
    "    axes.scatter(list1_in, list2_in)\n",
    "    axes.set_xlabel('\\n'+column1, fontsize=16)\n",
    "    axes.set_ylabel(column2 +'\\n', fontsize=16)"
   ]
  },
  {
   "cell_type": "code",
   "execution_count": 24,
   "metadata": {
    "collapsed": false
   },
   "outputs": [
    {
     "data": {
      "image/png": "[encoded data removed]",
      "text/plain": [
       "<matplotlib.figure.Figure at 0x116cec350>"
      ]
     },
     "metadata": {},
     "output_type": "display_data"
    }
   ],
   "source": [
    "matplotlib_plotter('Rate', rate_list)"
   ]
  },
  {
   "cell_type": "code",
   "execution_count": 25,
   "metadata": {
    "collapsed": false
   },
   "outputs": [
    {
     "data": {
      "image/png": "[encoded data removed]",
      "text/plain": [
       "<matplotlib.figure.Figure at 0x119175090>"
      ]
     },
     "metadata": {},
     "output_type": "display_data"
    }
   ],
   "source": [
    "sns_plotter('Rate', rate_list)"
   ]
  },
  {
   "cell_type": "markdown",
   "metadata": {},
   "source": [
    "##### 15. Plot the Math distribution"
   ]
  },
  {
   "cell_type": "code",
   "execution_count": 26,
   "metadata": {
    "collapsed": false
   },
   "outputs": [
    {
     "data": {
      "image/png": "[encoded data removed]",
      "text/plain": [
       "<matplotlib.figure.Figure at 0x108deae90>"
      ]
     },
     "metadata": {},
     "output_type": "display_data"
    }
   ],
   "source": [
    "matplotlib_plotter('Math', math_list)"
   ]
  },
  {
   "cell_type": "code",
   "execution_count": 27,
   "metadata": {
    "collapsed": false
   },
   "outputs": [
    {
     "data": {
      "image/png": "[encoded data removed]",
      "text/plain": [
       "<matplotlib.figure.Figure at 0x1199ab750>"
      ]
     },
     "metadata": {},
     "output_type": "display_data"
    }
   ],
   "source": [
    "sns_plotter('Math', math_list)"
   ]
  },
  {
   "cell_type": "markdown",
   "metadata": {},
   "source": [
    "##### 16. Plot the Verbal distribution"
   ]
  },
  {
   "cell_type": "code",
   "execution_count": 28,
   "metadata": {
    "collapsed": false
   },
   "outputs": [
    {
     "data": {
      "image/png": "[encoded data removed]",
      "text/plain": [
       "<matplotlib.figure.Figure at 0x1190dcbd0>"
      ]
     },
     "metadata": {},
     "output_type": "display_data"
    }
   ],
   "source": [
    "matplotlib_plotter('Verbal', rate_list)"
   ]
  },
  {
   "cell_type": "code",
   "execution_count": 29,
   "metadata": {
    "collapsed": false
   },
   "outputs": [
    {
     "data": {
      "image/png": "[encoded data removed]",
      "text/plain": [
       "<matplotlib.figure.Figure at 0x11a09ea90>"
      ]
     },
     "metadata": {},
     "output_type": "display_data"
    }
   ],
   "source": [
    "sns_plotter('Verbal', rate_list)"
   ]
  },
  {
   "cell_type": "markdown",
   "metadata": {},
   "source": [
    "##### 17. What is the typical assumption for data distribution?"
   ]
  },
  {
   "cell_type": "markdown",
   "metadata": {
    "collapsed": false
   },
   "source": [
    "Typical assumption is that the data is normally distributed, and distribution of the test data (the histogram) should be bell-shaped and resemble the normal distribution."
   ]
  },
  {
   "cell_type": "markdown",
   "metadata": {},
   "source": [
    "##### 18. Does that distribution hold true for our data?"
   ]
  },
  {
   "cell_type": "markdown",
   "metadata": {
    "collapsed": false
   },
   "source": [
    "No. Our data doesn't seem to be well-modeled by a normal distribution.  "
   ]
  },
  {
   "cell_type": "markdown",
   "metadata": {},
   "source": [
    "##### 19. Plot some scatterplots. **BONUS**: Use a PyPlot `figure` to present multiple plots at once."
   ]
  },
  {
   "cell_type": "code",
   "execution_count": 30,
   "metadata": {
    "collapsed": false
   },
   "outputs": [
    {
     "data": {
      "image/png": "[encoded data removed]",
      "text/plain": [
       "<matplotlib.figure.Figure at 0x104076290>"
      ]
     },
     "metadata": {},
     "output_type": "display_data"
    }
   ],
   "source": [
    "matplotlib_scatterplot('Rate', 'Math', rate_list, math_list)"
   ]
  },
  {
   "cell_type": "code",
   "execution_count": 31,
   "metadata": {
    "collapsed": false
   },
   "outputs": [
    {
     "data": {
      "image/png": "[encoded data removed]",
      "text/plain": [
       "<matplotlib.figure.Figure at 0x11a50a050>"
      ]
     },
     "metadata": {},
     "output_type": "display_data"
    }
   ],
   "source": [
    "matplotlib_scatterplot('Rate', 'Verbal', rate_list, verbal_list)"
   ]
  },
  {
   "cell_type": "code",
   "execution_count": 32,
   "metadata": {
    "collapsed": false
   },
   "outputs": [
    {
     "data": {
      "image/png": "[encoded data removed]",
      "text/plain": [
       "<matplotlib.figure.Figure at 0x11a71c2d0>"
      ]
     },
     "metadata": {},
     "output_type": "display_data"
    }
   ],
   "source": [
    "matplotlib_scatterplot('Verbal', 'Math', verbal_list, math_list)"
   ]
  },
  {
   "cell_type": "markdown",
   "metadata": {},
   "source": [
    "##### 20. Are there any interesting relationships to note?"
   ]
  },
  {
   "cell_type": "markdown",
   "metadata": {
    "collapsed": false
   },
   "source": [
    "A couple of things that stood out and seemed interesting to me are:\n",
    "1. Scores for both math and verbal seem to drop as the participation rate goes up.\n",
    "2. Scores for math and verbal seem to have a strong correlation as we can see an increase in one fairly consistently as the other increases."
   ]
  },
  {
   "cell_type": "markdown",
   "metadata": {},
   "source": [
    "##### 21. Create box plots for each variable. "
   ]
  },
  {
   "cell_type": "code",
   "execution_count": 33,
   "metadata": {
    "collapsed": false
   },
   "outputs": [
    {
     "data": {
      "text/plain": [
       "{'boxes': [<matplotlib.lines.Line2D at 0x11a3cca50>],\n",
       " 'caps': [<matplotlib.lines.Line2D at 0x11a271750>,\n",
       "  <matplotlib.lines.Line2D at 0x11a2710d0>],\n",
       " 'fliers': [<matplotlib.lines.Line2D at 0x11a3b19d0>],\n",
       " 'means': [],\n",
       " 'medians': [<matplotlib.lines.Line2D at 0x11a3b1290>],\n",
       " 'whiskers': [<matplotlib.lines.Line2D at 0x11a3cc590>,\n",
       "  <matplotlib.lines.Line2D at 0x11a271610>]}"
      ]
     },
     "execution_count": 33,
     "metadata": {},
     "output_type": "execute_result"
    },
    {
     "data": {
      "image/png": "[encoded data removed]",
      "text/plain": [
       "<matplotlib.figure.Figure at 0x11a711890>"
      ]
     },
     "metadata": {},
     "output_type": "display_data"
    }
   ],
   "source": [
    "plt.boxplot(math_list)"
   ]
  },
  {
   "cell_type": "code",
   "execution_count": 34,
   "metadata": {
    "collapsed": false
   },
   "outputs": [
    {
     "data": {
      "text/plain": [
       "{'boxes': [<matplotlib.lines.Line2D at 0x11995a950>],\n",
       " 'caps': [<matplotlib.lines.Line2D at 0x119928550>,\n",
       "  <matplotlib.lines.Line2D at 0x119928150>],\n",
       " 'fliers': [<matplotlib.lines.Line2D at 0x1190c53d0>],\n",
       " 'means': [],\n",
       " 'medians': [<matplotlib.lines.Line2D at 0x1040765d0>],\n",
       " 'whiskers': [<matplotlib.lines.Line2D at 0x11995ad50>,\n",
       "  <matplotlib.lines.Line2D at 0x11995a810>]}"
      ]
     },
     "execution_count": 34,
     "metadata": {},
     "output_type": "execute_result"
    },
    {
     "data": {
      "image/png": "[encoded data removed]",
      "text/plain": [
       "<matplotlib.figure.Figure at 0x11a084a10>"
      ]
     },
     "metadata": {},
     "output_type": "display_data"
    }
   ],
   "source": [
    "plt.boxplot(verbal_list)  #JB get these on the same line to compare!"
   ]
  },
  {
   "cell_type": "code",
   "execution_count": 35,
   "metadata": {
    "collapsed": false
   },
   "outputs": [
    {
     "data": {
      "text/plain": [
       "{'boxes': [<matplotlib.lines.Line2D at 0x11a2569d0>],\n",
       " 'caps': [<matplotlib.lines.Line2D at 0x11a58c910>,\n",
       "  <matplotlib.lines.Line2D at 0x11a58cf50>],\n",
       " 'fliers': [<matplotlib.lines.Line2D at 0x11a5acc10>],\n",
       " 'means': [],\n",
       " 'medians': [<matplotlib.lines.Line2D at 0x11a5ac5d0>],\n",
       " 'whiskers': [<matplotlib.lines.Line2D at 0x11a256bd0>,\n",
       "  <matplotlib.lines.Line2D at 0x11a58c2d0>]}"
      ]
     },
     "execution_count": 35,
     "metadata": {},
     "output_type": "execute_result"
    },
    {
     "data": {
      "image/png": "[encoded data removed]",
      "text/plain": [
       "<matplotlib.figure.Figure at 0x119c8f890>"
      ]
     },
     "metadata": {},
     "output_type": "display_data"
    }
   ],
   "source": [
    "plt.boxplot(rate_list) "
   ]
  },
  {
   "cell_type": "markdown",
   "metadata": {},
   "source": [
    "##### BONUS: Using Tableau, create a heat map for each variable using a map of the US. "
   ]
  },
  {
   "cell_type": "markdown",
   "metadata": {
    "collapsed": false
   },
   "source": [
    "Score | 16/18\n",
    "------|------\n",
    "Identify: Discuss Data\t\t|\t\t3\n",
    "Acquire: Load Data with Python\t\t| 3\n",
    "Parse: Print Data\t\t\t| 2\n",
    "Mine: Sort Data\t\t\t\t| 3\n",
    "Refine: Analyze Data\t\t\t\t| 3\n",
    "Present: Visualize Data/Tableau\t\t\t| 2\n",
    "Bonus! Present: Create blog post summary | 0\n",
    "\n",
    "Good, but I need more commentary on viz!"
   ]
  },
  {
   "cell_type": "code",
   "execution_count": null,
   "metadata": {
    "collapsed": true
   },
   "outputs": [],
   "source": []
  }
 ],
 "metadata": {
  "anaconda-cloud": {},
  "kernelspec": {
   "display_name": "Python 2",
   "language": "python",
   "name": "python2"
  },
  "language_info": {
   "codemirror_mode": {
    "name": "ipython",
    "version": 2
   },
   "file_extension": ".py",
   "mimetype": "text/x-python",
   "name": "python",
   "nbconvert_exporter": "python",
   "pygments_lexer": "ipython2",
   "version": "2.7.12"
  }
 },
 "nbformat": 4,
 "nbformat_minor": 0
}

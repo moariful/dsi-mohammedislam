{
 "cells": [
  {
   "cell_type": "markdown",
   "metadata": {},
   "source": [
    "# P5: Disaster Classification"
   ]
  },
  {
   "cell_type": "markdown",
   "metadata": {},
   "source": [
    "  "
   ]
  },
  {
   "cell_type": "markdown",
   "metadata": {},
   "source": [
    "## Part 1: Aquire Data"
   ]
  },
  {
   "cell_type": "markdown",
   "metadata": {
    "collapsed": true
   },
   "source": [
    "To connect from terminal use:\n",
    "\n",
    "    psql -h dsi.c20gkj5cvu3l.us-east-1.rds.amazonaws.com -p 5432 -U dsi_student titanic\n",
    "    password: gastudents"
   ]
  },
  {
   "cell_type": "code",
   "execution_count": 10,
   "metadata": {
    "collapsed": false
   },
   "outputs": [],
   "source": [
    "# Imports\n",
    "import numpy as np\n",
    "import pandas as pd\n",
    "import matplotlib.pyplot as plt\n",
    "from patsy import dmatrices\n",
    "from sklearn.cross_validation import train_test_split, cross_val_score\n",
    "from sqlalchemy import create_engine\n",
    "import csv\n",
    "import os\n",
    "import time\n",
    "import sqlalchemy\n",
    "import seaborn as sns\n",
    "%matplotlib inline"
   ]
  },
  {
   "cell_type": "code",
   "execution_count": 2,
   "metadata": {
    "collapsed": false
   },
   "outputs": [],
   "source": [
    "connectStr = \"postgresql://{}:{}@{}/{}\".format(\n",
    "            'dsi_student',\n",
    "            'gastudents',\n",
    "            'dsi.c20gkj5cvu3l.us-east-1.rds.amazonaws.com',\n",
    "            'titanic'\n",
    "        )\n",
    "engine = create_engine( connectStr )"
   ]
  },
  {
   "cell_type": "code",
   "execution_count": 3,
   "metadata": {
    "collapsed": false
   },
   "outputs": [],
   "source": [
    "# query and aggregate\n",
    "df = pd.read_sql('''SELECT\n",
    "                \"Embarked\",\n",
    "                \"Survived\",\n",
    "                \"Pclass\",\n",
    "                \"Fare\",\n",
    "                \"Sex\",\n",
    "                \"Age\",\n",
    "                \"SibSp\",\n",
    "                \"Parch\"\n",
    "            FROM train''', engine)"
   ]
  },
  {
   "cell_type": "code",
   "execution_count": 4,
   "metadata": {
    "collapsed": false
   },
   "outputs": [
    {
     "name": "stdout",
     "output_type": "stream",
     "text": [
      "<class 'pandas.core.frame.DataFrame'>\n",
      "RangeIndex: 891 entries, 0 to 890\n",
      "Data columns (total 8 columns):\n",
      "Embarked    889 non-null object\n",
      "Survived    891 non-null int64\n",
      "Pclass      891 non-null int64\n",
      "Fare        891 non-null float64\n",
      "Sex         891 non-null object\n",
      "Age         714 non-null float64\n",
      "SibSp       891 non-null int64\n",
      "Parch       891 non-null int64\n",
      "dtypes: float64(2), int64(4), object(2)\n",
      "memory usage: 55.8+ KB\n"
     ]
    }
   ],
   "source": [
    "df.info()"
   ]
  },
  {
   "cell_type": "code",
   "execution_count": 5,
   "metadata": {
    "collapsed": false
   },
   "outputs": [],
   "source": [
    "# nulls, dups, recasts\n",
    "df['Age'].fillna(round(df['Age'].mean()), inplace=True)\n",
    "df.dropna(inplace=True)\n",
    "df.drop_duplicates(inplace=True)"
   ]
  },
  {
   "cell_type": "code",
   "execution_count": 6,
   "metadata": {
    "collapsed": false
   },
   "outputs": [
    {
     "name": "stdout",
     "output_type": "stream",
     "text": [
      "<class 'pandas.core.frame.DataFrame'>\n",
      "Int64Index: 771 entries, 0 to 890\n",
      "Data columns (total 8 columns):\n",
      "Embarked    771 non-null object\n",
      "Survived    771 non-null int64\n",
      "Pclass      771 non-null int64\n",
      "Fare        771 non-null float64\n",
      "Sex         771 non-null object\n",
      "Age         771 non-null float64\n",
      "SibSp       771 non-null int64\n",
      "Parch       771 non-null int64\n",
      "dtypes: float64(2), int64(4), object(2)\n",
      "memory usage: 54.2+ KB\n"
     ]
    }
   ],
   "source": [
    "df.info()"
   ]
  },
  {
   "cell_type": "code",
   "execution_count": 7,
   "metadata": {
    "collapsed": true
   },
   "outputs": [],
   "source": [
    "# risks and assumptions\n",
    "# data dictionary"
   ]
  },
  {
   "cell_type": "markdown",
   "metadata": {},
   "source": [
    "## Part 2: Exploratory Data Analysis"
   ]
  },
  {
   "cell_type": "code",
   "execution_count": 8,
   "metadata": {
    "collapsed": false
   },
   "outputs": [
    {
     "data": {
      "text/html": [
       "<div>\n",
       "<table border=\"1\" class=\"dataframe\">\n",
       "  <thead>\n",
       "    <tr style=\"text-align: right;\">\n",
       "      <th></th>\n",
       "      <th>Embarked</th>\n",
       "      <th>Survived</th>\n",
       "      <th>Pclass</th>\n",
       "      <th>Fare</th>\n",
       "      <th>Sex</th>\n",
       "      <th>Age</th>\n",
       "      <th>SibSp</th>\n",
       "      <th>Parch</th>\n",
       "    </tr>\n",
       "  </thead>\n",
       "  <tbody>\n",
       "    <tr>\n",
       "      <th>count</th>\n",
       "      <td>771</td>\n",
       "      <td>771.000000</td>\n",
       "      <td>771.000000</td>\n",
       "      <td>771.000000</td>\n",
       "      <td>771</td>\n",
       "      <td>771.000000</td>\n",
       "      <td>771.000000</td>\n",
       "      <td>771.000000</td>\n",
       "    </tr>\n",
       "    <tr>\n",
       "      <th>unique</th>\n",
       "      <td>3</td>\n",
       "      <td>NaN</td>\n",
       "      <td>NaN</td>\n",
       "      <td>NaN</td>\n",
       "      <td>2</td>\n",
       "      <td>NaN</td>\n",
       "      <td>NaN</td>\n",
       "      <td>NaN</td>\n",
       "    </tr>\n",
       "    <tr>\n",
       "      <th>top</th>\n",
       "      <td>S</td>\n",
       "      <td>NaN</td>\n",
       "      <td>NaN</td>\n",
       "      <td>NaN</td>\n",
       "      <td>male</td>\n",
       "      <td>NaN</td>\n",
       "      <td>NaN</td>\n",
       "      <td>NaN</td>\n",
       "    </tr>\n",
       "    <tr>\n",
       "      <th>freq</th>\n",
       "      <td>561</td>\n",
       "      <td>NaN</td>\n",
       "      <td>NaN</td>\n",
       "      <td>NaN</td>\n",
       "      <td>482</td>\n",
       "      <td>NaN</td>\n",
       "      <td>NaN</td>\n",
       "      <td>NaN</td>\n",
       "    </tr>\n",
       "    <tr>\n",
       "      <th>mean</th>\n",
       "      <td>NaN</td>\n",
       "      <td>0.413748</td>\n",
       "      <td>2.243839</td>\n",
       "      <td>34.942418</td>\n",
       "      <td>NaN</td>\n",
       "      <td>29.783943</td>\n",
       "      <td>0.530480</td>\n",
       "      <td>0.422827</td>\n",
       "    </tr>\n",
       "    <tr>\n",
       "      <th>std</th>\n",
       "      <td>NaN</td>\n",
       "      <td>0.492824</td>\n",
       "      <td>0.854445</td>\n",
       "      <td>52.460737</td>\n",
       "      <td>NaN</td>\n",
       "      <td>13.736799</td>\n",
       "      <td>0.992199</td>\n",
       "      <td>0.842197</td>\n",
       "    </tr>\n",
       "    <tr>\n",
       "      <th>min</th>\n",
       "      <td>NaN</td>\n",
       "      <td>0.000000</td>\n",
       "      <td>1.000000</td>\n",
       "      <td>0.000000</td>\n",
       "      <td>NaN</td>\n",
       "      <td>0.420000</td>\n",
       "      <td>0.000000</td>\n",
       "      <td>0.000000</td>\n",
       "    </tr>\n",
       "    <tr>\n",
       "      <th>25%</th>\n",
       "      <td>NaN</td>\n",
       "      <td>0.000000</td>\n",
       "      <td>1.000000</td>\n",
       "      <td>8.050000</td>\n",
       "      <td>NaN</td>\n",
       "      <td>21.000000</td>\n",
       "      <td>0.000000</td>\n",
       "      <td>0.000000</td>\n",
       "    </tr>\n",
       "    <tr>\n",
       "      <th>50%</th>\n",
       "      <td>NaN</td>\n",
       "      <td>0.000000</td>\n",
       "      <td>3.000000</td>\n",
       "      <td>16.100000</td>\n",
       "      <td>NaN</td>\n",
       "      <td>30.000000</td>\n",
       "      <td>0.000000</td>\n",
       "      <td>0.000000</td>\n",
       "    </tr>\n",
       "    <tr>\n",
       "      <th>75%</th>\n",
       "      <td>NaN</td>\n",
       "      <td>1.000000</td>\n",
       "      <td>3.000000</td>\n",
       "      <td>34.375000</td>\n",
       "      <td>NaN</td>\n",
       "      <td>36.000000</td>\n",
       "      <td>1.000000</td>\n",
       "      <td>1.000000</td>\n",
       "    </tr>\n",
       "    <tr>\n",
       "      <th>max</th>\n",
       "      <td>NaN</td>\n",
       "      <td>1.000000</td>\n",
       "      <td>3.000000</td>\n",
       "      <td>512.329200</td>\n",
       "      <td>NaN</td>\n",
       "      <td>80.000000</td>\n",
       "      <td>8.000000</td>\n",
       "      <td>6.000000</td>\n",
       "    </tr>\n",
       "  </tbody>\n",
       "</table>\n",
       "</div>"
      ],
      "text/plain": [
       "       Embarked    Survived      Pclass        Fare   Sex         Age  \\\n",
       "count       771  771.000000  771.000000  771.000000   771  771.000000   \n",
       "unique        3         NaN         NaN         NaN     2         NaN   \n",
       "top           S         NaN         NaN         NaN  male         NaN   \n",
       "freq        561         NaN         NaN         NaN   482         NaN   \n",
       "mean        NaN    0.413748    2.243839   34.942418   NaN   29.783943   \n",
       "std         NaN    0.492824    0.854445   52.460737   NaN   13.736799   \n",
       "min         NaN    0.000000    1.000000    0.000000   NaN    0.420000   \n",
       "25%         NaN    0.000000    1.000000    8.050000   NaN   21.000000   \n",
       "50%         NaN    0.000000    3.000000   16.100000   NaN   30.000000   \n",
       "75%         NaN    1.000000    3.000000   34.375000   NaN   36.000000   \n",
       "max         NaN    1.000000    3.000000  512.329200   NaN   80.000000   \n",
       "\n",
       "             SibSp       Parch  \n",
       "count   771.000000  771.000000  \n",
       "unique         NaN         NaN  \n",
       "top            NaN         NaN  \n",
       "freq           NaN         NaN  \n",
       "mean      0.530480    0.422827  \n",
       "std       0.992199    0.842197  \n",
       "min       0.000000    0.000000  \n",
       "25%       0.000000    0.000000  \n",
       "50%       0.000000    0.000000  \n",
       "75%       1.000000    1.000000  \n",
       "max       8.000000    6.000000  "
      ]
     },
     "execution_count": 8,
     "metadata": {},
     "output_type": "execute_result"
    }
   ],
   "source": [
    "# describe data\n",
    "df.describe(include='all')"
   ]
  },
  {
   "cell_type": "code",
   "execution_count": 11,
   "metadata": {
    "collapsed": false
   },
   "outputs": [
    {
     "data": {
      "text/plain": [
       "<matplotlib.axes._subplots.AxesSubplot at 0x11bbd6650>"
      ]
     },
     "execution_count": 11,
     "metadata": {},
     "output_type": "execute_result"
    },
    {
     "data": {
      "image/png": "[encoded data removed]",
      "text/plain": [
       "<matplotlib.figure.Figure at 0x119167d50>"
      ]
     },
     "metadata": {},
     "output_type": "display_data"
    }
   ],
   "source": [
    "# visualize data\n",
    "sns.heatmap(df.corr())"
   ]
  },
  {
   "cell_type": "code",
   "execution_count": null,
   "metadata": {
    "collapsed": false
   },
   "outputs": [],
   "source": []
  },
  {
   "cell_type": "markdown",
   "metadata": {},
   "source": [
    "## Part 3: Data Wrangling"
   ]
  },
  {
   "cell_type": "code",
   "execution_count": 10,
   "metadata": {
    "collapsed": false
   },
   "outputs": [],
   "source": [
    "# patsy our design matrix\n",
    "y, X = dmatrices(\"Survived ~ C(Sex, Treatment(reference='male')) + C(Pclass) + Age + SibSp + Parch + C(Embarked)\", data = df, return_type = 'dataframe')"
   ]
  },
  {
   "cell_type": "code",
   "execution_count": 11,
   "metadata": {
    "collapsed": true
   },
   "outputs": [],
   "source": [
    "Xtr, Xte, ytr, yte = train_test_split(X, y, test_size = .3, stratify=y, random_state = 42)"
   ]
  },
  {
   "cell_type": "code",
   "execution_count": 12,
   "metadata": {
    "collapsed": true
   },
   "outputs": [],
   "source": [
    "# ravel y for sklearn\n",
    "y_ravel = y.values.ravel()"
   ]
  },
  {
   "cell_type": "markdown",
   "metadata": {},
   "source": [
    "## Part 4: Logistic Regression and Model Validation"
   ]
  },
  {
   "cell_type": "code",
   "execution_count": 13,
   "metadata": {
    "collapsed": false
   },
   "outputs": [
    {
     "name": "stderr",
     "output_type": "stream",
     "text": [
      "//anaconda/envs/py27/lib/python2.7/site-packages/sklearn/utils/validation.py:515: DataConversionWarning: A column-vector y was passed when a 1d array was expected. Please change the shape of y to (n_samples, ), for example using ravel().\n",
      "  y = column_or_1d(y, warn=True)\n"
     ]
    }
   ],
   "source": [
    "# fit model\n",
    "from sklearn.linear_model import LogisticRegression, LogisticRegressionCV\n",
    "logreg = LogisticRegression()\n",
    "logreg.fit(Xtr, ytr)\n",
    "logreg_pred = logreg.predict(Xte)"
   ]
  },
  {
   "cell_type": "code",
   "execution_count": 14,
   "metadata": {
    "collapsed": false
   },
   "outputs": [
    {
     "name": "stderr",
     "output_type": "stream",
     "text": [
      "//anaconda/envs/py27/lib/python2.7/site-packages/sklearn/utils/validation.py:515: DataConversionWarning: A column-vector y was passed when a 1d array was expected. Please change the shape of y to (n_samples, ), for example using ravel().\n",
      "  y = column_or_1d(y, warn=True)\n"
     ]
    }
   ],
   "source": [
    "# cross validate test set\n",
    "logregCV = LogisticRegressionCV(cv=5)\n",
    "logregCV.fit(Xtr, ytr)\n",
    "\n",
    "# predict class labels\n",
    "logregCV_pred = logregCV.predict(Xte)"
   ]
  },
  {
   "cell_type": "code",
   "execution_count": 15,
   "metadata": {
    "collapsed": false
   },
   "outputs": [
    {
     "name": "stdout",
     "output_type": "stream",
     "text": [
      "logreg_accuracy: 0.758620689655\n",
      "logreg_classification_report:\n",
      "             precision    recall  f1-score   support\n",
      "\n",
      "       dead       0.77      0.85      0.80       136\n",
      "   survived       0.74      0.64      0.69        96\n",
      "\n",
      "avg / total       0.76      0.76      0.76       232\n",
      "\n",
      "\n",
      "logregCV_accuracy: 0.758620689655\n",
      "logregCV_classification_report:\n",
      "             precision    recall  f1-score   support\n",
      "\n",
      "       dead       0.75      0.88      0.81       136\n",
      "   survived       0.77      0.59      0.67        96\n",
      "\n",
      "avg / total       0.76      0.76      0.75       232\n",
      "\n"
     ]
    }
   ],
   "source": [
    "# classification report\n",
    "from sklearn.metrics import classification_report, confusion_matrix, accuracy_score\n",
    "target_names = ['dead', 'survived']\n",
    "print 'logreg_accuracy:',accuracy_score(yte, logreg_pred)\n",
    "print 'logreg_classification_report:'\n",
    "print classification_report(yte, logreg_pred, target_names=target_names)\n",
    "print\n",
    "print 'logregCV_accuracy:',accuracy_score(yte, logregCV_pred)\n",
    "print 'logregCV_classification_report:'\n",
    "print classification_report(yte, logregCV_pred, target_names=target_names)"
   ]
  },
  {
   "cell_type": "code",
   "execution_count": 16,
   "metadata": {
    "collapsed": false
   },
   "outputs": [
    {
     "name": "stdout",
     "output_type": "stream",
     "text": [
      "Index([u'Intercept', u'C(Sex, Treatment(reference='male'))[T.female]',\n",
      "       u'C(Pclass)[T.2]', u'C(Pclass)[T.3]', u'C(Embarked)[T.Q]',\n",
      "       u'C(Embarked)[T.S]', u'Age', u'SibSp', u'Parch'],\n",
      "      dtype='object')\n",
      "[[ 0.5268586   2.3643735  -0.45478542 -1.55595461 -0.22190815 -0.40993346\n",
      "  -0.03411707 -0.33420538  0.01033335]]\n"
     ]
    }
   ],
   "source": [
    "# examine coefficients\n",
    "print X.columns\n",
    "print logreg.coef_"
   ]
  },
  {
   "cell_type": "code",
   "execution_count": 17,
   "metadata": {
    "collapsed": false
   },
   "outputs": [
    {
     "name": "stdout",
     "output_type": "stream",
     "text": [
      "Index([u'Intercept', u'C(Sex, Treatment(reference='male'))[T.female]',\n",
      "       u'C(Pclass)[T.2]', u'C(Pclass)[T.3]', u'C(Embarked)[T.Q]',\n",
      "       u'C(Embarked)[T.S]', u'Age', u'SibSp', u'Parch'],\n",
      "      dtype='object')\n",
      "[[  1.04020324e-03   1.25830425e+00   5.82836409e-03  -7.07193782e-01\n",
      "   -7.10937755e-02  -2.77745887e-01  -2.32045114e-02  -1.99857230e-01\n",
      "    6.52577863e-02]]\n"
     ]
    }
   ],
   "source": [
    "print X.columns\n",
    "print logregCV.coef_"
   ]
  },
  {
   "cell_type": "markdown",
   "metadata": {},
   "source": [
    "#### What do the classification metrics tell us?"
   ]
  },
  {
   "cell_type": "markdown",
   "metadata": {},
   "source": [
    "The classification metrics show us our scores for the different models, and we can see that in both models, they are fairly similar. However, looking further down below, we will see that the AUC for logreg model is slightly better than the logregCV. "
   ]
  },
  {
   "cell_type": "code",
   "execution_count": 18,
   "metadata": {
    "collapsed": false
   },
   "outputs": [
    {
     "name": "stdout",
     "output_type": "stream",
     "text": [
      "logreg_confusion_matrix\n"
     ]
    },
    {
     "data": {
      "text/html": [
       "<div>\n",
       "<table border=\"1\" class=\"dataframe\">\n",
       "  <thead>\n",
       "    <tr style=\"text-align: right;\">\n",
       "      <th></th>\n",
       "      <th>predicted_dead</th>\n",
       "      <th>predicted_survived</th>\n",
       "    </tr>\n",
       "  </thead>\n",
       "  <tbody>\n",
       "    <tr>\n",
       "      <th>dead</th>\n",
       "      <td>115</td>\n",
       "      <td>21</td>\n",
       "    </tr>\n",
       "    <tr>\n",
       "      <th>survived</th>\n",
       "      <td>35</td>\n",
       "      <td>61</td>\n",
       "    </tr>\n",
       "  </tbody>\n",
       "</table>\n",
       "</div>"
      ],
      "text/plain": [
       "          predicted_dead  predicted_survived\n",
       "dead                 115                  21\n",
       "survived              35                  61"
      ]
     },
     "execution_count": 18,
     "metadata": {},
     "output_type": "execute_result"
    }
   ],
   "source": [
    "# confusion matrix\n",
    "cm = confusion_matrix(yte, logreg_pred)\n",
    "print \"logreg_confusion_matrix\"\n",
    "pd.DataFrame(cm, index=target_names, columns=['predicted_'+x for x in target_names])"
   ]
  },
  {
   "cell_type": "code",
   "execution_count": 19,
   "metadata": {
    "collapsed": false
   },
   "outputs": [
    {
     "name": "stdout",
     "output_type": "stream",
     "text": [
      "logregCV_confusion_matrix\n"
     ]
    },
    {
     "data": {
      "text/html": [
       "<div>\n",
       "<table border=\"1\" class=\"dataframe\">\n",
       "  <thead>\n",
       "    <tr style=\"text-align: right;\">\n",
       "      <th></th>\n",
       "      <th>predicted_dead</th>\n",
       "      <th>predicted_survived</th>\n",
       "    </tr>\n",
       "  </thead>\n",
       "  <tbody>\n",
       "    <tr>\n",
       "      <th>dead</th>\n",
       "      <td>119</td>\n",
       "      <td>17</td>\n",
       "    </tr>\n",
       "    <tr>\n",
       "      <th>survived</th>\n",
       "      <td>39</td>\n",
       "      <td>57</td>\n",
       "    </tr>\n",
       "  </tbody>\n",
       "</table>\n",
       "</div>"
      ],
      "text/plain": [
       "          predicted_dead  predicted_survived\n",
       "dead                 119                  17\n",
       "survived              39                  57"
      ]
     },
     "execution_count": 19,
     "metadata": {},
     "output_type": "execute_result"
    }
   ],
   "source": [
    "cm = confusion_matrix(yte, logregCV_pred)\n",
    "print \"logregCV_confusion_matrix\"\n",
    "pd.DataFrame(cm, index=target_names, columns=['predicted_'+x for x in target_names])"
   ]
  },
  {
   "cell_type": "markdown",
   "metadata": {},
   "source": [
    "#### What does the Confusion Matrix tell us? "
   ]
  },
  {
   "cell_type": "markdown",
   "metadata": {},
   "source": []
  },
  {
   "cell_type": "code",
   "execution_count": 20,
   "metadata": {
    "collapsed": false
   },
   "outputs": [
    {
     "data": {
      "image/png": "[encoded data removed]",
      "text/plain": [
       "<matplotlib.figure.Figure at 0x11bd9ea10>"
      ]
     },
     "metadata": {},
     "output_type": "display_data"
    }
   ],
   "source": [
    "# plot and explain the ROC curve\n",
    "# plot and explain the ROC curve\n",
    "from sklearn.metrics import roc_curve, auc\n",
    "import matplotlib.pyplot as plt\n",
    "plt.style.use('seaborn-white')\n",
    "%matplotlib inline\n",
    "\n",
    "\n",
    "Y_score = logreg.decision_function(Xte)\n",
    "\n",
    "FPR = dict()\n",
    "TPR = dict()\n",
    "ROC_AUC = dict()\n",
    "\n",
    "# For class 1, find the area under the curve\n",
    "FPR[1], TPR[1], _ = roc_curve(yte, Y_score)\n",
    "ROC_AUC[1] = auc(FPR[1], TPR[1])\n",
    "\n",
    "# Plot of a ROC curve for class 1 (has_cancer)\n",
    "plt.figure(figsize=[11,9])\n",
    "plt.plot(FPR[1], TPR[1], label='ROC curve (area = %0.2f)' % ROC_AUC[1], linewidth=4)\n",
    "plt.plot([0, 1], [0, 1], 'k--', linewidth=4)\n",
    "plt.xlim([0.0, 1.0])\n",
    "plt.ylim([0.0, 1.05])\n",
    "plt.xlabel('False Positive Rate', fontsize=18)\n",
    "plt.ylabel('True Positive Rate', fontsize=18)\n",
    "plt.title('LogReg Model AUC', fontsize=18)\n",
    "plt.legend(loc=\"lower right\")\n",
    "plt.show()"
   ]
  },
  {
   "cell_type": "code",
   "execution_count": 21,
   "metadata": {
    "collapsed": false
   },
   "outputs": [
    {
     "data": {
      "image/png": "[encoded data removed]",
      "text/plain": [
       "<matplotlib.figure.Figure at 0x11bce4fd0>"
      ]
     },
     "metadata": {},
     "output_type": "display_data"
    }
   ],
   "source": [
    "# plot and explain the ROC curve\n",
    "# plot and explain the ROC curve\n",
    "from sklearn.metrics import roc_curve, auc\n",
    "import matplotlib.pyplot as plt\n",
    "plt.style.use('seaborn-white')\n",
    "%matplotlib inline\n",
    "\n",
    "\n",
    "Y_score = logregCV.decision_function(Xte)\n",
    "\n",
    "FPR = dict()\n",
    "TPR = dict()\n",
    "ROC_AUC = dict()\n",
    "\n",
    "# For class 1, find the area under the curve\n",
    "FPR[1], TPR[1], _ = roc_curve(yte, Y_score)\n",
    "ROC_AUC[1] = auc(FPR[1], TPR[1])\n",
    "\n",
    "# Plot of a ROC curve for class 1 (has_cancer)\n",
    "plt.figure(figsize=[11,9])\n",
    "plt.plot(FPR[1], TPR[1], label='ROC curve (area = %0.2f)' % ROC_AUC[1], linewidth=4)\n",
    "plt.plot([0, 1], [0, 1], 'k--', linewidth=4)\n",
    "plt.xlim([0.0, 1.0])\n",
    "plt.ylim([0.0, 1.05])\n",
    "plt.xlabel('False Positive Rate', fontsize=18)\n",
    "plt.ylabel('True Positive Rate', fontsize=18)\n",
    "plt.title('LogReg Cross Val Model AUC', fontsize=18)\n",
    "plt.legend(loc=\"lower right\")\n",
    "plt.show()"
   ]
  },
  {
   "cell_type": "markdown",
   "metadata": {},
   "source": [
    "## Part 5: Gridsearch\n",
    "Use GridSearchCV with logistic regression to search for optimal parameters."
   ]
  },
  {
   "cell_type": "code",
   "execution_count": 22,
   "metadata": {
    "collapsed": false
   },
   "outputs": [
    {
     "name": "stdout",
     "output_type": "stream",
     "text": [
      "Fitting 3 folds for each of 300 candidates, totalling 900 fits\n"
     ]
    },
    {
     "name": "stderr",
     "output_type": "stream",
     "text": [
      "[Parallel(n_jobs=-1)]: Done 400 tasks      | elapsed:    4.1s\n",
      "[Parallel(n_jobs=-1)]: Done 900 out of 900 | elapsed:   13.4s finished\n"
     ]
    },
    {
     "data": {
      "text/plain": [
       "LogisticRegressionCV(Cs=4, class_weight=None, cv=2, dual=False,\n",
       "           fit_intercept=True, intercept_scaling=1.0, max_iter=100,\n",
       "           multi_class='ovr', n_jobs=1, penalty='l2', random_state=None,\n",
       "           refit=True, scoring=None, solver='liblinear', tol=0.0001,\n",
       "           verbose=0)"
      ]
     },
     "execution_count": 22,
     "metadata": {},
     "output_type": "execute_result"
    }
   ],
   "source": [
    "from sklearn.grid_search import GridSearchCV\n",
    "gsm = GridSearchCV(LogisticRegressionCV(solver='liblinear'), {'Cs':np.arange(2,12,1), 'cv':np.arange(2,17,1), 'penalty':['l1','l2']}, verbose=1, n_jobs=-1)\n",
    "gsm.fit(X, y_ravel)\n",
    "gsm.best_estimator_"
   ]
  },
  {
   "cell_type": "code",
   "execution_count": 23,
   "metadata": {
    "collapsed": false
   },
   "outputs": [
    {
     "name": "stdout",
     "output_type": "stream",
     "text": [
      "Lasso Metrics\n",
      "('accuracy', 0.7742820559721969, 0.029336743507551579)\n",
      "('precision', 0.75184934708304985, 0.039252347937181471)\n",
      "('recall', 0.68965517241379315, 0.06409106050238518)\n",
      "('roc_auc', 0.83820664897199793, 0.030748966927529382)\n",
      "\n",
      "Ridge Metrics\n",
      "('accuracy', 0.7807938540332906, 0.027492512078188217)\n",
      "('precision', 0.76158388088672946, 0.039159086364543357)\n",
      "('recall', 0.68652037617554862, 0.053933073774561927)\n",
      "('roc_auc', 0.83774607786382371, 0.030353745701933527)\n",
      "\n"
     ]
    }
   ],
   "source": [
    "# compute difference between L1 (Lasso) and L2 (Ridge) penalties on model coefficients\n",
    "\n",
    "lasso_model = LogisticRegression(penalty = 'l1', C=1.0)\n",
    "\n",
    "print 'Lasso Metrics'\n",
    "for metric in ['accuracy', 'precision', 'recall', 'roc_auc']:\n",
    "    scores = cross_val_score(lasso_model, X, y_ravel, cv=11, scoring=metric)\n",
    "    print(metric, scores.mean(), scores.std())\n",
    "\n",
    "print   \n",
    "print 'Ridge Metrics'\n",
    "ridge_model = LogisticRegression(penalty = 'l2', C=1.0)\n",
    "\n",
    "for metric in ['accuracy', 'precision', 'recall', 'roc_auc']:\n",
    "    scores = cross_val_score(ridge_model, X, y_ravel, cv=11, scoring=metric)\n",
    "    print(metric, scores.mean(), scores.std())\n",
    "    \n",
    "print"
   ]
  },
  {
   "cell_type": "markdown",
   "metadata": {},
   "source": [
    "#### BONUS: Thresholds\n",
    "You decide that you want to minimize false positives. Use the predicted probabilities from the model to set your threshold for labeling the positive class to need at least 90% confidence. How and why does this affect your confusion matrix?"
   ]
  },
  {
   "cell_type": "code",
   "execution_count": null,
   "metadata": {
    "collapsed": true
   },
   "outputs": [],
   "source": []
  },
  {
   "cell_type": "markdown",
   "metadata": {},
   "source": [
    "## Part 6: Gridsearch and kNN\n",
    "Perform Gridsearch for the same classification problem as above, but use KNeighborsClassifier as your estimator, and number of neighbors and weights as test parameters."
   ]
  },
  {
   "cell_type": "code",
   "execution_count": 24,
   "metadata": {
    "collapsed": false
   },
   "outputs": [],
   "source": [
    "from sklearn.neighbors import KNeighborsClassifier\n",
    "search_parameters = {\n",
    "    'n_neighbors':  [3,25,50], \n",
    "    'weights':      (\"uniform\", \"distance\"),\n",
    "    'algorithm':    (\"ball_tree\", \"kd_tree\", \"brute\", \"auto\"),\n",
    "    'p':            [1,2]\n",
    "}\n",
    "knn = KNeighborsClassifier()\n",
    "\n",
    "# Intialize GridSearchCV\n",
    "clf = GridSearchCV(knn, search_parameters)\n",
    "\n",
    "# Fit our training data\n",
    "clf.fit(X, y_ravel)\n",
    "clf_pred = clf.predict(Xte)"
   ]
  },
  {
   "cell_type": "code",
   "execution_count": 25,
   "metadata": {
    "collapsed": false
   },
   "outputs": [
    {
     "name": "stdout",
     "output_type": "stream",
     "text": [
      "Best Estimator: 3\n",
      "Best Params: {'n_neighbors': 3, 'weights': 'uniform', 'algorithm': 'ball_tree', 'p': 1}\n",
      "Best Score: 0.736705577173\n"
     ]
    }
   ],
   "source": [
    "# print best parameters and score; is it better than original model?\n",
    "print \"Best Estimator:\", clf.best_estimator_.n_neighbors\n",
    "print \"Best Params:\", clf.best_params_\n",
    "print \"Best Score:\", clf.best_score_"
   ]
  },
  {
   "cell_type": "markdown",
   "metadata": {},
   "source": [
    "How does the number of neighbors affect the bias-variance tradeoff of your model? In what hypothetical scenarios might you prefer logistic regression over kNN, aside from model performance metrics?"
   ]
  },
  {
   "cell_type": "code",
   "execution_count": 26,
   "metadata": {
    "collapsed": false
   },
   "outputs": [
    {
     "name": "stdout",
     "output_type": "stream",
     "text": [
      "logreg_confusion_matrix\n"
     ]
    },
    {
     "data": {
      "text/html": [
       "<div>\n",
       "<table border=\"1\" class=\"dataframe\">\n",
       "  <thead>\n",
       "    <tr style=\"text-align: right;\">\n",
       "      <th></th>\n",
       "      <th>predicted_dead</th>\n",
       "      <th>predicted_survived</th>\n",
       "    </tr>\n",
       "  </thead>\n",
       "  <tbody>\n",
       "    <tr>\n",
       "      <th>dead</th>\n",
       "      <td>126</td>\n",
       "      <td>10</td>\n",
       "    </tr>\n",
       "    <tr>\n",
       "      <th>survived</th>\n",
       "      <td>16</td>\n",
       "      <td>80</td>\n",
       "    </tr>\n",
       "  </tbody>\n",
       "</table>\n",
       "</div>"
      ],
      "text/plain": [
       "          predicted_dead  predicted_survived\n",
       "dead                 126                  10\n",
       "survived              16                  80"
      ]
     },
     "execution_count": 26,
     "metadata": {},
     "output_type": "execute_result"
    }
   ],
   "source": [
    "# new confusion matrix; what has changed?\n",
    "cm = confusion_matrix(yte, clf_pred)\n",
    "print \"logreg_confusion_matrix\"\n",
    "pd.DataFrame(cm, index=target_names, columns=['predicted_'+x for x in target_names])"
   ]
  },
  {
   "cell_type": "code",
   "execution_count": 28,
   "metadata": {
    "collapsed": false
   },
   "outputs": [
    {
     "name": "stdout",
     "output_type": "stream",
     "text": [
      "KNN Score:\t0.736736516699\n",
      "Bagging Score:\t0.757558507274\n"
     ]
    }
   ],
   "source": [
    "from sklearn.ensemble import BaggingClassifier\n",
    "\n",
    "knn = KNeighborsClassifier()\n",
    "bagging = BaggingClassifier(knn, max_samples=0.5, max_features=0.5)\n",
    "\n",
    "print \"KNN Score:\\t\", cross_val_score(knn, X, y_ravel, cv=5, n_jobs=-1).mean()\n",
    "print \"Bagging Score:\\t\", cross_val_score(bagging, X, y_ravel, cv=5, n_jobs=-1).mean()"
   ]
  },
  {
   "cell_type": "markdown",
   "metadata": {},
   "source": [
    "#### BONUS: Average Precision\n",
    "Gridsearch the same parameters for logit but change scoring to 'average_precision' (optimizes parameters for area under the precision-recall curve instead of accuracy). Examine the best parameters, score, and confusion matrix. Are they different than the logistic regression gridsearch in part 5?"
   ]
  },
  {
   "cell_type": "code",
   "execution_count": null,
   "metadata": {
    "collapsed": true
   },
   "outputs": [],
   "source": []
  },
  {
   "cell_type": "markdown",
   "metadata": {},
   "source": [
    "Plot the precision-recall curve. What does this tell us as opposed to the ROC curve?"
   ]
  },
  {
   "cell_type": "code",
   "execution_count": null,
   "metadata": {
    "collapsed": true
   },
   "outputs": [],
   "source": []
  },
  {
   "cell_type": "markdown",
   "metadata": {},
   "source": [
    "#### BONUS: Decision Trees\n",
    "Gridsearch a decision tree classifier model on the data, searching for optimal depth. Create a new decision tree model with the optimal parameters. Compare the performace of the decision tree model to the logistic regression and kNN models."
   ]
  },
  {
   "cell_type": "code",
   "execution_count": null,
   "metadata": {
    "collapsed": true
   },
   "outputs": [],
   "source": []
  },
  {
   "cell_type": "markdown",
   "metadata": {},
   "source": [
    ">Note: tie the data and 'disaster' theme to a specific problem statement and hypothesis. Use Tableau to tell the story where it makes most sense in your report. "
   ]
  },
  {
   "cell_type": "markdown",
   "metadata": {},
   "source": [
    "Score | /30\n",
    "------|--------\n",
    "Executive Summary |\n",
    "Posgres, SQL, Cleaning|\n",
    "Risks and Assumptions |\n",
    "Data Dictionary |\n",
    "EDA |\n",
    "Tableau Storyboard|\n",
    "Logit Model |\n",
    "Logit Metrics|\n",
    "Gridsearch |\n",
    "kNN |\n",
    "Bonus: Thresholds |\n",
    "Bonus: Average Precision|\n",
    "Bonus: Decision Trees|\n"
   ]
  },
  {
   "cell_type": "code",
   "execution_count": null,
   "metadata": {
    "collapsed": true
   },
   "outputs": [],
   "source": []
  }
 ],
 "metadata": {
  "anaconda-cloud": {},
  "kernelspec": {
   "display_name": "Python [conda env:py27]",
   "language": "python",
   "name": "conda-env-py27-py"
  },
  "language_info": {
   "codemirror_mode": {
    "name": "ipython",
    "version": 2
   },
   "file_extension": ".py",
   "mimetype": "text/x-python",
   "name": "python",
   "nbconvert_exporter": "python",
   "pygments_lexer": "ipython2",
   "version": "2.7.12"
  }
 },
 "nbformat": 4,
 "nbformat_minor": 0
}

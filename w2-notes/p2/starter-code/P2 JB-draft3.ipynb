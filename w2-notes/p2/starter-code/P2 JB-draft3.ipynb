{
 "cells": [
  {
   "cell_type": "markdown",
   "metadata": {
    "focus": true,
    "id": "263eb813-da45-48cf-9a8f-9da76c18e470"
   },
   "source": [
    "# Project 2\n",
    "## Step 1: Explore data\n",
    "\n",
    "##### Load your data in using Pandas and start to explore. Save all of your early exploration code here and include in your final submission."
   ]
  },
  {
   "cell_type": "code",
   "execution_count": 1,
   "metadata": {
    "collapsed": false,
    "focus": false,
    "id": "b733d2fe-6d33-41dd-a3fc-5dfe9d71d91f"
   },
   "outputs": [],
   "source": [
    "#Importing packages \n",
    "import pandas as pd, numpy as np, seaborn as sns, matplotlib.pyplot as plt\n",
    "%matplotlib inline"
   ]
  },
  {
   "cell_type": "code",
   "execution_count": 2,
   "metadata": {
    "collapsed": false
   },
   "outputs": [],
   "source": [
    "#read the data from csv and assign it to a dataframe\n",
    "bd_original = pd.read_csv(\"../assets/billboard.csv\")"
   ]
  },
  {
   "cell_type": "code",
   "execution_count": 3,
   "metadata": {
    "collapsed": false
   },
   "outputs": [
    {
     "data": {
      "text/plain": [
       "pandas.core.frame.DataFrame"
      ]
     },
     "execution_count": 3,
     "metadata": {},
     "output_type": "execute_result"
    }
   ],
   "source": [
    "#Wanted to verify what is created\n",
    "type(bd_original)"
   ]
  },
  {
   "cell_type": "code",
   "execution_count": 4,
   "metadata": {
    "collapsed": false
   },
   "outputs": [
    {
     "data": {
      "text/plain": [
       "(317, 83)"
      ]
     },
     "execution_count": 4,
     "metadata": {},
     "output_type": "execute_result"
    }
   ],
   "source": [
    "#checking how many rows and columns are here.\n",
    "bd_original.shape\n",
    "#317 rows, 83 columns "
   ]
  },
  {
   "cell_type": "code",
   "execution_count": 5,
   "metadata": {
    "collapsed": false
   },
   "outputs": [],
   "source": [
    "#getting some more info about the DataFrame\n",
    "#bd_original.info()\n",
    "\n",
    "##Initial thoughts on what I need to clean: \n",
    "#change title artist.inverted to artist\n",
    "#change title date.entered to date_entered\n",
    "#change title date.peaked to date_peaked\n",
    "#change date_entered and date_peaked types to datetime\n",
    "#strip 'x', 'st' from week titles\n",
    "#replace '.' with '_' in week titles\n"
   ]
  },
  {
   "cell_type": "code",
   "execution_count": 6,
   "metadata": {
    "collapsed": false,
    "scrolled": true
   },
   "outputs": [],
   "source": [
    "#using describe to get more detailed info on the data and to understand how it differs from info()\n",
    "#Got 'RuntimeWarning: Invalid value encountered in percentile' error when running describe. I think it has to do with \n",
    "#some of the columns being all nan\n",
    "\n",
    "#bd_original.describe(include='all')\n",
    "\n",
    "##Initial notes and thoughts on what the numbers might show us from describe: \n",
    "#top artist: Jay-Z\n",
    "#top track: Where I Wanna Be\n",
    "#top genre: Rock\n",
    "#unique: 228 out of 317 artists\n",
    "#unique: 68 out of 317 date_entered\n",
    "#unique: 53 out of 317 date_peaked\n",
    "#avg rank on week 1: 79.958991\n",
    "#min rank on week 1: 15.000000\n",
    "#max rank on week 1: 100.000000\n"
   ]
  },
  {
   "cell_type": "code",
   "execution_count": 7,
   "metadata": {
    "collapsed": false
   },
   "outputs": [
    {
     "data": {
      "text/plain": [
       "(317, 72)"
      ]
     },
     "execution_count": 7,
     "metadata": {},
     "output_type": "execute_result"
    }
   ],
   "source": [
    "#drop entire column if all data is NaN in column\n",
    "##params:\n",
    "#axis='1' drops the entire column instead of dropping an entire row\n",
    "#how='all' only drops columns where all the rows for that column are nan\n",
    "\n",
    "bd_nan_dropped = bd_original.dropna(how='all', axis=1)\n",
    "\n",
    "#verifying shape to make sure number of columns dropped, and rows are uneffected\n",
    "#new rows = 317\n",
    "#new columns = 72\n",
    "bd_nan_dropped.shape"
   ]
  },
  {
   "cell_type": "code",
   "execution_count": 8,
   "metadata": {
    "collapsed": false
   },
   "outputs": [],
   "source": [
    "#Using a function to rename weeks titles\n",
    "def replace_weeks(list_in):\n",
    "    name = ['year', 'artist', 'track', 'track_length', 'genre', 'date_entered', 'date_peaked']\n",
    "    for index, i in enumerate(list_in):\n",
    "        i = 'week_0{}'.format(index + 1)\n",
    "        name.append(i)\n",
    "    return name"
   ]
  },
  {
   "cell_type": "code",
   "execution_count": 9,
   "metadata": {
    "collapsed": false
   },
   "outputs": [
    {
     "data": {
      "text/plain": [
       "(317, 65)"
      ]
     },
     "execution_count": 9,
     "metadata": {},
     "output_type": "execute_result"
    }
   ],
   "source": [
    "bd_weeks_only = bd_nan_dropped.iloc[:, 7:]\n",
    "bd_weeks_only.shape"
   ]
  },
  {
   "cell_type": "code",
   "execution_count": 10,
   "metadata": {
    "collapsed": false
   },
   "outputs": [],
   "source": [
    "#calling replace_weeks function and returning list of new column names to cols variable\n",
    "cols = replace_weeks(bd_weeks_only.columns)"
   ]
  },
  {
   "cell_type": "code",
   "execution_count": 11,
   "metadata": {
    "collapsed": false
   },
   "outputs": [],
   "source": [
    "bd_nan_dropped.columns = cols"
   ]
  },
  {
   "cell_type": "code",
   "execution_count": 12,
   "metadata": {
    "collapsed": false
   },
   "outputs": [],
   "source": [
    "#dropping the year column to clean table some more since i'm not sure how it is usefull for my problem statement.\n",
    "bd_year_dropped = bd_nan_dropped.drop('year', axis=1)"
   ]
  },
  {
   "cell_type": "code",
   "execution_count": 13,
   "metadata": {
    "collapsed": false
   },
   "outputs": [
    {
     "data": {
      "text/plain": [
       "(317, 71)"
      ]
     },
     "execution_count": 13,
     "metadata": {},
     "output_type": "execute_result"
    }
   ],
   "source": [
    "bd_year_dropped.shape"
   ]
  },
  {
   "cell_type": "code",
   "execution_count": 14,
   "metadata": {
    "collapsed": false
   },
   "outputs": [],
   "source": [
    "#change date formats\n",
    "bd_year_dropped['date_entered'] = pd.to_datetime(bd_year_dropped['date_entered'])\n",
    "bd_year_dropped['date_peaked'] = pd.to_datetime(bd_year_dropped['date_peaked'])"
   ]
  },
  {
   "cell_type": "code",
   "execution_count": 15,
   "metadata": {
    "collapsed": false,
    "scrolled": true
   },
   "outputs": [
    {
     "data": {
      "text/html": [
       "<div>\n",
       "<table border=\"1\" class=\"dataframe\">\n",
       "  <thead>\n",
       "    <tr style=\"text-align: right;\">\n",
       "      <th></th>\n",
       "      <th>artist</th>\n",
       "      <th>track</th>\n",
       "      <th>track_length</th>\n",
       "      <th>genre</th>\n",
       "      <th>date_entered</th>\n",
       "      <th>date_peaked</th>\n",
       "      <th>week_01</th>\n",
       "      <th>week_02</th>\n",
       "      <th>week_03</th>\n",
       "      <th>week_04</th>\n",
       "      <th>...</th>\n",
       "      <th>week_056</th>\n",
       "      <th>week_057</th>\n",
       "      <th>week_058</th>\n",
       "      <th>week_059</th>\n",
       "      <th>week_060</th>\n",
       "      <th>week_061</th>\n",
       "      <th>week_062</th>\n",
       "      <th>week_063</th>\n",
       "      <th>week_064</th>\n",
       "      <th>week_065</th>\n",
       "    </tr>\n",
       "  </thead>\n",
       "  <tbody>\n",
       "    <tr>\n",
       "      <th>0</th>\n",
       "      <td>Destiny's Child</td>\n",
       "      <td>Independent Women Part I</td>\n",
       "      <td>3:38</td>\n",
       "      <td>Rock</td>\n",
       "      <td>2000-09-23</td>\n",
       "      <td>2000-11-18</td>\n",
       "      <td>78</td>\n",
       "      <td>63.0</td>\n",
       "      <td>49.0</td>\n",
       "      <td>33.0</td>\n",
       "      <td>...</td>\n",
       "      <td>NaN</td>\n",
       "      <td>NaN</td>\n",
       "      <td>NaN</td>\n",
       "      <td>NaN</td>\n",
       "      <td>NaN</td>\n",
       "      <td>NaN</td>\n",
       "      <td>NaN</td>\n",
       "      <td>NaN</td>\n",
       "      <td>NaN</td>\n",
       "      <td>NaN</td>\n",
       "    </tr>\n",
       "    <tr>\n",
       "      <th>1</th>\n",
       "      <td>Santana</td>\n",
       "      <td>Maria, Maria</td>\n",
       "      <td>4:18</td>\n",
       "      <td>Rock</td>\n",
       "      <td>2000-02-12</td>\n",
       "      <td>2000-04-08</td>\n",
       "      <td>15</td>\n",
       "      <td>8.0</td>\n",
       "      <td>6.0</td>\n",
       "      <td>5.0</td>\n",
       "      <td>...</td>\n",
       "      <td>NaN</td>\n",
       "      <td>NaN</td>\n",
       "      <td>NaN</td>\n",
       "      <td>NaN</td>\n",
       "      <td>NaN</td>\n",
       "      <td>NaN</td>\n",
       "      <td>NaN</td>\n",
       "      <td>NaN</td>\n",
       "      <td>NaN</td>\n",
       "      <td>NaN</td>\n",
       "    </tr>\n",
       "    <tr>\n",
       "      <th>2</th>\n",
       "      <td>Savage Garden</td>\n",
       "      <td>I Knew I Loved You</td>\n",
       "      <td>4:07</td>\n",
       "      <td>Rock</td>\n",
       "      <td>1999-10-23</td>\n",
       "      <td>2000-01-29</td>\n",
       "      <td>71</td>\n",
       "      <td>48.0</td>\n",
       "      <td>43.0</td>\n",
       "      <td>31.0</td>\n",
       "      <td>...</td>\n",
       "      <td>NaN</td>\n",
       "      <td>NaN</td>\n",
       "      <td>NaN</td>\n",
       "      <td>NaN</td>\n",
       "      <td>NaN</td>\n",
       "      <td>NaN</td>\n",
       "      <td>NaN</td>\n",
       "      <td>NaN</td>\n",
       "      <td>NaN</td>\n",
       "      <td>NaN</td>\n",
       "    </tr>\n",
       "    <tr>\n",
       "      <th>3</th>\n",
       "      <td>Madonna</td>\n",
       "      <td>Music</td>\n",
       "      <td>3:45</td>\n",
       "      <td>Rock</td>\n",
       "      <td>2000-08-12</td>\n",
       "      <td>2000-09-16</td>\n",
       "      <td>41</td>\n",
       "      <td>23.0</td>\n",
       "      <td>18.0</td>\n",
       "      <td>14.0</td>\n",
       "      <td>...</td>\n",
       "      <td>NaN</td>\n",
       "      <td>NaN</td>\n",
       "      <td>NaN</td>\n",
       "      <td>NaN</td>\n",
       "      <td>NaN</td>\n",
       "      <td>NaN</td>\n",
       "      <td>NaN</td>\n",
       "      <td>NaN</td>\n",
       "      <td>NaN</td>\n",
       "      <td>NaN</td>\n",
       "    </tr>\n",
       "    <tr>\n",
       "      <th>4</th>\n",
       "      <td>Aguilera, Christina</td>\n",
       "      <td>Come On Over Baby (All I Want Is You)</td>\n",
       "      <td>3:38</td>\n",
       "      <td>Rock</td>\n",
       "      <td>2000-08-05</td>\n",
       "      <td>2000-10-14</td>\n",
       "      <td>57</td>\n",
       "      <td>47.0</td>\n",
       "      <td>45.0</td>\n",
       "      <td>29.0</td>\n",
       "      <td>...</td>\n",
       "      <td>NaN</td>\n",
       "      <td>NaN</td>\n",
       "      <td>NaN</td>\n",
       "      <td>NaN</td>\n",
       "      <td>NaN</td>\n",
       "      <td>NaN</td>\n",
       "      <td>NaN</td>\n",
       "      <td>NaN</td>\n",
       "      <td>NaN</td>\n",
       "      <td>NaN</td>\n",
       "    </tr>\n",
       "  </tbody>\n",
       "</table>\n",
       "<p>5 rows × 71 columns</p>\n",
       "</div>"
      ],
      "text/plain": [
       "                artist                                  track track_length  \\\n",
       "0      Destiny's Child               Independent Women Part I         3:38   \n",
       "1              Santana                           Maria, Maria         4:18   \n",
       "2        Savage Garden                     I Knew I Loved You         4:07   \n",
       "3              Madonna                                  Music         3:45   \n",
       "4  Aguilera, Christina  Come On Over Baby (All I Want Is You)         3:38   \n",
       "\n",
       "  genre date_entered date_peaked  week_01  week_02  week_03  week_04  \\\n",
       "0  Rock   2000-09-23  2000-11-18       78     63.0     49.0     33.0   \n",
       "1  Rock   2000-02-12  2000-04-08       15      8.0      6.0      5.0   \n",
       "2  Rock   1999-10-23  2000-01-29       71     48.0     43.0     31.0   \n",
       "3  Rock   2000-08-12  2000-09-16       41     23.0     18.0     14.0   \n",
       "4  Rock   2000-08-05  2000-10-14       57     47.0     45.0     29.0   \n",
       "\n",
       "     ...     week_056  week_057  week_058  week_059  week_060  week_061  \\\n",
       "0    ...          NaN       NaN       NaN       NaN       NaN       NaN   \n",
       "1    ...          NaN       NaN       NaN       NaN       NaN       NaN   \n",
       "2    ...          NaN       NaN       NaN       NaN       NaN       NaN   \n",
       "3    ...          NaN       NaN       NaN       NaN       NaN       NaN   \n",
       "4    ...          NaN       NaN       NaN       NaN       NaN       NaN   \n",
       "\n",
       "   week_062  week_063  week_064  week_065  \n",
       "0       NaN       NaN       NaN       NaN  \n",
       "1       NaN       NaN       NaN       NaN  \n",
       "2       NaN       NaN       NaN       NaN  \n",
       "3       NaN       NaN       NaN       NaN  \n",
       "4       NaN       NaN       NaN       NaN  \n",
       "\n",
       "[5 rows x 71 columns]"
      ]
     },
     "execution_count": 15,
     "metadata": {},
     "output_type": "execute_result"
    }
   ],
   "source": [
    "bd_year_dropped.head()\n",
    "\n",
    "#What I've completed so far. Just creating a checkpoint for myself to brainstorm next steps:\n",
    "#change title artist.inverted to artist - DONE\n",
    "#change title date.entered to date_entered - DONE\n",
    "#change title date.peaked to date_peaked - DONE\n",
    "#change date_entered and date_peaked types to datetime - DONE\n",
    "#strip 'x', 'st' from week titles - DONE\n",
    "#replace '.' with '_' in week titles - DONE"
   ]
  },
  {
   "cell_type": "code",
   "execution_count": 16,
   "metadata": {
    "collapsed": true
   },
   "outputs": [],
   "source": [
    "#WHAT NEXT?\n",
    "##From this current data, what new data can I extrapulate and add as a new column to the cleaned dataset?\n",
    "#How many weeks did each track stay on the chart?\n",
    "#How long did it take each track to reach it's peak?"
   ]
  },
  {
   "cell_type": "code",
   "execution_count": 17,
   "metadata": {
    "collapsed": false
   },
   "outputs": [],
   "source": [
    "#How many weeks did each track stay on the chart?\n",
    "#Creating new column 'weeks_on_chart' to show how long each track was on the chart\n",
    "bd_year_dropped['weeks_on_chart'] = bd_year_dropped.ix[:,6:].notnull().sum(axis=1)"
   ]
  },
  {
   "cell_type": "code",
   "execution_count": 18,
   "metadata": {
    "collapsed": false
   },
   "outputs": [],
   "source": [
    "bd_year_dropped['days_to_peak'] = bd_year_dropped['date_peaked'] - bd_year_dropped['date_entered']"
   ]
  },
  {
   "cell_type": "code",
   "execution_count": 19,
   "metadata": {
    "collapsed": false,
    "scrolled": true
   },
   "outputs": [
    {
     "data": {
      "text/html": [
       "<div>\n",
       "<table border=\"1\" class=\"dataframe\">\n",
       "  <thead>\n",
       "    <tr style=\"text-align: right;\">\n",
       "      <th></th>\n",
       "      <th>artist</th>\n",
       "      <th>track</th>\n",
       "      <th>track_length</th>\n",
       "      <th>genre</th>\n",
       "      <th>date_entered</th>\n",
       "      <th>date_peaked</th>\n",
       "      <th>week_01</th>\n",
       "      <th>week_02</th>\n",
       "      <th>week_03</th>\n",
       "      <th>week_04</th>\n",
       "      <th>...</th>\n",
       "      <th>week_058</th>\n",
       "      <th>week_059</th>\n",
       "      <th>week_060</th>\n",
       "      <th>week_061</th>\n",
       "      <th>week_062</th>\n",
       "      <th>week_063</th>\n",
       "      <th>week_064</th>\n",
       "      <th>week_065</th>\n",
       "      <th>weeks_on_chart</th>\n",
       "      <th>days_to_peak</th>\n",
       "    </tr>\n",
       "  </thead>\n",
       "  <tbody>\n",
       "    <tr>\n",
       "      <th>0</th>\n",
       "      <td>Destiny's Child</td>\n",
       "      <td>Independent Women Part I</td>\n",
       "      <td>3:38</td>\n",
       "      <td>Rock</td>\n",
       "      <td>2000-09-23</td>\n",
       "      <td>2000-11-18</td>\n",
       "      <td>78</td>\n",
       "      <td>63.0</td>\n",
       "      <td>49.0</td>\n",
       "      <td>33.0</td>\n",
       "      <td>...</td>\n",
       "      <td>NaN</td>\n",
       "      <td>NaN</td>\n",
       "      <td>NaN</td>\n",
       "      <td>NaN</td>\n",
       "      <td>NaN</td>\n",
       "      <td>NaN</td>\n",
       "      <td>NaN</td>\n",
       "      <td>NaN</td>\n",
       "      <td>28</td>\n",
       "      <td>56 days</td>\n",
       "    </tr>\n",
       "    <tr>\n",
       "      <th>1</th>\n",
       "      <td>Santana</td>\n",
       "      <td>Maria, Maria</td>\n",
       "      <td>4:18</td>\n",
       "      <td>Rock</td>\n",
       "      <td>2000-02-12</td>\n",
       "      <td>2000-04-08</td>\n",
       "      <td>15</td>\n",
       "      <td>8.0</td>\n",
       "      <td>6.0</td>\n",
       "      <td>5.0</td>\n",
       "      <td>...</td>\n",
       "      <td>NaN</td>\n",
       "      <td>NaN</td>\n",
       "      <td>NaN</td>\n",
       "      <td>NaN</td>\n",
       "      <td>NaN</td>\n",
       "      <td>NaN</td>\n",
       "      <td>NaN</td>\n",
       "      <td>NaN</td>\n",
       "      <td>26</td>\n",
       "      <td>56 days</td>\n",
       "    </tr>\n",
       "    <tr>\n",
       "      <th>2</th>\n",
       "      <td>Savage Garden</td>\n",
       "      <td>I Knew I Loved You</td>\n",
       "      <td>4:07</td>\n",
       "      <td>Rock</td>\n",
       "      <td>1999-10-23</td>\n",
       "      <td>2000-01-29</td>\n",
       "      <td>71</td>\n",
       "      <td>48.0</td>\n",
       "      <td>43.0</td>\n",
       "      <td>31.0</td>\n",
       "      <td>...</td>\n",
       "      <td>NaN</td>\n",
       "      <td>NaN</td>\n",
       "      <td>NaN</td>\n",
       "      <td>NaN</td>\n",
       "      <td>NaN</td>\n",
       "      <td>NaN</td>\n",
       "      <td>NaN</td>\n",
       "      <td>NaN</td>\n",
       "      <td>33</td>\n",
       "      <td>98 days</td>\n",
       "    </tr>\n",
       "    <tr>\n",
       "      <th>3</th>\n",
       "      <td>Madonna</td>\n",
       "      <td>Music</td>\n",
       "      <td>3:45</td>\n",
       "      <td>Rock</td>\n",
       "      <td>2000-08-12</td>\n",
       "      <td>2000-09-16</td>\n",
       "      <td>41</td>\n",
       "      <td>23.0</td>\n",
       "      <td>18.0</td>\n",
       "      <td>14.0</td>\n",
       "      <td>...</td>\n",
       "      <td>NaN</td>\n",
       "      <td>NaN</td>\n",
       "      <td>NaN</td>\n",
       "      <td>NaN</td>\n",
       "      <td>NaN</td>\n",
       "      <td>NaN</td>\n",
       "      <td>NaN</td>\n",
       "      <td>NaN</td>\n",
       "      <td>24</td>\n",
       "      <td>35 days</td>\n",
       "    </tr>\n",
       "    <tr>\n",
       "      <th>4</th>\n",
       "      <td>Aguilera, Christina</td>\n",
       "      <td>Come On Over Baby (All I Want Is You)</td>\n",
       "      <td>3:38</td>\n",
       "      <td>Rock</td>\n",
       "      <td>2000-08-05</td>\n",
       "      <td>2000-10-14</td>\n",
       "      <td>57</td>\n",
       "      <td>47.0</td>\n",
       "      <td>45.0</td>\n",
       "      <td>29.0</td>\n",
       "      <td>...</td>\n",
       "      <td>NaN</td>\n",
       "      <td>NaN</td>\n",
       "      <td>NaN</td>\n",
       "      <td>NaN</td>\n",
       "      <td>NaN</td>\n",
       "      <td>NaN</td>\n",
       "      <td>NaN</td>\n",
       "      <td>NaN</td>\n",
       "      <td>21</td>\n",
       "      <td>70 days</td>\n",
       "    </tr>\n",
       "  </tbody>\n",
       "</table>\n",
       "<p>5 rows × 73 columns</p>\n",
       "</div>"
      ],
      "text/plain": [
       "                artist                                  track track_length  \\\n",
       "0      Destiny's Child               Independent Women Part I         3:38   \n",
       "1              Santana                           Maria, Maria         4:18   \n",
       "2        Savage Garden                     I Knew I Loved You         4:07   \n",
       "3              Madonna                                  Music         3:45   \n",
       "4  Aguilera, Christina  Come On Over Baby (All I Want Is You)         3:38   \n",
       "\n",
       "  genre date_entered date_peaked  week_01  week_02  week_03  week_04  \\\n",
       "0  Rock   2000-09-23  2000-11-18       78     63.0     49.0     33.0   \n",
       "1  Rock   2000-02-12  2000-04-08       15      8.0      6.0      5.0   \n",
       "2  Rock   1999-10-23  2000-01-29       71     48.0     43.0     31.0   \n",
       "3  Rock   2000-08-12  2000-09-16       41     23.0     18.0     14.0   \n",
       "4  Rock   2000-08-05  2000-10-14       57     47.0     45.0     29.0   \n",
       "\n",
       "       ...       week_058  week_059  week_060  week_061  week_062  week_063  \\\n",
       "0      ...            NaN       NaN       NaN       NaN       NaN       NaN   \n",
       "1      ...            NaN       NaN       NaN       NaN       NaN       NaN   \n",
       "2      ...            NaN       NaN       NaN       NaN       NaN       NaN   \n",
       "3      ...            NaN       NaN       NaN       NaN       NaN       NaN   \n",
       "4      ...            NaN       NaN       NaN       NaN       NaN       NaN   \n",
       "\n",
       "   week_064  week_065  weeks_on_chart  days_to_peak  \n",
       "0       NaN       NaN              28       56 days  \n",
       "1       NaN       NaN              26       56 days  \n",
       "2       NaN       NaN              33       98 days  \n",
       "3       NaN       NaN              24       35 days  \n",
       "4       NaN       NaN              21       70 days  \n",
       "\n",
       "[5 rows x 73 columns]"
      ]
     },
     "execution_count": 19,
     "metadata": {},
     "output_type": "execute_result"
    }
   ],
   "source": [
    "#bd_year_dropped.describe(include='all')\n",
    "bd_year_dropped.head()"
   ]
  },
  {
   "cell_type": "code",
   "execution_count": 20,
   "metadata": {
    "collapsed": false,
    "scrolled": true
   },
   "outputs": [
    {
     "data": {
      "text/plain": [
       "Index([u'artist', u'track', u'track_length', u'genre', u'date_entered',\n",
       "       u'date_peaked', u'week_01', u'week_02', u'week_03', u'week_04',\n",
       "       u'week_05', u'week_06', u'week_07', u'week_08', u'week_09', u'week_010',\n",
       "       u'week_011', u'week_012', u'week_013', u'week_014', u'week_015',\n",
       "       u'week_016', u'week_017', u'week_018', u'week_019', u'week_020',\n",
       "       u'week_021', u'week_022', u'week_023', u'week_024', u'week_025',\n",
       "       u'week_026', u'week_027', u'week_028', u'week_029', u'week_030',\n",
       "       u'week_031', u'week_032', u'week_033', u'week_034', u'week_035',\n",
       "       u'week_036', u'week_037', u'week_038', u'week_039', u'week_040',\n",
       "       u'week_041', u'week_042', u'week_043', u'week_044', u'week_045',\n",
       "       u'week_046', u'week_047', u'week_048', u'week_049', u'week_050',\n",
       "       u'week_051', u'week_052', u'week_053', u'week_054', u'week_055',\n",
       "       u'week_056', u'week_057', u'week_058', u'week_059', u'week_060',\n",
       "       u'week_061', u'week_062', u'week_063', u'week_064', u'week_065',\n",
       "       u'weeks_on_chart', u'days_to_peak'],\n",
       "      dtype='object')"
      ]
     },
     "execution_count": 20,
     "metadata": {},
     "output_type": "execute_result"
    }
   ],
   "source": [
    "bd_year_dropped.columns"
   ]
  },
  {
   "cell_type": "code",
   "execution_count": 21,
   "metadata": {
    "collapsed": true
   },
   "outputs": [],
   "source": [
    "#bd_melted = pd.melt(bd_year_dropped, id_vars=['genre', 'artist', 'track', 'date_entered', 'days_to_peak', 'date_peaked', 'weeks_on_chart', 'track_length'], value_vars=list(bd_year_dropped.iloc[:, 7:-2]))"
   ]
  },
  {
   "cell_type": "code",
   "execution_count": null,
   "metadata": {
    "collapsed": false
   },
   "outputs": [],
   "source": [
    "#bd_melted_2 = pd.melt(bd_year_dropped, id_vars=['genre', 'artist', 'track'], value_vars=['date_entered', 'date_peaked', 'days_to_peak', 'weeks_on_chart', 'track_length'])"
   ]
  },
  {
   "cell_type": "code",
   "execution_count": null,
   "metadata": {
    "collapsed": false
   },
   "outputs": [],
   "source": [
    "#bd_melted_2.head()"
   ]
  },
  {
   "cell_type": "code",
   "execution_count": null,
   "metadata": {
    "collapsed": false
   },
   "outputs": [],
   "source": [
    "#xb = bd_melted_2.loc[bd_melted_2['variable'] == 'weeks_on_chart']"
   ]
  },
  {
   "cell_type": "code",
   "execution_count": 48,
   "metadata": {
    "collapsed": false
   },
   "outputs": [],
   "source": [
    "bd_pivot_gat = pd.pivot_table(bd_year_dropped, index=['genre', 'artist', 'track'], values='weeks_on_chart')"
   ]
  },
  {
   "cell_type": "code",
   "execution_count": 49,
   "metadata": {
    "collapsed": false
   },
   "outputs": [
    {
     "data": {
      "text/plain": [
       "genre    artist         track                    \n",
       "Country  Adkins, Trace  More                         11\n",
       "         Allan, Gary    Smoke Rings In The Dark       5\n",
       "         Black, Clint   Been There                   20\n",
       "         Brock, Chad    A Country Boy Can Survive     3\n",
       "                        Yes!                         20\n",
       "Name: weeks_on_chart, dtype: int64"
      ]
     },
     "execution_count": 49,
     "metadata": {},
     "output_type": "execute_result"
    }
   ],
   "source": [
    "bd_pivot_gat.head()"
   ]
  },
  {
   "cell_type": "code",
   "execution_count": null,
   "metadata": {
    "collapsed": true
   },
   "outputs": [],
   "source": [
    "bd_pivot_g = pd.pivot_table(bd_year_dropped, index=['genre', 'artist', 'track'], values='weeks_on_chart')"
   ]
  },
  {
   "cell_type": "code",
   "execution_count": null,
   "metadata": {
    "collapsed": false
   },
   "outputs": [],
   "source": []
  },
  {
   "cell_type": "code",
   "execution_count": null,
   "metadata": {
    "collapsed": false
   },
   "outputs": [],
   "source": [
    "bd_year_dropped.index = bd_year_dropped[\"track\"]"
   ]
  },
  {
   "cell_type": "code",
   "execution_count": null,
   "metadata": {
    "collapsed": true
   },
   "outputs": [],
   "source": [
    "del bd_year_dropped['track']"
   ]
  },
  {
   "cell_type": "code",
   "execution_count": null,
   "metadata": {
    "collapsed": false
   },
   "outputs": [],
   "source": [
    "bd_year_dropped.head()"
   ]
  },
  {
   "cell_type": "code",
   "execution_count": null,
   "metadata": {
    "collapsed": false
   },
   "outputs": [],
   "source": [
    "bd_year_dropped.plot(x='genre', y='weeks_on_chart')"
   ]
  },
  {
   "cell_type": "code",
   "execution_count": null,
   "metadata": {
    "collapsed": false
   },
   "outputs": [],
   "source": [
    "bd_melted_2.plot(x='track', y=bd_melted_2.loc[bd_melted_2['variable'] == 'date_entered'])"
   ]
  },
  {
   "cell_type": "code",
   "execution_count": null,
   "metadata": {
    "collapsed": false
   },
   "outputs": [],
   "source": [
    "bd_melted.plot(x='track', y='weeks_on_chart')"
   ]
  },
  {
   "cell_type": "code",
   "execution_count": null,
   "metadata": {
    "collapsed": false
   },
   "outputs": [],
   "source": [
    "#bd_year_dropped.index = bd_year_dropped[\"track\"]"
   ]
  },
  {
   "cell_type": "code",
   "execution_count": null,
   "metadata": {
    "collapsed": true
   },
   "outputs": [],
   "source": [
    "#bd_new_index.index = bd_new_index['song_name']\n"
   ]
  },
  {
   "cell_type": "code",
   "execution_count": null,
   "metadata": {
    "collapsed": false
   },
   "outputs": [],
   "source": [
    "#bd_year_dropped"
   ]
  },
  {
   "cell_type": "code",
   "execution_count": null,
   "metadata": {
    "collapsed": false
   },
   "outputs": [],
   "source": [
    "# bd_year_dropped.plot.bar(x=bd_year_dropped['track'], y=bd_year_dropped['weeks_on_chart'])\n",
    "#bd_year_dropped.resample('D').sum()"
   ]
  },
  {
   "cell_type": "code",
   "execution_count": null,
   "metadata": {
    "collapsed": false
   },
   "outputs": [],
   "source": []
  },
  {
   "cell_type": "code",
   "execution_count": null,
   "metadata": {
    "collapsed": false
   },
   "outputs": [],
   "source": [
    "#bd_melted"
   ]
  },
  {
   "cell_type": "markdown",
   "metadata": {
    "focus": false,
    "id": "94514384-cf79-4e7a-a09b-02cddc91e77c"
   },
   "source": [
    "##### Write a brief description of your data, data dictionary, and any interesting observations you've made thus far. "
   ]
  },
  {
   "cell_type": "code",
   "execution_count": null,
   "metadata": {
    "collapsed": false
   },
   "outputs": [],
   "source": [
    "bd_new_index = pd.DataFrame(bd_new_headers)\n",
    "bd_new_index.index = bd_new_index['song_name']\n",
    "del bd_new_index['song_name']\n",
    "bd_new_index.head()"
   ]
  },
  {
   "cell_type": "code",
   "execution_count": null,
   "metadata": {
    "collapsed": false,
    "scrolled": true
   },
   "outputs": [],
   "source": [
    "bd_melted = pd.melt(bd_new_headers, id_vars=['genre', 'artist', 'song_name', 'date_entered', 'days_to_peak', 'date_peaked'], value_vars=list(bd_new_headers.iloc[:, 7:-1]))"
   ]
  },
  {
   "cell_type": "code",
   "execution_count": null,
   "metadata": {
    "collapsed": false
   },
   "outputs": [],
   "source": [
    "bd_melted.head()"
   ]
  },
  {
   "cell_type": "code",
   "execution_count": null,
   "metadata": {
    "collapsed": false
   },
   "outputs": [],
   "source": [
    "bd_melted.describe(include='all')\n",
    "#bd_new_headers.iloc[:,2:-1]"
   ]
  },
  {
   "cell_type": "code",
   "execution_count": null,
   "metadata": {
    "collapsed": false
   },
   "outputs": [],
   "source": [
    "bd_melted_pivot = pd.pivot_table(bd_melted, index=['genre', 'artist', 'song_name', 'days_to_peak'], values='value', aggfunc='count')"
   ]
  },
  {
   "cell_type": "code",
   "execution_count": null,
   "metadata": {
    "collapsed": true
   },
   "outputs": [],
   "source": [
    "# bd_melted_pivot = pd.pivot_table(bd_melted, index=['genre'], values='value', aggfunc='count')"
   ]
  },
  {
   "cell_type": "code",
   "execution_count": null,
   "metadata": {
    "collapsed": false
   },
   "outputs": [],
   "source": [
    "bd_melted_pivot = pd.DataFrame(bd_melted_pivot)"
   ]
  },
  {
   "cell_type": "code",
   "execution_count": null,
   "metadata": {
    "collapsed": false
   },
   "outputs": [],
   "source": [
    "bd_melted_pivot"
   ]
  },
  {
   "cell_type": "code",
   "execution_count": null,
   "metadata": {
    "collapsed": false
   },
   "outputs": [],
   "source": [
    "bd_year_dropped.plot(x=bd_year_dropped['date_entered'], y=bd_year_dropped['date_peaked'])"
   ]
  },
  {
   "cell_type": "code",
   "execution_count": null,
   "metadata": {
    "collapsed": false
   },
   "outputs": [],
   "source": [
    "sns.distplot(bd_m)\n",
    "plt.show()\n",
    "n, bins, patches = plt.hist(bd_melted_pivot['value'], 30, normed=1, facecolor='green', alpha=0.75)"
   ]
  },
  {
   "cell_type": "code",
   "execution_count": null,
   "metadata": {
    "collapsed": false
   },
   "outputs": [],
   "source": [
    "# sns.distplot(bd_melted_pivot_dates)\n",
    "# plt.show()\n",
    "# n, bins, patches = plt.hist(bd_melted_pivot_dates['days_to_peak'], 300, normed=1, facecolor='green', alpha=0.75)"
   ]
  },
  {
   "cell_type": "code",
   "execution_count": null,
   "metadata": {
    "collapsed": false
   },
   "outputs": [],
   "source": [
    "bd_melted_pivot"
   ]
  },
  {
   "cell_type": "code",
   "execution_count": null,
   "metadata": {
    "collapsed": false
   },
   "outputs": [],
   "source": [
    "bd_melted_genre_pivot = pd.DataFrame(pd.pivot_table(bd_melted, index='genre', values='value', aggfunc='count'))"
   ]
  },
  {
   "cell_type": "code",
   "execution_count": null,
   "metadata": {
    "collapsed": false
   },
   "outputs": [],
   "source": [
    "bd_melted_genre_pivot"
   ]
  },
  {
   "cell_type": "code",
   "execution_count": null,
   "metadata": {
    "collapsed": true
   },
   "outputs": [],
   "source": [
    "bd_pivot_genre = pd.pivot_table(bd_melted, index='genre', values='value', aggfunc='count')"
   ]
  },
  {
   "cell_type": "code",
   "execution_count": null,
   "metadata": {
    "collapsed": false
   },
   "outputs": [],
   "source": [
    "sns.distplot(bd_pivot_genre)\n",
    "plt.show()\n",
    "n, bins, patches = plt.hist(bd_pivot_genre[:], 40, normed=1, facecolor='green', alpha=0.75)"
   ]
  },
  {
   "cell_type": "code",
   "execution_count": null,
   "metadata": {
    "collapsed": false
   },
   "outputs": [],
   "source": [
    "#bd_melted_pivot.describe()\n",
    "#pd.to_numeric(bd_new_headers['days_to_peak'])\n",
    "bd_new_headers['days_to_peak'] = bd_new_headers['days_to_peak'].astype('timedelta64[D]')\n"
   ]
  },
  {
   "cell_type": "code",
   "execution_count": null,
   "metadata": {
    "collapsed": false,
    "scrolled": true
   },
   "outputs": [],
   "source": [
    "bd_new_headers['days_to_peak'] = pd.to_numeric(bd_new_headers['days_to_peak'])"
   ]
  },
  {
   "cell_type": "code",
   "execution_count": null,
   "metadata": {
    "collapsed": false
   },
   "outputs": [],
   "source": [
    "bd_melted['days_to_peak'] = pd.to_numeric(bd_melted['days_to_peak'].astype('timedelta64[D]'))"
   ]
  },
  {
   "cell_type": "code",
   "execution_count": null,
   "metadata": {
    "collapsed": false
   },
   "outputs": [],
   "source": [
    "#bd_melted_pivot_dates = pd.pivot_table(bd_melted, index=['genre','artist', 'song_name'], values=['days_to_peak'])"
   ]
  },
  {
   "cell_type": "code",
   "execution_count": null,
   "metadata": {
    "collapsed": false
   },
   "outputs": [],
   "source": [
    "# dates = bd_new_headers['date_entered', 'date_peaked']"
   ]
  },
  {
   "cell_type": "code",
   "execution_count": null,
   "metadata": {
    "collapsed": true
   },
   "outputs": [],
   "source": [
    "bd_year_dropped['track_length'] = pd.to_datetime(bd_year_dropped['track_length'])"
   ]
  },
  {
   "cell_type": "code",
   "execution_count": null,
   "metadata": {
    "collapsed": true
   },
   "outputs": [],
   "source": [
    "bd_year_dropped['track_length'].dt.minute & bd_year_dropped['track_length'].dt.minute"
   ]
  },
  {
   "cell_type": "code",
   "execution_count": null,
   "metadata": {
    "collapsed": true
   },
   "outputs": [],
   "source": []
  },
  {
   "cell_type": "markdown",
   "metadata": {
    "focus": false,
    "id": "888b6223-3bb4-4d91-b753-4867a3a1b281"
   },
   "source": [
    "## Step 2: Clean data"
   ]
  },
  {
   "cell_type": "markdown",
   "metadata": {
    "focus": false,
    "id": "8a273328-6d9f-4dfc-88f8-a0c18e4d7f90"
   },
   "source": [
    "##### Do some rudimentary cleaning. Rename any columns that are poorly named, shorten any strings that are too long, and check for missing values (replace them and explain rationale if it makes sense)."
   ]
  },
  {
   "cell_type": "code",
   "execution_count": null,
   "metadata": {
    "collapsed": true,
    "focus": false,
    "id": "00022458-8edc-4f84-8492-0be04397fa64"
   },
   "outputs": [],
   "source": []
  },
  {
   "cell_type": "markdown",
   "metadata": {
    "focus": false,
    "id": "604ee5d7-10ed-4d14-9f86-16a6b240c00d"
   },
   "source": [
    "##### Using Pandas' built in `melt` function, pivot the weekly ranking data to be long rather than wide. As a result, you will have removed the 72 'week' columns and replace it with two: Week and Ranking. There will now be multiple entries for each song, one for each week on the Billboard rankings."
   ]
  },
  {
   "cell_type": "code",
   "execution_count": null,
   "metadata": {
    "collapsed": true,
    "focus": false,
    "id": "bf0161ca-0fcb-4883-a216-93fd7ffa6456"
   },
   "outputs": [],
   "source": []
  },
  {
   "cell_type": "markdown",
   "metadata": {
    "focus": false,
    "id": "2023c5a8-1f4e-4d83-9a52-c41a5090af74"
   },
   "source": [
    "## Step 3: Visualize your data."
   ]
  },
  {
   "cell_type": "markdown",
   "metadata": {
    "focus": false,
    "id": "dfaca026-8eca-4119-b4c1-e43433790c8e"
   },
   "source": [
    "##### Using BOTH a Tableau Dashboard and python, create visualizations that will provide context to your data. There is no minimum or maximum number of graphs you should generate, but there should be a clear and consistent story being told. Give insights to the distribution, statistics, and relationships of the data. "
   ]
  },
  {
   "cell_type": "code",
   "execution_count": null,
   "metadata": {
    "collapsed": true,
    "focus": false,
    "id": "aa0c535c-497c-4f10-b695-540612ca534e"
   },
   "outputs": [],
   "source": []
  },
  {
   "cell_type": "markdown",
   "metadata": {
    "focus": false,
    "id": "8401c631-245b-4560-8971-25cb2406c2ab"
   },
   "source": [
    "## Step 4: Create a Problem Statement.\n",
    "\n",
    "##### Having explored the data, come up with a problem statement that includes risks and assumptions for this data set. You can feel free to introduce data from any other source to support your problem statement, just be sure to provide a link to the origin of the data. Once again- be creative!\n",
    "\n",
    "- Guide: http://www.ceptara.com/blog/how-to-write-problem-statement\n",
    "- Kaggle example: https://www.kaggle.com/c/inria-bci-challenge\n",
    "- Kaggle example: https://www.kaggle.com/c/axa-driver-telematics-analysis"
   ]
  },
  {
   "cell_type": "code",
   "execution_count": null,
   "metadata": {
    "collapsed": true,
    "focus": false,
    "id": "e1b81214-9b26-4735-8c1b-4482e948b355"
   },
   "outputs": [],
   "source": []
  },
  {
   "cell_type": "markdown",
   "metadata": {
    "collapsed": false,
    "focus": false,
    "id": "a0ff30a0-48be-4851-9ec3-4ce8ece08a67"
   },
   "source": [
    "## Step 5: Brainstorm your Approach.\n",
    "##### In bullet-list form, provide a proposed approach for evaluating your problem statement. This can be somewhat high-level, but start to think about ways you can massage the data for maximum efficacy. "
   ]
  },
  {
   "cell_type": "code",
   "execution_count": null,
   "metadata": {
    "collapsed": true,
    "focus": false,
    "id": "9d772c7b-61e0-4bc4-bb1a-f3d43ba54862"
   },
   "outputs": [],
   "source": []
  },
  {
   "cell_type": "markdown",
   "metadata": {
    "collapsed": true,
    "focus": false,
    "id": "a3c74c5b-3d90-4442-97d9-ae320fe238d1"
   },
   "source": [
    "## Step 6: Create a blog post with your code snippets and visualizations.\n",
    "##### Data Science is a growing field, and the Tech industry thrives off of collaboration and sharing of knowledge. Blogging is a powerful means for pushing the needle forward in our field. Using your blogging platform of choice, create a site and post your process and results. Rather than writing a procedural text, imagine you're describing the data, visualizations, and conclusions you've arrived at to your peers."
   ]
  },
  {
   "cell_type": "code",
   "execution_count": null,
   "metadata": {
    "collapsed": true,
    "focus": false,
    "id": "9b0185e4-7023-4086-b8b7-e15bcacc9984"
   },
   "outputs": [],
   "source": []
  },
  {
   "cell_type": "markdown",
   "metadata": {
    "focus": false,
    "id": "aee61cbf-dfe9-40d3-bfef-772a60bed757"
   },
   "source": [
    "### BONUS: LinkedIn has recognized you as a DS thought leader and asked you to pen a white paper (~500 words) on 'Best Practices for Clean Data'. This will be an opinion piece read by a wide (including semi-technical) audience, so be sure to back up your statements with real world examples or scenarios.\n",
    "\n",
    "##### Hint: Look for online resources (articles, blogs, papers, youtube, podcasts, reddit) that will help you understand the challenges and implications of dealing with big data and missing data. This should be a personal reflection on everything you've learned this week, and the learning goals that have been set out for you going forward. "
   ]
  },
  {
   "cell_type": "markdown",
   "metadata": {
    "collapsed": true,
    "focus": false,
    "id": "28deb393-c994-47bc-87d2-035741ce527c"
   },
   "source": [
    "Score | /24\n",
    "----- | ------\n",
    "Identify: Problem Statement / Hypothesis\t| \t\t\n",
    "Identify: Risks & Assumptions\t\t\t\t| \n",
    "Acquire: Import Data Using Pandas\t\t\t| \n",
    "Parse: Perform EDA Using Pandas\t\t\t\t| \n",
    "Viz: Tableau Dashboard and Plots\t\t\t| \n",
    "Mine: Determine Correlations\t\t\t\t|\n",
    "Refine: Evaluate Findings\t\t\t\t    |\n",
    "Present: Describe Results in Blog Post\t\t|\n",
    "Bonus! Present: Write a short White Paper\t| /5"
   ]
  }
 ],
 "metadata": {
  "anaconda-cloud": {},
  "kernelspec": {
   "display_name": "Python [conda env:py27]",
   "language": "python",
   "name": "conda-env-py27-py"
  },
  "language_info": {
   "codemirror_mode": {
    "name": "ipython",
    "version": 2
   },
   "file_extension": ".py",
   "mimetype": "text/x-python",
   "name": "python",
   "nbconvert_exporter": "python",
   "pygments_lexer": "ipython2",
   "version": "2.7.12"
  }
 },
 "nbformat": 4,
 "nbformat_minor": 0
}

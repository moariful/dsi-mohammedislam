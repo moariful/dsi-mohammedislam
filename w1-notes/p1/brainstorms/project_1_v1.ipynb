{
 "cells": [
  {
   "cell_type": "markdown",
   "metadata": {},
   "source": [
    "# Project 1\n",
    "\n",
    "## Step 1: Open the `sat_scores.csv` file. Investigate the data, and answer the questions below.\n"
   ]
  },
  {
   "cell_type": "markdown",
   "metadata": {},
   "source": [
    "##### 1. What does the data describe?"
   ]
  },
  {
   "cell_type": "markdown",
   "metadata": {},
   "source": []
  },
  {
   "cell_type": "markdown",
   "metadata": {},
   "source": [
    "##### 2. Does the data look complete? Are there any obvious issues with the observations?"
   ]
  },
  {
   "cell_type": "markdown",
   "metadata": {},
   "source": []
  },
  {
   "cell_type": "markdown",
   "metadata": {},
   "source": [
    "##### 3. Create a data dictionary for the dataset."
   ]
  },
  {
   "cell_type": "markdown",
   "metadata": {
    "collapsed": true
   },
   "source": []
  },
  {
   "cell_type": "markdown",
   "metadata": {},
   "source": [
    "## Step 2: Load the data."
   ]
  },
  {
   "cell_type": "markdown",
   "metadata": {},
   "source": [
    "##### 4. Load the data into a list of lists"
   ]
  },
  {
   "cell_type": "code",
   "execution_count": 1,
   "metadata": {
    "collapsed": false
   },
   "outputs": [],
   "source": [
    "import csv\n",
    "with open(\"../assets/sat_scores.csv\", \"r\") as f:\n",
    "    reader = csv.reader(f)\n",
    "    data = []\n",
    "    for row in reader:\n",
    "        data.append(row)"
   ]
  },
  {
   "cell_type": "markdown",
   "metadata": {},
   "source": [
    "##### 5. Print the data"
   ]
  },
  {
   "cell_type": "code",
   "execution_count": 2,
   "metadata": {
    "collapsed": true
   },
   "outputs": [
    {
     "data": {
      "text/plain": [
       "[['State', 'Rate', 'Verbal', 'Math'],\n",
       " ['CT', '82', '509', '510'],\n",
       " ['NJ', '81', '499', '513'],\n",
       " ['MA', '79', '511', '515'],\n",
       " ['NY', '77', '495', '505'],\n",
       " ['NH', '72', '520', '516'],\n",
       " ['RI', '71', '501', '499'],\n",
       " ['PA', '71', '500', '499'],\n",
       " ['VT', '69', '511', '506'],\n",
       " ['ME', '69', '506', '500'],\n",
       " ['VA', '68', '510', '501'],\n",
       " ['DE', '67', '501', '499'],\n",
       " ['MD', '65', '508', '510'],\n",
       " ['NC', '65', '493', '499'],\n",
       " ['GA', '63', '491', '489'],\n",
       " ['IN', '60', '499', '501'],\n",
       " ['SC', '57', '486', '488'],\n",
       " ['DC', '56', '482', '474'],\n",
       " ['OR', '55', '526', '526'],\n",
       " ['FL', '54', '498', '499'],\n",
       " ['WA', '53', '527', '527'],\n",
       " ['TX', '53', '493', '499'],\n",
       " ['HI', '52', '485', '515'],\n",
       " ['AK', '51', '514', '510'],\n",
       " ['CA', '51', '498', '517'],\n",
       " ['AZ', '34', '523', '525'],\n",
       " ['NV', '33', '509', '515'],\n",
       " ['CO', '31', '539', '542'],\n",
       " ['OH', '26', '534', '439'],\n",
       " ['MT', '23', '539', '539'],\n",
       " ['WV', '18', '527', '512'],\n",
       " ['ID', '17', '543', '542'],\n",
       " ['TN', '13', '562', '553'],\n",
       " ['NM', '13', '551', '542'],\n",
       " ['IL', '12', '576', '589'],\n",
       " ['KY', '12', '550', '550'],\n",
       " ['WY', '11', '547', '545'],\n",
       " ['MI', '11', '561', '572'],\n",
       " ['MN', '9', '580', '589'],\n",
       " ['KS', '9', '577', '580'],\n",
       " ['AL', '9', '559', '554'],\n",
       " ['NE', '8', '562', '568'],\n",
       " ['OK', '8', '567', '561'],\n",
       " ['MO', '8', '577', '577'],\n",
       " ['LA', '7', '564', '562'],\n",
       " ['WI', '6', '584', '596'],\n",
       " ['AR', '6', '562', '550'],\n",
       " ['UT', '5', '575', '570'],\n",
       " ['IA', '5', '593', '603'],\n",
       " ['SD', '4', '577', '582'],\n",
       " ['ND', '4', '592', '599'],\n",
       " ['MS', '4', '566', '551'],\n",
       " ['All', '45', '506', '514']]"
      ]
     },
     "execution_count": 2,
     "metadata": {},
     "output_type": "execute_result"
    }
   ],
   "source": [
    "data"
   ]
  },
  {
   "cell_type": "markdown",
   "metadata": {
    "collapsed": true
   },
   "source": [
    "##### 6. Extract a list of the labels from the data, and remove them from the data."
   ]
  },
  {
   "cell_type": "code",
   "execution_count": 3,
   "metadata": {
    "collapsed": false
   },
   "outputs": [],
   "source": [
    "labels = data[0]\n",
    "data_no_label = data[1:]"
   ]
  },
  {
   "cell_type": "markdown",
   "metadata": {},
   "source": [
    "##### 7. Create a list of State names extracted from the data. (Hint: use the list of labels to index on the State column)"
   ]
  },
  {
   "cell_type": "code",
   "execution_count": 4,
   "metadata": {
    "collapsed": false
   },
   "outputs": [],
   "source": [
    "states = [row[0] for row in data]"
   ]
  },
  {
   "cell_type": "code",
   "execution_count": 5,
   "metadata": {
    "collapsed": true
   },
   "outputs": [
    {
     "data": {
      "text/plain": [
       "['State',\n",
       " 'CT',\n",
       " 'NJ',\n",
       " 'MA',\n",
       " 'NY',\n",
       " 'NH',\n",
       " 'RI',\n",
       " 'PA',\n",
       " 'VT',\n",
       " 'ME',\n",
       " 'VA',\n",
       " 'DE',\n",
       " 'MD',\n",
       " 'NC',\n",
       " 'GA',\n",
       " 'IN',\n",
       " 'SC',\n",
       " 'DC',\n",
       " 'OR',\n",
       " 'FL',\n",
       " 'WA',\n",
       " 'TX',\n",
       " 'HI',\n",
       " 'AK',\n",
       " 'CA',\n",
       " 'AZ',\n",
       " 'NV',\n",
       " 'CO',\n",
       " 'OH',\n",
       " 'MT',\n",
       " 'WV',\n",
       " 'ID',\n",
       " 'TN',\n",
       " 'NM',\n",
       " 'IL',\n",
       " 'KY',\n",
       " 'WY',\n",
       " 'MI',\n",
       " 'MN',\n",
       " 'KS',\n",
       " 'AL',\n",
       " 'NE',\n",
       " 'OK',\n",
       " 'MO',\n",
       " 'LA',\n",
       " 'WI',\n",
       " 'AR',\n",
       " 'UT',\n",
       " 'IA',\n",
       " 'SD',\n",
       " 'ND',\n",
       " 'MS',\n",
       " 'All']"
      ]
     },
     "execution_count": 5,
     "metadata": {},
     "output_type": "execute_result"
    }
   ],
   "source": [
    "states"
   ]
  },
  {
   "cell_type": "markdown",
   "metadata": {},
   "source": [
    "##### 8. Print the types of each column"
   ]
  },
  {
   "cell_type": "code",
   "execution_count": 6,
   "metadata": {
    "collapsed": false
   },
   "outputs": [
    {
     "name": "stdout",
     "output_type": "stream",
     "text": [
      "('State', <type 'str'>)\n",
      "('State', <type 'str'>)\n",
      "('State', <type 'str'>)\n",
      "('State', <type 'str'>)\n",
      "('State', <type 'str'>)\n",
      "('State', <type 'str'>)\n",
      "('State', <type 'str'>)\n",
      "('State', <type 'str'>)\n",
      "('State', <type 'str'>)\n",
      "('State', <type 'str'>)\n",
      "('State', <type 'str'>)\n",
      "('State', <type 'str'>)\n",
      "('State', <type 'str'>)\n",
      "('State', <type 'str'>)\n",
      "('State', <type 'str'>)\n",
      "('State', <type 'str'>)\n",
      "('State', <type 'str'>)\n",
      "('State', <type 'str'>)\n",
      "('State', <type 'str'>)\n",
      "('State', <type 'str'>)\n",
      "('State', <type 'str'>)\n",
      "('State', <type 'str'>)\n",
      "('State', <type 'str'>)\n",
      "('State', <type 'str'>)\n",
      "('State', <type 'str'>)\n",
      "('State', <type 'str'>)\n",
      "('State', <type 'str'>)\n",
      "('State', <type 'str'>)\n",
      "('State', <type 'str'>)\n",
      "('State', <type 'str'>)\n",
      "('State', <type 'str'>)\n",
      "('State', <type 'str'>)\n",
      "('State', <type 'str'>)\n",
      "('State', <type 'str'>)\n",
      "('State', <type 'str'>)\n",
      "('State', <type 'str'>)\n",
      "('State', <type 'str'>)\n",
      "('State', <type 'str'>)\n",
      "('State', <type 'str'>)\n",
      "('State', <type 'str'>)\n",
      "('State', <type 'str'>)\n",
      "('State', <type 'str'>)\n",
      "('State', <type 'str'>)\n",
      "('State', <type 'str'>)\n",
      "('State', <type 'str'>)\n",
      "('State', <type 'str'>)\n",
      "('State', <type 'str'>)\n",
      "('State', <type 'str'>)\n",
      "('State', <type 'str'>)\n",
      "('State', <type 'str'>)\n",
      "('State', <type 'str'>)\n",
      "('State', <type 'str'>)\n",
      "('State', <type 'str'>)\n",
      "('Rate', <type 'str'>)\n",
      "('Rate', <type 'str'>)\n",
      "('Rate', <type 'str'>)\n",
      "('Rate', <type 'str'>)\n",
      "('Rate', <type 'str'>)\n",
      "('Rate', <type 'str'>)\n",
      "('Rate', <type 'str'>)\n",
      "('Rate', <type 'str'>)\n",
      "('Rate', <type 'str'>)\n",
      "('Rate', <type 'str'>)\n",
      "('Rate', <type 'str'>)\n",
      "('Rate', <type 'str'>)\n",
      "('Rate', <type 'str'>)\n",
      "('Rate', <type 'str'>)\n",
      "('Rate', <type 'str'>)\n",
      "('Rate', <type 'str'>)\n",
      "('Rate', <type 'str'>)\n",
      "('Rate', <type 'str'>)\n",
      "('Rate', <type 'str'>)\n",
      "('Rate', <type 'str'>)\n",
      "('Rate', <type 'str'>)\n",
      "('Rate', <type 'str'>)\n",
      "('Rate', <type 'str'>)\n",
      "('Rate', <type 'str'>)\n",
      "('Rate', <type 'str'>)\n",
      "('Rate', <type 'str'>)\n",
      "('Rate', <type 'str'>)\n",
      "('Rate', <type 'str'>)\n",
      "('Rate', <type 'str'>)\n",
      "('Rate', <type 'str'>)\n",
      "('Rate', <type 'str'>)\n",
      "('Rate', <type 'str'>)\n",
      "('Rate', <type 'str'>)\n",
      "('Rate', <type 'str'>)\n",
      "('Rate', <type 'str'>)\n",
      "('Rate', <type 'str'>)\n",
      "('Rate', <type 'str'>)\n",
      "('Rate', <type 'str'>)\n",
      "('Rate', <type 'str'>)\n",
      "('Rate', <type 'str'>)\n",
      "('Rate', <type 'str'>)\n",
      "('Rate', <type 'str'>)\n",
      "('Rate', <type 'str'>)\n",
      "('Rate', <type 'str'>)\n",
      "('Rate', <type 'str'>)\n",
      "('Rate', <type 'str'>)\n",
      "('Rate', <type 'str'>)\n",
      "('Rate', <type 'str'>)\n",
      "('Rate', <type 'str'>)\n",
      "('Rate', <type 'str'>)\n",
      "('Rate', <type 'str'>)\n",
      "('Rate', <type 'str'>)\n",
      "('Rate', <type 'str'>)\n",
      "('Verbal', <type 'str'>)\n",
      "('Verbal', <type 'str'>)\n",
      "('Verbal', <type 'str'>)\n",
      "('Verbal', <type 'str'>)\n",
      "('Verbal', <type 'str'>)\n",
      "('Verbal', <type 'str'>)\n",
      "('Verbal', <type 'str'>)\n",
      "('Verbal', <type 'str'>)\n",
      "('Verbal', <type 'str'>)\n",
      "('Verbal', <type 'str'>)\n",
      "('Verbal', <type 'str'>)\n",
      "('Verbal', <type 'str'>)\n",
      "('Verbal', <type 'str'>)\n",
      "('Verbal', <type 'str'>)\n",
      "('Verbal', <type 'str'>)\n",
      "('Verbal', <type 'str'>)\n",
      "('Verbal', <type 'str'>)\n",
      "('Verbal', <type 'str'>)\n",
      "('Verbal', <type 'str'>)\n",
      "('Verbal', <type 'str'>)\n",
      "('Verbal', <type 'str'>)\n",
      "('Verbal', <type 'str'>)\n",
      "('Verbal', <type 'str'>)\n",
      "('Verbal', <type 'str'>)\n",
      "('Verbal', <type 'str'>)\n",
      "('Verbal', <type 'str'>)\n",
      "('Verbal', <type 'str'>)\n",
      "('Verbal', <type 'str'>)\n",
      "('Verbal', <type 'str'>)\n",
      "('Verbal', <type 'str'>)\n",
      "('Verbal', <type 'str'>)\n",
      "('Verbal', <type 'str'>)\n",
      "('Verbal', <type 'str'>)\n",
      "('Verbal', <type 'str'>)\n",
      "('Verbal', <type 'str'>)\n",
      "('Verbal', <type 'str'>)\n",
      "('Verbal', <type 'str'>)\n",
      "('Verbal', <type 'str'>)\n",
      "('Verbal', <type 'str'>)\n",
      "('Verbal', <type 'str'>)\n",
      "('Verbal', <type 'str'>)\n",
      "('Verbal', <type 'str'>)\n",
      "('Verbal', <type 'str'>)\n",
      "('Verbal', <type 'str'>)\n",
      "('Verbal', <type 'str'>)\n",
      "('Verbal', <type 'str'>)\n",
      "('Verbal', <type 'str'>)\n",
      "('Verbal', <type 'str'>)\n",
      "('Verbal', <type 'str'>)\n",
      "('Verbal', <type 'str'>)\n",
      "('Verbal', <type 'str'>)\n",
      "('Verbal', <type 'str'>)\n",
      "('Verbal', <type 'str'>)\n",
      "('Math', <type 'str'>)\n",
      "('Math', <type 'str'>)\n",
      "('Math', <type 'str'>)\n",
      "('Math', <type 'str'>)\n",
      "('Math', <type 'str'>)\n",
      "('Math', <type 'str'>)\n",
      "('Math', <type 'str'>)\n",
      "('Math', <type 'str'>)\n",
      "('Math', <type 'str'>)\n",
      "('Math', <type 'str'>)\n",
      "('Math', <type 'str'>)\n",
      "('Math', <type 'str'>)\n",
      "('Math', <type 'str'>)\n",
      "('Math', <type 'str'>)\n",
      "('Math', <type 'str'>)\n",
      "('Math', <type 'str'>)\n",
      "('Math', <type 'str'>)\n",
      "('Math', <type 'str'>)\n",
      "('Math', <type 'str'>)\n",
      "('Math', <type 'str'>)\n",
      "('Math', <type 'str'>)\n",
      "('Math', <type 'str'>)\n",
      "('Math', <type 'str'>)\n",
      "('Math', <type 'str'>)\n",
      "('Math', <type 'str'>)\n",
      "('Math', <type 'str'>)\n",
      "('Math', <type 'str'>)\n",
      "('Math', <type 'str'>)\n",
      "('Math', <type 'str'>)\n",
      "('Math', <type 'str'>)\n",
      "('Math', <type 'str'>)\n",
      "('Math', <type 'str'>)\n",
      "('Math', <type 'str'>)\n",
      "('Math', <type 'str'>)\n",
      "('Math', <type 'str'>)\n",
      "('Math', <type 'str'>)\n",
      "('Math', <type 'str'>)\n",
      "('Math', <type 'str'>)\n",
      "('Math', <type 'str'>)\n",
      "('Math', <type 'str'>)\n",
      "('Math', <type 'str'>)\n",
      "('Math', <type 'str'>)\n",
      "('Math', <type 'str'>)\n",
      "('Math', <type 'str'>)\n",
      "('Math', <type 'str'>)\n",
      "('Math', <type 'str'>)\n",
      "('Math', <type 'str'>)\n",
      "('Math', <type 'str'>)\n",
      "('Math', <type 'str'>)\n",
      "('Math', <type 'str'>)\n",
      "('Math', <type 'str'>)\n",
      "('Math', <type 'str'>)\n",
      "('Math', <type 'str'>)\n"
     ]
    }
   ],
   "source": [
    "# print(type(sat_data['State'][0]))\n",
    "# print(type(sat_data['Rate']))\n",
    "# wanted_keys = ['Math', 'Verbal']\n",
    "# new_dict = {k: sat_data[k] for k in set(wanted_keys)}\n",
    "# type(labels[0])\n",
    "# #new_dict\n",
    "# #sat_data\n",
    "# type(data_no_label[0][0])\n",
    "# for d in data_no_label:\n",
    "#     print(type(data_no_label[0][0]))\n",
    "for index, column in enumerate(labels):\n",
    "    for d in data:\n",
    "        print(column, type(d[index]))    "
   ]
  },
  {
   "cell_type": "markdown",
   "metadata": {},
   "source": [
    "##### 9. Do any types need to be reassigned? If so, go ahead and do it."
   ]
  },
  {
   "cell_type": "code",
   "execution_count": 7,
   "metadata": {
    "collapsed": false
   },
   "outputs": [
    {
     "ename": "ValueError",
     "evalue": "invalid literal for int() with base 10: 'Rate'",
     "output_type": "error",
     "traceback": [
      "\u001b[0;31m---------------------------------------------------------------------------\u001b[0m",
      "\u001b[0;31mValueError\u001b[0m                                Traceback (most recent call last)",
      "\u001b[0;32m<ipython-input-7-eb947804c0fb>\u001b[0m in \u001b[0;36m<module>\u001b[0;34m()\u001b[0m\n\u001b[1;32m      2\u001b[0m     \u001b[0;32mfor\u001b[0m \u001b[0md\u001b[0m \u001b[0;32min\u001b[0m \u001b[0mdata\u001b[0m\u001b[0;34m:\u001b[0m\u001b[0;34m\u001b[0m\u001b[0m\n\u001b[1;32m      3\u001b[0m         \u001b[0;32mif\u001b[0m \u001b[0mcolumn\u001b[0m \u001b[0;34m!=\u001b[0m \u001b[0;34m'State'\u001b[0m\u001b[0;34m:\u001b[0m\u001b[0;34m\u001b[0m\u001b[0m\n\u001b[0;32m----> 4\u001b[0;31m             \u001b[0md\u001b[0m\u001b[0;34m[\u001b[0m\u001b[0mindex\u001b[0m\u001b[0;34m]\u001b[0m \u001b[0;34m=\u001b[0m \u001b[0mint\u001b[0m\u001b[0;34m(\u001b[0m\u001b[0md\u001b[0m\u001b[0;34m[\u001b[0m\u001b[0mindex\u001b[0m\u001b[0;34m]\u001b[0m\u001b[0;34m)\u001b[0m\u001b[0;34m\u001b[0m\u001b[0m\n\u001b[0m",
      "\u001b[0;31mValueError\u001b[0m: invalid literal for int() with base 10: 'Rate'"
     ]
    }
   ],
   "source": [
    "for index, column in enumerate(labels):\n",
    "    for d in data:\n",
    "        if column != 'State':\n",
    "            d[index] = intd[index])"
   ]
  },
  {
   "cell_type": "markdown",
   "metadata": {},
   "source": [
    "##### 10. Create a dictionary for each column mapping the State to its respective value for that column. "
   ]
  },
  {
   "cell_type": "markdown",
   "metadata": {
    "collapsed": false
   },
   "source": [
    "state | rate | verbal | math\n",
    "---|---|---|---"
   ]
  },
  {
   "cell_type": "markdown",
   "metadata": {},
   "source": [
    "##### 11. Create a dictionary with the values for each of the numeric columns"
   ]
  },
  {
   "cell_type": "code",
   "execution_count": null,
   "metadata": {
    "collapsed": false
   },
   "outputs": [],
   "source": [
    "wanted_keys = ['Math', 'Verbal', 'Rate']\n",
    "subset = {k: sat_data[k] for k in set(wanted_keys)}\n",
    "sales_data = {}\n",
    "for name, column in subset.items():\n",
    "    sales_data[name] = []\n",
    "    for x in column:\n",
    "        if x != 'Math' and x != 'Verbal' and x != 'Rate':\n",
    "            column = int(x)\n",
    "            sales_data[name].append(column) \n",
    "    \n"
   ]
  },
  {
   "cell_type": "markdown",
   "metadata": {},
   "source": [
    "## Step 3: Describe the data"
   ]
  },
  {
   "cell_type": "markdown",
   "metadata": {},
   "source": [
    "##### 12. Print the min and max of each column"
   ]
  },
  {
   "cell_type": "code",
   "execution_count": null,
   "metadata": {
    "collapsed": false
   },
   "outputs": [],
   "source": []
  },
  {
   "cell_type": "markdown",
   "metadata": {},
   "source": [
    "##### 13. Write a function using only list comprehensions, no loops, to compute Standard Deviation. Print the Standard Deviation of each numeric column."
   ]
  },
  {
   "cell_type": "code",
   "execution_count": null,
   "metadata": {
    "collapsed": false
   },
   "outputs": [],
   "source": []
  },
  {
   "cell_type": "markdown",
   "metadata": {},
   "source": [
    "## Step 4: Visualize the data"
   ]
  },
  {
   "cell_type": "markdown",
   "metadata": {
    "collapsed": true
   },
   "source": [
    "##### 14. Using MatPlotLib and PyPlot, plot the distribution of the Rate using histograms."
   ]
  },
  {
   "cell_type": "code",
   "execution_count": null,
   "metadata": {
    "collapsed": false
   },
   "outputs": [],
   "source": [
    "test"
   ]
  },
  {
   "cell_type": "markdown",
   "metadata": {},
   "source": [
    "##### 15. Plot the Math distribution"
   ]
  },
  {
   "cell_type": "code",
   "execution_count": null,
   "metadata": {
    "collapsed": false
   },
   "outputs": [],
   "source": []
  },
  {
   "cell_type": "markdown",
   "metadata": {},
   "source": [
    "##### 16. Plot the Verbal distribution"
   ]
  },
  {
   "cell_type": "code",
   "execution_count": null,
   "metadata": {
    "collapsed": false
   },
   "outputs": [],
   "source": []
  },
  {
   "cell_type": "markdown",
   "metadata": {},
   "source": [
    "##### 17. What is the typical assumption for data distribution?"
   ]
  },
  {
   "cell_type": "code",
   "execution_count": null,
   "metadata": {
    "collapsed": false
   },
   "outputs": [],
   "source": []
  },
  {
   "cell_type": "markdown",
   "metadata": {},
   "source": [
    "##### 18. Does that distribution hold true for our data?"
   ]
  },
  {
   "cell_type": "code",
   "execution_count": null,
   "metadata": {
    "collapsed": false
   },
   "outputs": [],
   "source": []
  },
  {
   "cell_type": "markdown",
   "metadata": {},
   "source": [
    "##### 19. Plot some scatterplots. **BONUS**: Use a PyPlot `figure` to present multiple plots at once."
   ]
  },
  {
   "cell_type": "code",
   "execution_count": null,
   "metadata": {
    "collapsed": false
   },
   "outputs": [],
   "source": []
  },
  {
   "cell_type": "markdown",
   "metadata": {},
   "source": [
    "##### 20. Are there any interesting relationships to note?"
   ]
  },
  {
   "cell_type": "code",
   "execution_count": null,
   "metadata": {
    "collapsed": false
   },
   "outputs": [],
   "source": []
  },
  {
   "cell_type": "markdown",
   "metadata": {},
   "source": [
    "##### 21. Create box plots for each variable. "
   ]
  },
  {
   "cell_type": "code",
   "execution_count": null,
   "metadata": {
    "collapsed": false
   },
   "outputs": [],
   "source": []
  },
  {
   "cell_type": "markdown",
   "metadata": {},
   "source": [
    "##### BONUS: Using Tableau, create a heat map for each variable using a map of the US. "
   ]
  },
  {
   "cell_type": "code",
   "execution_count": null,
   "metadata": {
    "collapsed": true
   },
   "outputs": [],
   "source": []
  }
 ],
 "metadata": {
  "anaconda-cloud": {},
  "kernelspec": {
   "display_name": "Python [conda env:py27]",
   "language": "python",
   "name": "conda-env-py27-py"
  },
  "language_info": {
   "codemirror_mode": {
    "name": "ipython",
    "version": 2
   },
   "file_extension": ".py",
   "mimetype": "text/x-python",
   "name": "python",
   "nbconvert_exporter": "python",
   "pygments_lexer": "ipython2",
   "version": "2.7.12"
  }
 },
 "nbformat": 4,
 "nbformat_minor": 0
}
